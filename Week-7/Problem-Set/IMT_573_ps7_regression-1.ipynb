{
 "cells": [
  {
   "cell_type": "markdown",
   "id": "1461b6bb",
   "metadata": {},
   "source": [
    "# IMT 573 - Problem Set 7 - Regression"
   ]
  },
  {
   "cell_type": "markdown",
   "id": "1cf60757",
   "metadata": {},
   "source": [
    "### Instructions\n",
    "\n",
    "Before beginning this assignment, please ensure you have access to a working instance of Jupyter Notebooks with Python 3.\n",
    "\n",
    "1. First, replace the “YOUR NAME HERE” text in the next cell with your own full name. Any collaborators must also be listed in this cell.\n",
    "\n",
    "2. Be sure to include well-documented (e.g. commented) code cells, figures, and clearly written text  explanations as necessary. Any figures should be clearly labeled and appropriately referenced within the text. Be sure that each visualization adds value to your written explanation; avoid redundancy – you do no need four different visualizations of the same pattern.\n",
    "\n",
    "3. Collaboration on problem sets and labs is fun, useful, and encouraged. However, each student must turn in an individual write-up in their own words as well as code/work that is their own. Regardless of whether you work with others, what you turn in must be your own work; this includes code and interpretation of results. The names of all collaborators must be listed on each assignment. Do not copy-and-paste from other students’ responses or code - your code should never be on any other student's screen or machine.\n",
    "\n",
    "4. All materials and resources that you use (with the exception of lecture slides) must be appropriately referenced within your assignment.\n",
    "\n",
    "5. Partial credit will be awarded for each question for which a serious attempt at finding an answer has been shown. Students are *strongly* encouraged to attempt each question and document their reasoning process even if they cannot find the correct answer. \n",
    "\n",
    "6. After completing the assignment, ensure that your code can run from start to finish without issue. Restart the kernal and run all cells to double check."
   ]
  },
  {
   "cell_type": "markdown",
   "id": "aadc8a3b",
   "metadata": {},
   "source": [
    "Name: Pratiibh Bassi\n",
    "\n",
    "Collaborators: "
   ]
  },
  {
   "cell_type": "code",
   "execution_count": null,
   "id": "9f16ea92",
   "metadata": {},
   "outputs": [],
   "source": []
  },
  {
   "cell_type": "markdown",
   "id": "96d9bc8b",
   "metadata": {},
   "source": [
    "For this assignment, you'll need (at least) the following packages. If the package does not load, be sure it is properly installed."
   ]
  },
  {
   "cell_type": "code",
   "execution_count": 2,
   "id": "1ea893fd",
   "metadata": {},
   "outputs": [],
   "source": [
    "import pandas as pd\n",
    "import numpy as np\n",
    "import matplotlib.pyplot as plt\n",
    "import seaborn as sns\n",
    "import statsmodels.api as sm"
   ]
  },
  {
   "cell_type": "markdown",
   "id": "2fff2fc9",
   "metadata": {},
   "source": [
    "Previously, we examined police beat data joined with census tracts. In this problem set, we will perform regression analysis on this data.\n",
    "\n"
   ]
  },
  {
   "cell_type": "markdown",
   "id": "3d9c6306",
   "metadata": {},
   "source": [
    "### Problem 1: Load and examine crime data\n",
    "\n",
    "#### (a) Load the beat and census data\n",
    "\n",
    "You'll find a trimmed version of the beats and census data in the `census_beat_data_trimmed.csv` file. Load this data into a DataFrame. Note the variables in the data set."
   ]
  },
  {
   "cell_type": "code",
   "execution_count": 6,
   "id": "cc858ffa",
   "metadata": {
    "scrolled": true
   },
   "outputs": [],
   "source": [
    "data = pd.read_csv(\"../Downloads/census_beat_data_trimmed.csv\")"
   ]
  },
  {
   "cell_type": "code",
   "execution_count": 8,
   "id": "5cab2549-b5cc-4c09-9aed-bc9eddd37454",
   "metadata": {},
   "outputs": [
    {
     "data": {
      "text/html": [
       "<div>\n",
       "<style scoped>\n",
       "    .dataframe tbody tr th:only-of-type {\n",
       "        vertical-align: middle;\n",
       "    }\n",
       "\n",
       "    .dataframe tbody tr th {\n",
       "        vertical-align: top;\n",
       "    }\n",
       "\n",
       "    .dataframe thead th {\n",
       "        text-align: right;\n",
       "    }\n",
       "</style>\n",
       "<table border=\"1\" class=\"dataframe\">\n",
       "  <thead>\n",
       "    <tr style=\"text-align: right;\">\n",
       "      <th></th>\n",
       "      <th>geo_id</th>\n",
       "      <th>pri_offense_desc</th>\n",
       "      <th>year</th>\n",
       "      <th>pop_18_24</th>\n",
       "      <th>pop_25_over</th>\n",
       "      <th>ed_high_sch_grad_higher_25_over</th>\n",
       "      <th>ed_bach_deg_grad_higher_25_over</th>\n",
       "    </tr>\n",
       "  </thead>\n",
       "  <tbody>\n",
       "    <tr>\n",
       "      <th>0</th>\n",
       "      <td>1400000US53033009200</td>\n",
       "      <td>NARC-POSSESS-MARIJU</td>\n",
       "      <td>2012</td>\n",
       "      <td>118</td>\n",
       "      <td>2557</td>\n",
       "      <td>2106</td>\n",
       "      <td>985</td>\n",
       "    </tr>\n",
       "    <tr>\n",
       "      <th>1</th>\n",
       "      <td>1400000US53033003202</td>\n",
       "      <td>ROBBERY-BUSINESS-GUN</td>\n",
       "      <td>2012</td>\n",
       "      <td>181</td>\n",
       "      <td>3656</td>\n",
       "      <td>3656</td>\n",
       "      <td>2506</td>\n",
       "    </tr>\n",
       "    <tr>\n",
       "      <th>2</th>\n",
       "      <td>1400000US53033004600</td>\n",
       "      <td>VEH-THEFT-AUTO</td>\n",
       "      <td>2012</td>\n",
       "      <td>224</td>\n",
       "      <td>2690</td>\n",
       "      <td>2646</td>\n",
       "      <td>2111</td>\n",
       "    </tr>\n",
       "    <tr>\n",
       "      <th>3</th>\n",
       "      <td>1400000US53033008600</td>\n",
       "      <td>DUI-LIQUOR</td>\n",
       "      <td>2012</td>\n",
       "      <td>2975</td>\n",
       "      <td>3436</td>\n",
       "      <td>3316</td>\n",
       "      <td>2154</td>\n",
       "    </tr>\n",
       "    <tr>\n",
       "      <th>4</th>\n",
       "      <td>1400000US53033007502</td>\n",
       "      <td>ROBBERY-RESIDENCE-BODYFORCE</td>\n",
       "      <td>2012</td>\n",
       "      <td>322</td>\n",
       "      <td>2247</td>\n",
       "      <td>2247</td>\n",
       "      <td>1781</td>\n",
       "    </tr>\n",
       "  </tbody>\n",
       "</table>\n",
       "</div>"
      ],
      "text/plain": [
       "                 geo_id             pri_offense_desc  year  pop_18_24  \\\n",
       "0  1400000US53033009200          NARC-POSSESS-MARIJU  2012        118   \n",
       "1  1400000US53033003202         ROBBERY-BUSINESS-GUN  2012        181   \n",
       "2  1400000US53033004600               VEH-THEFT-AUTO  2012        224   \n",
       "3  1400000US53033008600                   DUI-LIQUOR  2012       2975   \n",
       "4  1400000US53033007502  ROBBERY-RESIDENCE-BODYFORCE  2012        322   \n",
       "\n",
       "   pop_25_over  ed_high_sch_grad_higher_25_over  \\\n",
       "0         2557                             2106   \n",
       "1         3656                             3656   \n",
       "2         2690                             2646   \n",
       "3         3436                             3316   \n",
       "4         2247                             2247   \n",
       "\n",
       "   ed_bach_deg_grad_higher_25_over  \n",
       "0                              985  \n",
       "1                             2506  \n",
       "2                             2111  \n",
       "3                             2154  \n",
       "4                             1781  "
      ]
     },
     "execution_count": 8,
     "metadata": {},
     "output_type": "execute_result"
    }
   ],
   "source": [
    "data.head()"
   ]
  },
  {
   "cell_type": "code",
   "execution_count": 10,
   "id": "121fbf0e-b162-4df4-ab6a-d3787e358b3d",
   "metadata": {},
   "outputs": [
    {
     "data": {
      "text/plain": [
       "(347980, 7)"
      ]
     },
     "execution_count": 10,
     "metadata": {},
     "output_type": "execute_result"
    }
   ],
   "source": [
    "data.shape"
   ]
  },
  {
   "cell_type": "markdown",
   "id": "4e12a158",
   "metadata": {},
   "source": [
    "#### (b) Examine years in data\n",
    "\n",
    "Next, examine the years that are present in the dataset. Does it look as though there are years with incomplete or missing data? Filter the data such that it only contains data from the years 2016-2018 (inclusive)."
   ]
  },
  {
   "cell_type": "code",
   "execution_count": 12,
   "id": "3a974737-2b79-4f71-88f0-d717e63f6466",
   "metadata": {},
   "outputs": [
    {
     "data": {
      "text/plain": [
       "geo_id                             0\n",
       "pri_offense_desc                   0\n",
       "year                               0\n",
       "pop_18_24                          0\n",
       "pop_25_over                        0\n",
       "ed_high_sch_grad_higher_25_over    0\n",
       "ed_bach_deg_grad_higher_25_over    0\n",
       "dtype: int64"
      ]
     },
     "execution_count": 12,
     "metadata": {},
     "output_type": "execute_result"
    }
   ],
   "source": [
    "data.isnull().sum()"
   ]
  },
  {
   "cell_type": "code",
   "execution_count": 14,
   "id": "f16cc5c6-2c19-4700-9a00-8bf4aa3bd744",
   "metadata": {},
   "outputs": [
    {
     "data": {
      "text/plain": [
       "year\n",
       "2012    40768\n",
       "2013    45259\n",
       "2014    49101\n",
       "2015    47491\n",
       "2016    48957\n",
       "2017    49959\n",
       "2018    50922\n",
       "2019    15523\n",
       "Name: count, dtype: int64"
      ]
     },
     "execution_count": 14,
     "metadata": {},
     "output_type": "execute_result"
    }
   ],
   "source": [
    "data.year.value_counts().sort_index()"
   ]
  },
  {
   "cell_type": "markdown",
   "id": "7ec1af2b-94f7-43f9-af42-3d8ea4520370",
   "metadata": {},
   "source": [
    "There is a general increase in the number of crimes in the dataset with the exception of 2019, where it appears data for that year is incomplete."
   ]
  },
  {
   "cell_type": "code",
   "execution_count": 26,
   "id": "015196ba-6784-4178-85c3-cd07234ef2b5",
   "metadata": {},
   "outputs": [],
   "source": [
    "data_clean = data.copy()\n",
    "data_clean = data_clean[data_clean.year.isin([2016, 2017, 2018])]"
   ]
  },
  {
   "cell_type": "code",
   "execution_count": 28,
   "id": "15eacfa4-cb3f-48f0-a250-2c6fba39a40e",
   "metadata": {},
   "outputs": [
    {
     "data": {
      "text/plain": [
       "(149838, 7)"
      ]
     },
     "execution_count": 28,
     "metadata": {},
     "output_type": "execute_result"
    }
   ],
   "source": [
    "data_clean.shape"
   ]
  },
  {
   "cell_type": "markdown",
   "id": "ddf8638b-19fb-42ad-b4b4-3ef2d15aa073",
   "metadata": {},
   "source": [
    "#### below are other methods to filter years"
   ]
  },
  {
   "cell_type": "code",
   "execution_count": 33,
   "id": "a92bb927-f904-4af0-a94b-8f814e5d3d8f",
   "metadata": {},
   "outputs": [
    {
     "data": {
      "text/plain": [
       "(149838, 7)"
      ]
     },
     "execution_count": 33,
     "metadata": {},
     "output_type": "execute_result"
    }
   ],
   "source": [
    "census_beat_data_filtered = data[(data['year'] >= 2016) & (data['year'] <= 2018)]\n",
    "census_beat_data_filtered.shape"
   ]
  },
  {
   "cell_type": "code",
   "execution_count": 38,
   "id": "014d5a5f-d649-41e2-9789-50df06cd4dfa",
   "metadata": {},
   "outputs": [
    {
     "data": {
      "text/plain": [
       "(149838, 7)"
      ]
     },
     "execution_count": 38,
     "metadata": {},
     "output_type": "execute_result"
    }
   ],
   "source": [
    "filtered_df = data[data['year'].between(2016, 2018)]\n",
    "filtered_df.shape"
   ]
  },
  {
   "cell_type": "markdown",
   "id": "81095b5c",
   "metadata": {},
   "source": [
    "### Problem 2: Filter and create variables\n",
    "\n",
    "#### (a) Examine crime types\n",
    "\n",
    "For this analysis, we will limit the data to only include crimes of interest. The `pri_offense_desc` variable in the dataset refers to a description of the primary offense in the crimes dataset. This description contains a broad categorization of the crime followed by more specific cateogorizations (separated by hyphens). What are the five most common types of crime in the dataset based only on the broadest cateogorization (i.e. examining categories before the first hyphen)? "
   ]
  },
  {
   "cell_type": "code",
   "execution_count": 41,
   "id": "4aaf6243",
   "metadata": {},
   "outputs": [],
   "source": [
    "data_clean['crime_type'] = data_clean['pri_offense_desc'].str.split('-').str[0]"
   ]
  },
  {
   "cell_type": "code",
   "execution_count": 43,
   "id": "803e4340-1069-40dd-8273-9b0cc9e67d05",
   "metadata": {},
   "outputs": [
    {
     "data": {
      "text/plain": [
       "181960    THEFT\n",
       "181961    THEFT\n",
       "181962    THEFT\n",
       "181963    THEFT\n",
       "181964    THEFT\n",
       "Name: crime_type, dtype: object"
      ]
     },
     "execution_count": 43,
     "metadata": {},
     "output_type": "execute_result"
    }
   ],
   "source": [
    "data_clean['crime_type'].head()"
   ]
  },
  {
   "cell_type": "code",
   "execution_count": 45,
   "id": "0932f5aa-3bf5-455b-9544-46354bccf53b",
   "metadata": {},
   "outputs": [
    {
     "data": {
      "text/plain": [
       "crime_type\n",
       "THEFT                       79672\n",
       "BURGLARY                    23271\n",
       "VEH                         11633\n",
       "TRESPASS                     8670\n",
       "ASSLT                        7306\n",
       "ROBBERY                      4740\n",
       "NARC                         3612\n",
       "DUI                          3460\n",
       "SEXOFF                       1989\n",
       "CHILD                        1579\n",
       "WEAPON                       1428\n",
       "PROSTITUTION PATRONIZING      557\n",
       "RAPE                          498\n",
       "ARSON                         334\n",
       "PROSTITUTION                  297\n",
       "ADULT                         217\n",
       "LIQUOR LAW VIOLATION          211\n",
       "DISORDERLY CONDUCT             87\n",
       "HOMICIDE                       79\n",
       "PORNOGRAPHY                    57\n",
       "ENDANGERMENT                   43\n",
       "PROSTITUTION LOITERING         25\n",
       "SEX ABUSE MINOR                23\n",
       "INTERFERE WITH REPORT          22\n",
       "LOITERING                      21\n",
       "HARBOR                          3\n",
       "HUMAN                           2\n",
       "GAMBLE                          2\n",
       "Name: count, dtype: int64"
      ]
     },
     "execution_count": 45,
     "metadata": {},
     "output_type": "execute_result"
    }
   ],
   "source": [
    "data_clean['crime_type'].value_counts()"
   ]
  },
  {
   "cell_type": "code",
   "execution_count": null,
   "id": "bcb481f9-a7d7-4722-a1f5-8951bb39b0b8",
   "metadata": {},
   "outputs": [],
   "source": []
  },
  {
   "cell_type": "markdown",
   "id": "adaec3b8",
   "metadata": {},
   "source": [
    "#### (b) Filter by crime type\n",
    "\n",
    "Filter the data so that it only contains the top-3 most frequent of the (broadest) crime categorizations. What are the dimensions of the dataset?"
   ]
  },
  {
   "cell_type": "code",
   "execution_count": 48,
   "id": "68140e13-4acc-40ff-b48c-c7d34521c02b",
   "metadata": {},
   "outputs": [
    {
     "data": {
      "text/plain": [
       "(114576, 8)"
      ]
     },
     "execution_count": 48,
     "metadata": {},
     "output_type": "execute_result"
    }
   ],
   "source": [
    "data_clean = data_clean[data_clean.crime_type.isin(['THEFT', 'BURGLARY', 'VEH'])]\n",
    "data_clean.shape"
   ]
  },
  {
   "cell_type": "markdown",
   "id": "00705767",
   "metadata": {},
   "source": [
    "#### (c) Aggregate data\n",
    "\n",
    "The unit of observation in the crime/census data is individual crimes. We want to analyze the data at the census tract level. That necessitates aggregating the data for each of the census tracts. You may remember we had joined the census data to the crime data for non-specific years (i.e. the data was duplicated across years). To start, create a DataFrame of aggregated data named `data_agg` that has the following columns: \n",
    "\n",
    "- `geo_id` (which you will aggregate by), \n",
    "- `year` (which you will aggregate by), \n",
    "- `pop_18_24` (which can be duplicated for each `geo_id`/`year` combination)\n",
    "- `pop_25_over` (which can be duplicated for each `geo_id`/`year` combination)\n",
    "- `ed_high_sch_grad_higher_25_over` (which can be duplicated for each `geo_id`/`year` combination)\n",
    "- `ed_bach_deg_grad_higher_25_over` (which can be duplicated for each `geo_id`/`year` combination)\n",
    "- `num_crimes` (which will be a count of the number of crimes per `geo_id`/`year` combination)"
   ]
  },
  {
   "cell_type": "code",
   "execution_count": 52,
   "id": "6919fd1f",
   "metadata": {},
   "outputs": [
    {
     "data": {
      "text/plain": [
       "geo_id                year\n",
       "1400000US53033000202  2016    584\n",
       "                      2017    626\n",
       "                      2018    590\n",
       "1400000US53033000602  2016    637\n",
       "                      2017    588\n",
       "Name: num_crimes, dtype: int64"
      ]
     },
     "execution_count": 52,
     "metadata": {},
     "output_type": "execute_result"
    }
   ],
   "source": [
    "data_agg = data_clean[['geo_id', 'year', 'crime_type']].groupby(['geo_id', 'year'])['crime_type'].count()\n",
    "data_agg = data_agg.rename('num_crimes')\n",
    "data_agg.head()"
   ]
  },
  {
   "cell_type": "code",
   "execution_count": 54,
   "id": "4746f59a-7d8f-4dc3-a17b-ab70f30daba5",
   "metadata": {},
   "outputs": [
    {
     "data": {
      "text/plain": [
       "(150,)"
      ]
     },
     "execution_count": 54,
     "metadata": {},
     "output_type": "execute_result"
    }
   ],
   "source": [
    "data_agg.shape"
   ]
  },
  {
   "cell_type": "code",
   "execution_count": 56,
   "id": "a3a19880-30d8-42d7-a61f-eb509f203909",
   "metadata": {},
   "outputs": [],
   "source": [
    "data_maxes = data_clean[['geo_id', 'pop_18_24', 'pop_25_over', 'ed_high_sch_grad_higher_25_over',\n",
    "                        'ed_bach_deg_grad_higher_25_over']].groupby('geo_id').max()"
   ]
  },
  {
   "cell_type": "code",
   "execution_count": 58,
   "id": "75d87c87-eb1b-4eb0-8dc2-f531a35d3dab",
   "metadata": {},
   "outputs": [
    {
     "data": {
      "text/html": [
       "<div>\n",
       "<style scoped>\n",
       "    .dataframe tbody tr th:only-of-type {\n",
       "        vertical-align: middle;\n",
       "    }\n",
       "\n",
       "    .dataframe tbody tr th {\n",
       "        vertical-align: top;\n",
       "    }\n",
       "\n",
       "    .dataframe thead th {\n",
       "        text-align: right;\n",
       "    }\n",
       "</style>\n",
       "<table border=\"1\" class=\"dataframe\">\n",
       "  <thead>\n",
       "    <tr style=\"text-align: right;\">\n",
       "      <th></th>\n",
       "      <th>pop_18_24</th>\n",
       "      <th>pop_25_over</th>\n",
       "      <th>ed_high_sch_grad_higher_25_over</th>\n",
       "      <th>ed_bach_deg_grad_higher_25_over</th>\n",
       "    </tr>\n",
       "    <tr>\n",
       "      <th>geo_id</th>\n",
       "      <th></th>\n",
       "      <th></th>\n",
       "      <th></th>\n",
       "      <th></th>\n",
       "    </tr>\n",
       "  </thead>\n",
       "  <tbody>\n",
       "    <tr>\n",
       "      <th>1400000US53033000202</th>\n",
       "      <td>228</td>\n",
       "      <td>3194</td>\n",
       "      <td>2938</td>\n",
       "      <td>1910</td>\n",
       "    </tr>\n",
       "    <tr>\n",
       "      <th>1400000US53033000602</th>\n",
       "      <td>312</td>\n",
       "      <td>2837</td>\n",
       "      <td>2575</td>\n",
       "      <td>1349</td>\n",
       "    </tr>\n",
       "    <tr>\n",
       "      <th>1400000US53033001100</th>\n",
       "      <td>150</td>\n",
       "      <td>2089</td>\n",
       "      <td>2002</td>\n",
       "      <td>1463</td>\n",
       "    </tr>\n",
       "    <tr>\n",
       "      <th>1400000US53033001201</th>\n",
       "      <td>396</td>\n",
       "      <td>3054</td>\n",
       "      <td>2721</td>\n",
       "      <td>1159</td>\n",
       "    </tr>\n",
       "    <tr>\n",
       "      <th>1400000US53033001400</th>\n",
       "      <td>83</td>\n",
       "      <td>4352</td>\n",
       "      <td>4310</td>\n",
       "      <td>2810</td>\n",
       "    </tr>\n",
       "  </tbody>\n",
       "</table>\n",
       "</div>"
      ],
      "text/plain": [
       "                      pop_18_24  pop_25_over  ed_high_sch_grad_higher_25_over  \\\n",
       "geo_id                                                                          \n",
       "1400000US53033000202        228         3194                             2938   \n",
       "1400000US53033000602        312         2837                             2575   \n",
       "1400000US53033001100        150         2089                             2002   \n",
       "1400000US53033001201        396         3054                             2721   \n",
       "1400000US53033001400         83         4352                             4310   \n",
       "\n",
       "                      ed_bach_deg_grad_higher_25_over  \n",
       "geo_id                                                 \n",
       "1400000US53033000202                             1910  \n",
       "1400000US53033000602                             1349  \n",
       "1400000US53033001100                             1463  \n",
       "1400000US53033001201                             1159  \n",
       "1400000US53033001400                             2810  "
      ]
     },
     "execution_count": 58,
     "metadata": {},
     "output_type": "execute_result"
    }
   ],
   "source": [
    "data_maxes.head()"
   ]
  },
  {
   "cell_type": "code",
   "execution_count": 60,
   "id": "1926b3d8-93a8-423f-afd7-5099a13ff56e",
   "metadata": {},
   "outputs": [
    {
     "data": {
      "text/plain": [
       "(50, 4)"
      ]
     },
     "execution_count": 60,
     "metadata": {},
     "output_type": "execute_result"
    }
   ],
   "source": [
    "data_maxes.shape"
   ]
  },
  {
   "cell_type": "code",
   "execution_count": 62,
   "id": "1a380f20-b9f1-438c-8933-e004134de160",
   "metadata": {},
   "outputs": [],
   "source": [
    "data_agg1 = data_agg.reset_index('year')"
   ]
  },
  {
   "cell_type": "code",
   "execution_count": 64,
   "id": "5c35da97-2c43-461d-a854-39df568a3e89",
   "metadata": {},
   "outputs": [
    {
     "data": {
      "text/html": [
       "<div>\n",
       "<style scoped>\n",
       "    .dataframe tbody tr th:only-of-type {\n",
       "        vertical-align: middle;\n",
       "    }\n",
       "\n",
       "    .dataframe tbody tr th {\n",
       "        vertical-align: top;\n",
       "    }\n",
       "\n",
       "    .dataframe thead th {\n",
       "        text-align: right;\n",
       "    }\n",
       "</style>\n",
       "<table border=\"1\" class=\"dataframe\">\n",
       "  <thead>\n",
       "    <tr style=\"text-align: right;\">\n",
       "      <th></th>\n",
       "      <th>year</th>\n",
       "      <th>num_crimes</th>\n",
       "    </tr>\n",
       "    <tr>\n",
       "      <th>geo_id</th>\n",
       "      <th></th>\n",
       "      <th></th>\n",
       "    </tr>\n",
       "  </thead>\n",
       "  <tbody>\n",
       "    <tr>\n",
       "      <th>1400000US53033000202</th>\n",
       "      <td>2016</td>\n",
       "      <td>584</td>\n",
       "    </tr>\n",
       "    <tr>\n",
       "      <th>1400000US53033000202</th>\n",
       "      <td>2017</td>\n",
       "      <td>626</td>\n",
       "    </tr>\n",
       "    <tr>\n",
       "      <th>1400000US53033000202</th>\n",
       "      <td>2018</td>\n",
       "      <td>590</td>\n",
       "    </tr>\n",
       "    <tr>\n",
       "      <th>1400000US53033000602</th>\n",
       "      <td>2016</td>\n",
       "      <td>637</td>\n",
       "    </tr>\n",
       "    <tr>\n",
       "      <th>1400000US53033000602</th>\n",
       "      <td>2017</td>\n",
       "      <td>588</td>\n",
       "    </tr>\n",
       "  </tbody>\n",
       "</table>\n",
       "</div>"
      ],
      "text/plain": [
       "                      year  num_crimes\n",
       "geo_id                                \n",
       "1400000US53033000202  2016         584\n",
       "1400000US53033000202  2017         626\n",
       "1400000US53033000202  2018         590\n",
       "1400000US53033000602  2016         637\n",
       "1400000US53033000602  2017         588"
      ]
     },
     "execution_count": 64,
     "metadata": {},
     "output_type": "execute_result"
    }
   ],
   "source": [
    "data_agg1.head()"
   ]
  },
  {
   "cell_type": "code",
   "execution_count": 66,
   "id": "75bd7d52-3cf0-4cea-b571-acfda17c2d11",
   "metadata": {},
   "outputs": [],
   "source": [
    "data_agg = data_agg1.join(data_maxes)"
   ]
  },
  {
   "cell_type": "code",
   "execution_count": 68,
   "id": "bd57a090-750b-4eaa-bc54-f0e3a3c0ee37",
   "metadata": {},
   "outputs": [
    {
     "data": {
      "text/html": [
       "<div>\n",
       "<style scoped>\n",
       "    .dataframe tbody tr th:only-of-type {\n",
       "        vertical-align: middle;\n",
       "    }\n",
       "\n",
       "    .dataframe tbody tr th {\n",
       "        vertical-align: top;\n",
       "    }\n",
       "\n",
       "    .dataframe thead th {\n",
       "        text-align: right;\n",
       "    }\n",
       "</style>\n",
       "<table border=\"1\" class=\"dataframe\">\n",
       "  <thead>\n",
       "    <tr style=\"text-align: right;\">\n",
       "      <th></th>\n",
       "      <th>year</th>\n",
       "      <th>num_crimes</th>\n",
       "      <th>pop_18_24</th>\n",
       "      <th>pop_25_over</th>\n",
       "      <th>ed_high_sch_grad_higher_25_over</th>\n",
       "      <th>ed_bach_deg_grad_higher_25_over</th>\n",
       "    </tr>\n",
       "    <tr>\n",
       "      <th>geo_id</th>\n",
       "      <th></th>\n",
       "      <th></th>\n",
       "      <th></th>\n",
       "      <th></th>\n",
       "      <th></th>\n",
       "      <th></th>\n",
       "    </tr>\n",
       "  </thead>\n",
       "  <tbody>\n",
       "    <tr>\n",
       "      <th>1400000US53033000202</th>\n",
       "      <td>2016</td>\n",
       "      <td>584</td>\n",
       "      <td>228</td>\n",
       "      <td>3194</td>\n",
       "      <td>2938</td>\n",
       "      <td>1910</td>\n",
       "    </tr>\n",
       "    <tr>\n",
       "      <th>1400000US53033000202</th>\n",
       "      <td>2017</td>\n",
       "      <td>626</td>\n",
       "      <td>228</td>\n",
       "      <td>3194</td>\n",
       "      <td>2938</td>\n",
       "      <td>1910</td>\n",
       "    </tr>\n",
       "    <tr>\n",
       "      <th>1400000US53033000202</th>\n",
       "      <td>2018</td>\n",
       "      <td>590</td>\n",
       "      <td>228</td>\n",
       "      <td>3194</td>\n",
       "      <td>2938</td>\n",
       "      <td>1910</td>\n",
       "    </tr>\n",
       "    <tr>\n",
       "      <th>1400000US53033000602</th>\n",
       "      <td>2016</td>\n",
       "      <td>637</td>\n",
       "      <td>312</td>\n",
       "      <td>2837</td>\n",
       "      <td>2575</td>\n",
       "      <td>1349</td>\n",
       "    </tr>\n",
       "    <tr>\n",
       "      <th>1400000US53033000602</th>\n",
       "      <td>2017</td>\n",
       "      <td>588</td>\n",
       "      <td>312</td>\n",
       "      <td>2837</td>\n",
       "      <td>2575</td>\n",
       "      <td>1349</td>\n",
       "    </tr>\n",
       "  </tbody>\n",
       "</table>\n",
       "</div>"
      ],
      "text/plain": [
       "                      year  num_crimes  pop_18_24  pop_25_over  \\\n",
       "geo_id                                                           \n",
       "1400000US53033000202  2016         584        228         3194   \n",
       "1400000US53033000202  2017         626        228         3194   \n",
       "1400000US53033000202  2018         590        228         3194   \n",
       "1400000US53033000602  2016         637        312         2837   \n",
       "1400000US53033000602  2017         588        312         2837   \n",
       "\n",
       "                      ed_high_sch_grad_higher_25_over  \\\n",
       "geo_id                                                  \n",
       "1400000US53033000202                             2938   \n",
       "1400000US53033000202                             2938   \n",
       "1400000US53033000202                             2938   \n",
       "1400000US53033000602                             2575   \n",
       "1400000US53033000602                             2575   \n",
       "\n",
       "                      ed_bach_deg_grad_higher_25_over  \n",
       "geo_id                                                 \n",
       "1400000US53033000202                             1910  \n",
       "1400000US53033000202                             1910  \n",
       "1400000US53033000202                             1910  \n",
       "1400000US53033000602                             1349  \n",
       "1400000US53033000602                             1349  "
      ]
     },
     "execution_count": 68,
     "metadata": {},
     "output_type": "execute_result"
    }
   ],
   "source": [
    "data_agg.head()"
   ]
  },
  {
   "cell_type": "code",
   "execution_count": 70,
   "id": "9ae26fe4-8d6f-4cb9-ac53-e2749a16d61b",
   "metadata": {},
   "outputs": [
    {
     "data": {
      "text/plain": [
       "(150, 6)"
      ]
     },
     "execution_count": 70,
     "metadata": {},
     "output_type": "execute_result"
    }
   ],
   "source": [
    "data_agg.shape"
   ]
  },
  {
   "cell_type": "code",
   "execution_count": 74,
   "id": "f3a55e8e-57cf-4e92-a7de-ec07717593ff",
   "metadata": {},
   "outputs": [],
   "source": [
    "#print(data_agg.index)"
   ]
  },
  {
   "cell_type": "markdown",
   "id": "6d1d4544",
   "metadata": {},
   "source": [
    "#### (d) Calculate proportions\n",
    "\n",
    "The `ed_high_sch_grad_higher_25_over` and `ed_bach_deg_grad_higher_25_over` variables refer to counts from the population. Create normalized versions of these variables named `high_sch_grad_prop` and `coll_grad_prop` that are normalized by the population that is 25 years and older in each tract."
   ]
  },
  {
   "cell_type": "code",
   "execution_count": 77,
   "id": "37f2d942-2226-4b71-855d-191277ca3e3c",
   "metadata": {},
   "outputs": [],
   "source": [
    "data_agg['high_sch_grad_prop'] = data_agg['ed_high_sch_grad_higher_25_over'] / data_agg['pop_25_over']"
   ]
  },
  {
   "cell_type": "code",
   "execution_count": 79,
   "id": "6ae5fc49-9492-4f43-a17c-4b7474ad5a93",
   "metadata": {},
   "outputs": [],
   "source": [
    "data_agg['coll_grad_pop'] = data_agg['ed_bach_deg_grad_higher_25_over'] / data_agg['pop_25_over']"
   ]
  },
  {
   "cell_type": "code",
   "execution_count": 81,
   "id": "6cbfc94f-db68-4489-8f8a-c07be10d5223",
   "metadata": {},
   "outputs": [
    {
     "data": {
      "text/html": [
       "<div>\n",
       "<style scoped>\n",
       "    .dataframe tbody tr th:only-of-type {\n",
       "        vertical-align: middle;\n",
       "    }\n",
       "\n",
       "    .dataframe tbody tr th {\n",
       "        vertical-align: top;\n",
       "    }\n",
       "\n",
       "    .dataframe thead th {\n",
       "        text-align: right;\n",
       "    }\n",
       "</style>\n",
       "<table border=\"1\" class=\"dataframe\">\n",
       "  <thead>\n",
       "    <tr style=\"text-align: right;\">\n",
       "      <th></th>\n",
       "      <th>year</th>\n",
       "      <th>num_crimes</th>\n",
       "      <th>pop_18_24</th>\n",
       "      <th>pop_25_over</th>\n",
       "      <th>ed_high_sch_grad_higher_25_over</th>\n",
       "      <th>ed_bach_deg_grad_higher_25_over</th>\n",
       "      <th>high_sch_grad_prop</th>\n",
       "      <th>coll_grad_pop</th>\n",
       "    </tr>\n",
       "    <tr>\n",
       "      <th>geo_id</th>\n",
       "      <th></th>\n",
       "      <th></th>\n",
       "      <th></th>\n",
       "      <th></th>\n",
       "      <th></th>\n",
       "      <th></th>\n",
       "      <th></th>\n",
       "      <th></th>\n",
       "    </tr>\n",
       "  </thead>\n",
       "  <tbody>\n",
       "    <tr>\n",
       "      <th>1400000US53033000202</th>\n",
       "      <td>2016</td>\n",
       "      <td>584</td>\n",
       "      <td>228</td>\n",
       "      <td>3194</td>\n",
       "      <td>2938</td>\n",
       "      <td>1910</td>\n",
       "      <td>0.919850</td>\n",
       "      <td>0.597996</td>\n",
       "    </tr>\n",
       "    <tr>\n",
       "      <th>1400000US53033000202</th>\n",
       "      <td>2017</td>\n",
       "      <td>626</td>\n",
       "      <td>228</td>\n",
       "      <td>3194</td>\n",
       "      <td>2938</td>\n",
       "      <td>1910</td>\n",
       "      <td>0.919850</td>\n",
       "      <td>0.597996</td>\n",
       "    </tr>\n",
       "    <tr>\n",
       "      <th>1400000US53033000202</th>\n",
       "      <td>2018</td>\n",
       "      <td>590</td>\n",
       "      <td>228</td>\n",
       "      <td>3194</td>\n",
       "      <td>2938</td>\n",
       "      <td>1910</td>\n",
       "      <td>0.919850</td>\n",
       "      <td>0.597996</td>\n",
       "    </tr>\n",
       "    <tr>\n",
       "      <th>1400000US53033000602</th>\n",
       "      <td>2016</td>\n",
       "      <td>637</td>\n",
       "      <td>312</td>\n",
       "      <td>2837</td>\n",
       "      <td>2575</td>\n",
       "      <td>1349</td>\n",
       "      <td>0.907649</td>\n",
       "      <td>0.475502</td>\n",
       "    </tr>\n",
       "    <tr>\n",
       "      <th>1400000US53033000602</th>\n",
       "      <td>2017</td>\n",
       "      <td>588</td>\n",
       "      <td>312</td>\n",
       "      <td>2837</td>\n",
       "      <td>2575</td>\n",
       "      <td>1349</td>\n",
       "      <td>0.907649</td>\n",
       "      <td>0.475502</td>\n",
       "    </tr>\n",
       "  </tbody>\n",
       "</table>\n",
       "</div>"
      ],
      "text/plain": [
       "                      year  num_crimes  pop_18_24  pop_25_over  \\\n",
       "geo_id                                                           \n",
       "1400000US53033000202  2016         584        228         3194   \n",
       "1400000US53033000202  2017         626        228         3194   \n",
       "1400000US53033000202  2018         590        228         3194   \n",
       "1400000US53033000602  2016         637        312         2837   \n",
       "1400000US53033000602  2017         588        312         2837   \n",
       "\n",
       "                      ed_high_sch_grad_higher_25_over  \\\n",
       "geo_id                                                  \n",
       "1400000US53033000202                             2938   \n",
       "1400000US53033000202                             2938   \n",
       "1400000US53033000202                             2938   \n",
       "1400000US53033000602                             2575   \n",
       "1400000US53033000602                             2575   \n",
       "\n",
       "                      ed_bach_deg_grad_higher_25_over  high_sch_grad_prop  \\\n",
       "geo_id                                                                      \n",
       "1400000US53033000202                             1910            0.919850   \n",
       "1400000US53033000202                             1910            0.919850   \n",
       "1400000US53033000202                             1910            0.919850   \n",
       "1400000US53033000602                             1349            0.907649   \n",
       "1400000US53033000602                             1349            0.907649   \n",
       "\n",
       "                      coll_grad_pop  \n",
       "geo_id                               \n",
       "1400000US53033000202       0.597996  \n",
       "1400000US53033000202       0.597996  \n",
       "1400000US53033000202       0.597996  \n",
       "1400000US53033000602       0.475502  \n",
       "1400000US53033000602       0.475502  "
      ]
     },
     "execution_count": 81,
     "metadata": {},
     "output_type": "execute_result"
    }
   ],
   "source": [
    "data_agg.head()"
   ]
  },
  {
   "cell_type": "markdown",
   "id": "7a00cc2a",
   "metadata": {},
   "source": [
    "### Problem 3: Integrate household data\n",
    "\n",
    "#### (a) Load and examine data\n",
    "\n",
    "The `household_data.csv` file contains data on the number of households and the number of households with children for the census tracts of interest. Load the data and examine the distributions of the variables (not including `geo_id`)."
   ]
  },
  {
   "cell_type": "code",
   "execution_count": 85,
   "id": "26010ffa",
   "metadata": {},
   "outputs": [],
   "source": [
    "data_households = pd.read_csv('household_data.csv')"
   ]
  },
  {
   "cell_type": "code",
   "execution_count": 87,
   "id": "74fda0e8-5ad9-4084-864e-3bff862e894c",
   "metadata": {},
   "outputs": [
    {
     "data": {
      "text/html": [
       "<div>\n",
       "<style scoped>\n",
       "    .dataframe tbody tr th:only-of-type {\n",
       "        vertical-align: middle;\n",
       "    }\n",
       "\n",
       "    .dataframe tbody tr th {\n",
       "        vertical-align: top;\n",
       "    }\n",
       "\n",
       "    .dataframe thead th {\n",
       "        text-align: right;\n",
       "    }\n",
       "</style>\n",
       "<table border=\"1\" class=\"dataframe\">\n",
       "  <thead>\n",
       "    <tr style=\"text-align: right;\">\n",
       "      <th></th>\n",
       "      <th>geo_id</th>\n",
       "      <th>num_hholds</th>\n",
       "      <th>num_hholds_with_child</th>\n",
       "    </tr>\n",
       "  </thead>\n",
       "  <tbody>\n",
       "    <tr>\n",
       "      <th>0</th>\n",
       "      <td>1400000US53033000202</td>\n",
       "      <td>1651</td>\n",
       "      <td>450</td>\n",
       "    </tr>\n",
       "    <tr>\n",
       "      <th>1</th>\n",
       "      <td>1400000US53033000602</td>\n",
       "      <td>1682</td>\n",
       "      <td>381</td>\n",
       "    </tr>\n",
       "    <tr>\n",
       "      <th>2</th>\n",
       "      <td>1400000US53033001100</td>\n",
       "      <td>1086</td>\n",
       "      <td>267</td>\n",
       "    </tr>\n",
       "    <tr>\n",
       "      <th>3</th>\n",
       "      <td>1400000US53033001201</td>\n",
       "      <td>1968</td>\n",
       "      <td>284</td>\n",
       "    </tr>\n",
       "    <tr>\n",
       "      <th>4</th>\n",
       "      <td>1400000US53033001400</td>\n",
       "      <td>2329</td>\n",
       "      <td>565</td>\n",
       "    </tr>\n",
       "  </tbody>\n",
       "</table>\n",
       "</div>"
      ],
      "text/plain": [
       "                 geo_id  num_hholds  num_hholds_with_child\n",
       "0  1400000US53033000202        1651                    450\n",
       "1  1400000US53033000602        1682                    381\n",
       "2  1400000US53033001100        1086                    267\n",
       "3  1400000US53033001201        1968                    284\n",
       "4  1400000US53033001400        2329                    565"
      ]
     },
     "execution_count": 87,
     "metadata": {},
     "output_type": "execute_result"
    }
   ],
   "source": [
    "data_households.head()"
   ]
  },
  {
   "cell_type": "code",
   "execution_count": 89,
   "id": "d77c8967-c451-43e6-8308-88c460113396",
   "metadata": {},
   "outputs": [
    {
     "data": {
      "text/plain": [
       "(50, 3)"
      ]
     },
     "execution_count": 89,
     "metadata": {},
     "output_type": "execute_result"
    }
   ],
   "source": [
    "data_households.shape"
   ]
  },
  {
   "cell_type": "code",
   "execution_count": 91,
   "id": "d28e02ac-728a-4663-8079-0af9be7b37ff",
   "metadata": {},
   "outputs": [
    {
     "data": {
      "text/plain": [
       "count      50.000000\n",
       "mean     1977.820000\n",
       "std       585.198054\n",
       "min        86.000000\n",
       "25%      1674.500000\n",
       "50%      1945.500000\n",
       "75%      2308.500000\n",
       "max      3164.000000\n",
       "Name: num_hholds, dtype: float64"
      ]
     },
     "execution_count": 91,
     "metadata": {},
     "output_type": "execute_result"
    }
   ],
   "source": [
    "data_households.num_hholds.describe()"
   ]
  },
  {
   "cell_type": "code",
   "execution_count": 93,
   "id": "c1032020-75a0-461f-aa9e-30318ae5fa14",
   "metadata": {},
   "outputs": [
    {
     "data": {
      "text/plain": [
       "count     50.00000\n",
       "mean     345.78000\n",
       "std      215.01175\n",
       "min        6.00000\n",
       "25%      132.50000\n",
       "50%      378.00000\n",
       "75%      528.25000\n",
       "max      831.00000\n",
       "Name: num_hholds_with_child, dtype: float64"
      ]
     },
     "execution_count": 93,
     "metadata": {},
     "output_type": "execute_result"
    }
   ],
   "source": [
    "data_households.num_hholds_with_child.describe()"
   ]
  },
  {
   "cell_type": "code",
   "execution_count": 95,
   "id": "78e03f8c-6278-4f70-bb9c-8343ff7f28ab",
   "metadata": {},
   "outputs": [
    {
     "data": {
      "text/plain": [
       "(100, 2)"
      ]
     },
     "execution_count": 95,
     "metadata": {},
     "output_type": "execute_result"
    }
   ],
   "source": [
    "data_for_plot = data_households[['num_hholds', 'num_hholds_with_child']].copy()\n",
    "data_for_plot = pd.melt(data_for_plot, value_vars = ['num_hholds', 'num_hholds_with_child'])\n",
    "data_for_plot.shape"
   ]
  },
  {
   "cell_type": "code",
   "execution_count": 97,
   "id": "d2d9dcae-46af-49e7-b002-a36b68014ee9",
   "metadata": {},
   "outputs": [
    {
     "name": "stderr",
     "output_type": "stream",
     "text": [
      "C:\\Users\\Pratiibh\\anaconda3\\Lib\\site-packages\\seaborn\\_oldcore.py:1119: FutureWarning: use_inf_as_na option is deprecated and will be removed in a future version. Convert inf values to NaN before operating instead.\n",
      "  with pd.option_context('mode.use_inf_as_na', True):\n"
     ]
    },
    {
     "data": {
      "image/png": "[encoded data removed]",
      "text/plain": [
       "<Figure size 640x480 with 1 Axes>"
      ]
     },
     "metadata": {},
     "output_type": "display_data"
    }
   ],
   "source": [
    "sns.set_style('whitegrid')\n",
    "\n",
    "ax = sns.histplot(data = data_households[['num_hholds', 'num_hholds_with_child']], fill = False, kde = True, binwidth = 500)\n",
    "ax.containers[0].remove()\n",
    "ax.containers[0].remove()\n",
    "ax.set_title('Number of Households');\n",
    "ax.set_xlabel('Number of Households in Tract');"
   ]
  },
  {
   "cell_type": "markdown",
   "id": "f9662db4",
   "metadata": {},
   "source": [
    "#### (b) Join datasets\n",
    "\n",
    "Join the `data_agg` DataFrame and the household data using `geo_id`. Note that we will duplicate the data on households for each `geo_id` across the years in `data_agg`. Name the resulting dataset `data_reg`. What are the dimensions of `data_reg`?"
   ]
  },
  {
   "cell_type": "code",
   "execution_count": 99,
   "id": "9855b351-28d8-42c0-83f9-fec03de5ce9f",
   "metadata": {},
   "outputs": [
    {
     "data": {
      "text/plain": [
       "((150, 8), (50, 3))"
      ]
     },
     "execution_count": 99,
     "metadata": {},
     "output_type": "execute_result"
    }
   ],
   "source": [
    "data_agg.shape, data_households.shape"
   ]
  },
  {
   "cell_type": "code",
   "execution_count": 101,
   "id": "e5096dea-44f4-4f15-8438-87883eae4e15",
   "metadata": {},
   "outputs": [],
   "source": [
    "data_reg = data_agg.merge(data_households, on = 'geo_id')"
   ]
  },
  {
   "cell_type": "code",
   "execution_count": 103,
   "id": "e9a5d7a9-3a4f-4952-b88a-11a9dce99e72",
   "metadata": {},
   "outputs": [
    {
     "data": {
      "text/html": [
       "<div>\n",
       "<style scoped>\n",
       "    .dataframe tbody tr th:only-of-type {\n",
       "        vertical-align: middle;\n",
       "    }\n",
       "\n",
       "    .dataframe tbody tr th {\n",
       "        vertical-align: top;\n",
       "    }\n",
       "\n",
       "    .dataframe thead th {\n",
       "        text-align: right;\n",
       "    }\n",
       "</style>\n",
       "<table border=\"1\" class=\"dataframe\">\n",
       "  <thead>\n",
       "    <tr style=\"text-align: right;\">\n",
       "      <th></th>\n",
       "      <th>geo_id</th>\n",
       "      <th>year</th>\n",
       "      <th>num_crimes</th>\n",
       "      <th>pop_18_24</th>\n",
       "      <th>pop_25_over</th>\n",
       "      <th>ed_high_sch_grad_higher_25_over</th>\n",
       "      <th>ed_bach_deg_grad_higher_25_over</th>\n",
       "      <th>high_sch_grad_prop</th>\n",
       "      <th>coll_grad_pop</th>\n",
       "      <th>num_hholds</th>\n",
       "      <th>num_hholds_with_child</th>\n",
       "    </tr>\n",
       "  </thead>\n",
       "  <tbody>\n",
       "    <tr>\n",
       "      <th>0</th>\n",
       "      <td>1400000US53033000202</td>\n",
       "      <td>2016</td>\n",
       "      <td>584</td>\n",
       "      <td>228</td>\n",
       "      <td>3194</td>\n",
       "      <td>2938</td>\n",
       "      <td>1910</td>\n",
       "      <td>0.919850</td>\n",
       "      <td>0.597996</td>\n",
       "      <td>1651</td>\n",
       "      <td>450</td>\n",
       "    </tr>\n",
       "    <tr>\n",
       "      <th>1</th>\n",
       "      <td>1400000US53033000202</td>\n",
       "      <td>2017</td>\n",
       "      <td>626</td>\n",
       "      <td>228</td>\n",
       "      <td>3194</td>\n",
       "      <td>2938</td>\n",
       "      <td>1910</td>\n",
       "      <td>0.919850</td>\n",
       "      <td>0.597996</td>\n",
       "      <td>1651</td>\n",
       "      <td>450</td>\n",
       "    </tr>\n",
       "    <tr>\n",
       "      <th>2</th>\n",
       "      <td>1400000US53033000202</td>\n",
       "      <td>2018</td>\n",
       "      <td>590</td>\n",
       "      <td>228</td>\n",
       "      <td>3194</td>\n",
       "      <td>2938</td>\n",
       "      <td>1910</td>\n",
       "      <td>0.919850</td>\n",
       "      <td>0.597996</td>\n",
       "      <td>1651</td>\n",
       "      <td>450</td>\n",
       "    </tr>\n",
       "    <tr>\n",
       "      <th>3</th>\n",
       "      <td>1400000US53033000602</td>\n",
       "      <td>2016</td>\n",
       "      <td>637</td>\n",
       "      <td>312</td>\n",
       "      <td>2837</td>\n",
       "      <td>2575</td>\n",
       "      <td>1349</td>\n",
       "      <td>0.907649</td>\n",
       "      <td>0.475502</td>\n",
       "      <td>1682</td>\n",
       "      <td>381</td>\n",
       "    </tr>\n",
       "    <tr>\n",
       "      <th>4</th>\n",
       "      <td>1400000US53033000602</td>\n",
       "      <td>2017</td>\n",
       "      <td>588</td>\n",
       "      <td>312</td>\n",
       "      <td>2837</td>\n",
       "      <td>2575</td>\n",
       "      <td>1349</td>\n",
       "      <td>0.907649</td>\n",
       "      <td>0.475502</td>\n",
       "      <td>1682</td>\n",
       "      <td>381</td>\n",
       "    </tr>\n",
       "  </tbody>\n",
       "</table>\n",
       "</div>"
      ],
      "text/plain": [
       "                 geo_id  year  num_crimes  pop_18_24  pop_25_over  \\\n",
       "0  1400000US53033000202  2016         584        228         3194   \n",
       "1  1400000US53033000202  2017         626        228         3194   \n",
       "2  1400000US53033000202  2018         590        228         3194   \n",
       "3  1400000US53033000602  2016         637        312         2837   \n",
       "4  1400000US53033000602  2017         588        312         2837   \n",
       "\n",
       "   ed_high_sch_grad_higher_25_over  ed_bach_deg_grad_higher_25_over  \\\n",
       "0                             2938                             1910   \n",
       "1                             2938                             1910   \n",
       "2                             2938                             1910   \n",
       "3                             2575                             1349   \n",
       "4                             2575                             1349   \n",
       "\n",
       "   high_sch_grad_prop  coll_grad_pop  num_hholds  num_hholds_with_child  \n",
       "0            0.919850       0.597996        1651                    450  \n",
       "1            0.919850       0.597996        1651                    450  \n",
       "2            0.919850       0.597996        1651                    450  \n",
       "3            0.907649       0.475502        1682                    381  \n",
       "4            0.907649       0.475502        1682                    381  "
      ]
     },
     "execution_count": 103,
     "metadata": {},
     "output_type": "execute_result"
    }
   ],
   "source": [
    "data_reg.head()"
   ]
  },
  {
   "cell_type": "code",
   "execution_count": 105,
   "id": "8d8dfbe4-b524-493d-a10e-01c9bbb9fc62",
   "metadata": {},
   "outputs": [
    {
     "data": {
      "text/plain": [
       "(150, 11)"
      ]
     },
     "execution_count": 105,
     "metadata": {},
     "output_type": "execute_result"
    }
   ],
   "source": [
    "data_reg.shape"
   ]
  },
  {
   "cell_type": "markdown",
   "id": "923e7e58",
   "metadata": {},
   "source": [
    "## Problem 4: Regression\n",
    "\n",
    "#### (a) Simple linear regression\n",
    "\n",
    "Use the `data_reg` data and the following explanatory variables to fit simple linear regression models to predict the number of crimes in a tract: \n",
    "\n",
    "- year\n",
    "- pop_18_24\t\n",
    "- pop_25_over\n",
    "- ed_high_sch_grad_higher_25_over\t\n",
    "- ed_bach_deg_grad_higher_25_over\t\n",
    "- high_sch_grad_prop\t\n",
    "- coll_grad_prop\t\n",
    "- num_hholds\t\n",
    "- num_hholds_with_child\n",
    "\n",
    "In which of the models is there a statistically significant association between the predictor and the response? Why do you think this is?\n",
    "\n",
    "HINT: It may help to iterate using a for loop and storing the results from each model. Then, you can combine the results from each model to examine/compare. "
   ]
  },
  {
   "cell_type": "code",
   "execution_count": 109,
   "id": "a5d4bebf",
   "metadata": {},
   "outputs": [],
   "source": [
    "x = sm.add_constant(data_reg.drop(['num_crimes', 'geo_id'], axis = 1))\n",
    "y = data_reg.num_crimes"
   ]
  },
  {
   "cell_type": "code",
   "execution_count": 111,
   "id": "c9d2abf7-534b-4213-9d1b-d11bec451eaf",
   "metadata": {},
   "outputs": [
    {
     "data": {
      "text/plain": [
       "Index(['const', 'year', 'pop_18_24', 'pop_25_over',\n",
       "       'ed_high_sch_grad_higher_25_over', 'ed_bach_deg_grad_higher_25_over',\n",
       "       'high_sch_grad_prop', 'coll_grad_pop', 'num_hholds',\n",
       "       'num_hholds_with_child'],\n",
       "      dtype='object')"
      ]
     },
     "execution_count": 111,
     "metadata": {},
     "output_type": "execute_result"
    }
   ],
   "source": [
    "x.columns"
   ]
  },
  {
   "cell_type": "code",
   "execution_count": 117,
   "id": "b807519f-8c49-4ecb-8f4d-fb9dd1fe7320",
   "metadata": {},
   "outputs": [],
   "source": [
    "coefs = []\n",
    "for each in x.columns:\n",
    "    model = sm.OLS(y, x[each]).fit()\n",
    "    coef = model.params.values[0]\n",
    "    conf_int_low = model.conf_int()[0].values[0]\n",
    "    conf_int_high = model.conf_int()[1].values[0]\n",
    "    pvalue = model.pvalues.values[0]\n",
    "    coefs.append((each, coef, pvalue, conf_int_low, conf_int_high))"
   ]
  },
  {
   "cell_type": "code",
   "execution_count": 121,
   "id": "eb2f1b71-0f27-44f5-b170-25291eac9e43",
   "metadata": {},
   "outputs": [],
   "source": [
    "coefs = pd.DataFrame(coefs, columns = ['param', 'coef', 'pvalue', 'conf_int_low', 'conf_int_high'])\n",
    "coefs['ci'] = coefs.coef - coefs.conf_int_low"
   ]
  },
  {
   "cell_type": "code",
   "execution_count": 123,
   "id": "8d182403-8bd4-4a52-b039-c6a1aa32ef02",
   "metadata": {},
   "outputs": [
    {
     "data": {
      "text/html": [
       "<div>\n",
       "<style scoped>\n",
       "    .dataframe tbody tr th:only-of-type {\n",
       "        vertical-align: middle;\n",
       "    }\n",
       "\n",
       "    .dataframe tbody tr th {\n",
       "        vertical-align: top;\n",
       "    }\n",
       "\n",
       "    .dataframe thead th {\n",
       "        text-align: right;\n",
       "    }\n",
       "</style>\n",
       "<table border=\"1\" class=\"dataframe\">\n",
       "  <thead>\n",
       "    <tr style=\"text-align: right;\">\n",
       "      <th></th>\n",
       "      <th>param</th>\n",
       "      <th>coef</th>\n",
       "      <th>pvalue</th>\n",
       "      <th>conf_int_low</th>\n",
       "      <th>conf_int_high</th>\n",
       "      <th>ci</th>\n",
       "    </tr>\n",
       "  </thead>\n",
       "  <tbody>\n",
       "    <tr>\n",
       "      <th>0</th>\n",
       "      <td>const</td>\n",
       "      <td>763.840000</td>\n",
       "      <td>2.742763e-68</td>\n",
       "      <td>716.375425</td>\n",
       "      <td>811.304575</td>\n",
       "      <td>47.464575</td>\n",
       "    </tr>\n",
       "    <tr>\n",
       "      <th>1</th>\n",
       "      <td>year</td>\n",
       "      <td>0.378701</td>\n",
       "      <td>2.742294e-68</td>\n",
       "      <td>0.355169</td>\n",
       "      <td>0.402233</td>\n",
       "      <td>0.023532</td>\n",
       "    </tr>\n",
       "    <tr>\n",
       "      <th>2</th>\n",
       "      <td>pop_18_24</td>\n",
       "      <td>0.603739</td>\n",
       "      <td>4.872793e-13</td>\n",
       "      <td>0.453236</td>\n",
       "      <td>0.754241</td>\n",
       "      <td>0.150503</td>\n",
       "    </tr>\n",
       "    <tr>\n",
       "      <th>3</th>\n",
       "      <td>pop_25_over</td>\n",
       "      <td>0.212662</td>\n",
       "      <td>1.245568e-48</td>\n",
       "      <td>0.193551</td>\n",
       "      <td>0.231773</td>\n",
       "      <td>0.019111</td>\n",
       "    </tr>\n",
       "    <tr>\n",
       "      <th>4</th>\n",
       "      <td>ed_high_sch_grad_higher_25_over</td>\n",
       "      <td>0.225000</td>\n",
       "      <td>6.173018e-50</td>\n",
       "      <td>0.205303</td>\n",
       "      <td>0.244698</td>\n",
       "      <td>0.019697</td>\n",
       "    </tr>\n",
       "    <tr>\n",
       "      <th>5</th>\n",
       "      <td>ed_bach_deg_grad_higher_25_over</td>\n",
       "      <td>0.319130</td>\n",
       "      <td>2.497723e-47</td>\n",
       "      <td>0.289683</td>\n",
       "      <td>0.348576</td>\n",
       "      <td>0.029447</td>\n",
       "    </tr>\n",
       "    <tr>\n",
       "      <th>6</th>\n",
       "      <td>high_sch_grad_prop</td>\n",
       "      <td>813.442995</td>\n",
       "      <td>2.191659e-71</td>\n",
       "      <td>765.577069</td>\n",
       "      <td>861.308921</td>\n",
       "      <td>47.865926</td>\n",
       "    </tr>\n",
       "    <tr>\n",
       "      <th>7</th>\n",
       "      <td>coll_grad_pop</td>\n",
       "      <td>1167.286951</td>\n",
       "      <td>1.387964e-67</td>\n",
       "      <td>1093.840514</td>\n",
       "      <td>1240.733388</td>\n",
       "      <td>73.446437</td>\n",
       "    </tr>\n",
       "    <tr>\n",
       "      <th>8</th>\n",
       "      <td>num_hholds</td>\n",
       "      <td>0.356046</td>\n",
       "      <td>1.201552e-54</td>\n",
       "      <td>0.327618</td>\n",
       "      <td>0.384474</td>\n",
       "      <td>0.028428</td>\n",
       "    </tr>\n",
       "    <tr>\n",
       "      <th>9</th>\n",
       "      <td>num_hholds_with_child</td>\n",
       "      <td>1.535421</td>\n",
       "      <td>6.524562e-30</td>\n",
       "      <td>1.324180</td>\n",
       "      <td>1.746662</td>\n",
       "      <td>0.211241</td>\n",
       "    </tr>\n",
       "  </tbody>\n",
       "</table>\n",
       "</div>"
      ],
      "text/plain": [
       "                             param         coef        pvalue  conf_int_low  \\\n",
       "0                            const   763.840000  2.742763e-68    716.375425   \n",
       "1                             year     0.378701  2.742294e-68      0.355169   \n",
       "2                        pop_18_24     0.603739  4.872793e-13      0.453236   \n",
       "3                      pop_25_over     0.212662  1.245568e-48      0.193551   \n",
       "4  ed_high_sch_grad_higher_25_over     0.225000  6.173018e-50      0.205303   \n",
       "5  ed_bach_deg_grad_higher_25_over     0.319130  2.497723e-47      0.289683   \n",
       "6               high_sch_grad_prop   813.442995  2.191659e-71    765.577069   \n",
       "7                    coll_grad_pop  1167.286951  1.387964e-67   1093.840514   \n",
       "8                       num_hholds     0.356046  1.201552e-54      0.327618   \n",
       "9            num_hholds_with_child     1.535421  6.524562e-30      1.324180   \n",
       "\n",
       "   conf_int_high         ci  \n",
       "0     811.304575  47.464575  \n",
       "1       0.402233   0.023532  \n",
       "2       0.754241   0.150503  \n",
       "3       0.231773   0.019111  \n",
       "4       0.244698   0.019697  \n",
       "5       0.348576   0.029447  \n",
       "6     861.308921  47.865926  \n",
       "7    1240.733388  73.446437  \n",
       "8       0.384474   0.028428  \n",
       "9       1.746662   0.211241  "
      ]
     },
     "execution_count": 123,
     "metadata": {},
     "output_type": "execute_result"
    }
   ],
   "source": [
    "coefs"
   ]
  },
  {
   "cell_type": "code",
   "execution_count": 125,
   "id": "82f26164-8608-479e-a0f4-c80b815a4c18",
   "metadata": {},
   "outputs": [
    {
     "data": {
      "image/png": "[encoded data removed]",
      "text/plain": [
       "<Figure size 640x480 with 1 Axes>"
      ]
     },
     "metadata": {},
     "output_type": "display_data"
    }
   ],
   "source": [
    "ax = sns.scatterplot(data = coefs, x = 'param', y = 'coef', )\n",
    "plt.errorbar(data= coefs, x = 'param', y = 'coef', yerr = 'ci', linestyle = 'None')\n",
    "\n",
    "plt.xticks(rotation=90);"
   ]
  },
  {
   "cell_type": "markdown",
   "id": "63c7264d-2682-4307-b841-d0c4e2823865",
   "metadata": {},
   "source": [
    "All variables were deemted to be statistically significant.  This is not surprising, given that these are simple regression models.  As we develop more complex models, the coefficients for these models will change and many will no longer be statistically significant to a meaningful degree."
   ]
  },
  {
   "cell_type": "markdown",
   "id": "f7bc963f",
   "metadata": {},
   "source": [
    "#### (b) Multiple regression\n",
    "\n",
    "Fit a multiple regression model to predict the response using all of the predictors from the previous section. Describe your results. For which predictors can we reject the null hypothesis $H_0: \\beta_j = 0$? Are these the same from the previous section? Explain what may be going on."
   ]
  },
  {
   "cell_type": "code",
   "execution_count": 128,
   "id": "52b48b90-8351-482e-bc67-d04ca78787f7",
   "metadata": {},
   "outputs": [
    {
     "data": {
      "text/html": [
       "<table class=\"simpletable\">\n",
       "<caption>OLS Regression Results</caption>\n",
       "<tr>\n",
       "  <th>Dep. Variable:</th>       <td>num_crimes</td>    <th>  R-squared:         </th> <td>   0.238</td>\n",
       "</tr>\n",
       "<tr>\n",
       "  <th>Model:</th>                   <td>OLS</td>       <th>  Adj. R-squared:    </th> <td>   0.189</td>\n",
       "</tr>\n",
       "<tr>\n",
       "  <th>Method:</th>             <td>Least Squares</td>  <th>  F-statistic:       </th> <td>   4.848</td>\n",
       "</tr>\n",
       "<tr>\n",
       "  <th>Date:</th>             <td>Sat, 17 Aug 2024</td> <th>  Prob (F-statistic):</th> <td>1.20e-05</td>\n",
       "</tr>\n",
       "<tr>\n",
       "  <th>Time:</th>                 <td>00:32:21</td>     <th>  Log-Likelihood:    </th> <td> -1044.6</td>\n",
       "</tr>\n",
       "<tr>\n",
       "  <th>No. Observations:</th>      <td>   150</td>      <th>  AIC:               </th> <td>   2109.</td>\n",
       "</tr>\n",
       "<tr>\n",
       "  <th>Df Residuals:</th>          <td>   140</td>      <th>  BIC:               </th> <td>   2139.</td>\n",
       "</tr>\n",
       "<tr>\n",
       "  <th>Df Model:</th>              <td>     9</td>      <th>                     </th>     <td> </td>   \n",
       "</tr>\n",
       "<tr>\n",
       "  <th>Covariance Type:</th>      <td>nonrobust</td>    <th>                     </th>     <td> </td>   \n",
       "</tr>\n",
       "</table>\n",
       "<table class=\"simpletable\">\n",
       "<tr>\n",
       "                 <td></td>                    <th>coef</th>     <th>std err</th>      <th>t</th>      <th>P>|t|</th>  <th>[0.025</th>    <th>0.975]</th>  \n",
       "</tr>\n",
       "<tr>\n",
       "  <th>const</th>                           <td> 1899.7945</td> <td> 5.35e+04</td> <td>    0.036</td> <td> 0.972</td> <td>-1.04e+05</td> <td> 1.08e+05</td>\n",
       "</tr>\n",
       "<tr>\n",
       "  <th>year</th>                            <td>    0.5800</td> <td>   26.500</td> <td>    0.022</td> <td> 0.983</td> <td>  -51.811</td> <td>   52.971</td>\n",
       "</tr>\n",
       "<tr>\n",
       "  <th>pop_18_24</th>                       <td>   -0.0386</td> <td>    0.046</td> <td>   -0.830</td> <td> 0.408</td> <td>   -0.131</td> <td>    0.053</td>\n",
       "</tr>\n",
       "<tr>\n",
       "  <th>pop_25_over</th>                     <td>   -1.1098</td> <td>    0.416</td> <td>   -2.671</td> <td> 0.008</td> <td>   -1.931</td> <td>   -0.288</td>\n",
       "</tr>\n",
       "<tr>\n",
       "  <th>ed_high_sch_grad_higher_25_over</th> <td>    1.7377</td> <td>    0.523</td> <td>    3.321</td> <td> 0.001</td> <td>    0.703</td> <td>    2.772</td>\n",
       "</tr>\n",
       "<tr>\n",
       "  <th>ed_bach_deg_grad_higher_25_over</th> <td>   -0.7267</td> <td>    0.219</td> <td>   -3.316</td> <td> 0.001</td> <td>   -1.160</td> <td>   -0.293</td>\n",
       "</tr>\n",
       "<tr>\n",
       "  <th>high_sch_grad_prop</th>              <td>-3904.0608</td> <td> 1756.751</td> <td>   -2.222</td> <td> 0.028</td> <td>-7377.251</td> <td> -430.871</td>\n",
       "</tr>\n",
       "<tr>\n",
       "  <th>coll_grad_pop</th>                   <td> 2449.7761</td> <td>  751.817</td> <td>    3.258</td> <td> 0.001</td> <td>  963.394</td> <td> 3936.158</td>\n",
       "</tr>\n",
       "<tr>\n",
       "  <th>num_hholds</th>                      <td>   -0.1154</td> <td>    0.090</td> <td>   -1.277</td> <td> 0.204</td> <td>   -0.294</td> <td>    0.063</td>\n",
       "</tr>\n",
       "<tr>\n",
       "  <th>num_hholds_with_child</th>           <td>   -0.4567</td> <td>    0.194</td> <td>   -2.350</td> <td> 0.020</td> <td>   -0.841</td> <td>   -0.072</td>\n",
       "</tr>\n",
       "</table>\n",
       "<table class=\"simpletable\">\n",
       "<tr>\n",
       "  <th>Omnibus:</th>       <td>32.370</td> <th>  Durbin-Watson:     </th> <td>   0.837</td>\n",
       "</tr>\n",
       "<tr>\n",
       "  <th>Prob(Omnibus):</th> <td> 0.000</td> <th>  Jarque-Bera (JB):  </th> <td>  54.605</td>\n",
       "</tr>\n",
       "<tr>\n",
       "  <th>Skew:</th>          <td> 1.046</td> <th>  Prob(JB):          </th> <td>1.39e-12</td>\n",
       "</tr>\n",
       "<tr>\n",
       "  <th>Kurtosis:</th>      <td> 5.087</td> <th>  Cond. No.          </th> <td>1.45e+07</td>\n",
       "</tr>\n",
       "</table><br/><br/>Notes:<br/>[1] Standard Errors assume that the covariance matrix of the errors is correctly specified.<br/>[2] The condition number is large, 1.45e+07. This might indicate that there are<br/>strong multicollinearity or other numerical problems."
      ],
      "text/latex": [
       "\\begin{center}\n",
       "\\begin{tabular}{lclc}\n",
       "\\toprule\n",
       "\\textbf{Dep. Variable:}                        &   num\\_crimes    & \\textbf{  R-squared:         } &     0.238   \\\\\n",
       "\\textbf{Model:}                                &       OLS        & \\textbf{  Adj. R-squared:    } &     0.189   \\\\\n",
       "\\textbf{Method:}                               &  Least Squares   & \\textbf{  F-statistic:       } &     4.848   \\\\\n",
       "\\textbf{Date:}                                 & Sat, 17 Aug 2024 & \\textbf{  Prob (F-statistic):} &  1.20e-05   \\\\\n",
       "\\textbf{Time:}                                 &     00:32:21     & \\textbf{  Log-Likelihood:    } &   -1044.6   \\\\\n",
       "\\textbf{No. Observations:}                     &         150      & \\textbf{  AIC:               } &     2109.   \\\\\n",
       "\\textbf{Df Residuals:}                         &         140      & \\textbf{  BIC:               } &     2139.   \\\\\n",
       "\\textbf{Df Model:}                             &           9      & \\textbf{                     } &             \\\\\n",
       "\\textbf{Covariance Type:}                      &    nonrobust     & \\textbf{                     } &             \\\\\n",
       "\\bottomrule\n",
       "\\end{tabular}\n",
       "\\begin{tabular}{lcccccc}\n",
       "                                               & \\textbf{coef} & \\textbf{std err} & \\textbf{t} & \\textbf{P$> |$t$|$} & \\textbf{[0.025} & \\textbf{0.975]}  \\\\\n",
       "\\midrule\n",
       "\\textbf{const}                                 &    1899.7945  &     5.35e+04     &     0.036  &         0.972        &    -1.04e+05    &     1.08e+05     \\\\\n",
       "\\textbf{year}                                  &       0.5800  &       26.500     &     0.022  &         0.983        &      -51.811    &       52.971     \\\\\n",
       "\\textbf{pop\\_18\\_24}                           &      -0.0386  &        0.046     &    -0.830  &         0.408        &       -0.131    &        0.053     \\\\\n",
       "\\textbf{pop\\_25\\_over}                         &      -1.1098  &        0.416     &    -2.671  &         0.008        &       -1.931    &       -0.288     \\\\\n",
       "\\textbf{ed\\_high\\_sch\\_grad\\_higher\\_25\\_over} &       1.7377  &        0.523     &     3.321  &         0.001        &        0.703    &        2.772     \\\\\n",
       "\\textbf{ed\\_bach\\_deg\\_grad\\_higher\\_25\\_over} &      -0.7267  &        0.219     &    -3.316  &         0.001        &       -1.160    &       -0.293     \\\\\n",
       "\\textbf{high\\_sch\\_grad\\_prop}                 &   -3904.0608  &     1756.751     &    -2.222  &         0.028        &    -7377.251    &     -430.871     \\\\\n",
       "\\textbf{coll\\_grad\\_pop}                       &    2449.7761  &      751.817     &     3.258  &         0.001        &      963.394    &     3936.158     \\\\\n",
       "\\textbf{num\\_hholds}                           &      -0.1154  &        0.090     &    -1.277  &         0.204        &       -0.294    &        0.063     \\\\\n",
       "\\textbf{num\\_hholds\\_with\\_child}              &      -0.4567  &        0.194     &    -2.350  &         0.020        &       -0.841    &       -0.072     \\\\\n",
       "\\bottomrule\n",
       "\\end{tabular}\n",
       "\\begin{tabular}{lclc}\n",
       "\\textbf{Omnibus:}       & 32.370 & \\textbf{  Durbin-Watson:     } &    0.837  \\\\\n",
       "\\textbf{Prob(Omnibus):} &  0.000 & \\textbf{  Jarque-Bera (JB):  } &   54.605  \\\\\n",
       "\\textbf{Skew:}          &  1.046 & \\textbf{  Prob(JB):          } & 1.39e-12  \\\\\n",
       "\\textbf{Kurtosis:}      &  5.087 & \\textbf{  Cond. No.          } & 1.45e+07  \\\\\n",
       "\\bottomrule\n",
       "\\end{tabular}\n",
       "%\\caption{OLS Regression Results}\n",
       "\\end{center}\n",
       "\n",
       "Notes: \\newline\n",
       " [1] Standard Errors assume that the covariance matrix of the errors is correctly specified. \\newline\n",
       " [2] The condition number is large, 1.45e+07. This might indicate that there are \\newline\n",
       " strong multicollinearity or other numerical problems."
      ],
      "text/plain": [
       "<class 'statsmodels.iolib.summary.Summary'>\n",
       "\"\"\"\n",
       "                            OLS Regression Results                            \n",
       "==============================================================================\n",
       "Dep. Variable:             num_crimes   R-squared:                       0.238\n",
       "Model:                            OLS   Adj. R-squared:                  0.189\n",
       "Method:                 Least Squares   F-statistic:                     4.848\n",
       "Date:                Sat, 17 Aug 2024   Prob (F-statistic):           1.20e-05\n",
       "Time:                        00:32:21   Log-Likelihood:                -1044.6\n",
       "No. Observations:                 150   AIC:                             2109.\n",
       "Df Residuals:                     140   BIC:                             2139.\n",
       "Df Model:                           9                                         \n",
       "Covariance Type:            nonrobust                                         \n",
       "===================================================================================================\n",
       "                                      coef    std err          t      P>|t|      [0.025      0.975]\n",
       "---------------------------------------------------------------------------------------------------\n",
       "const                            1899.7945   5.35e+04      0.036      0.972   -1.04e+05    1.08e+05\n",
       "year                                0.5800     26.500      0.022      0.983     -51.811      52.971\n",
       "pop_18_24                          -0.0386      0.046     -0.830      0.408      -0.131       0.053\n",
       "pop_25_over                        -1.1098      0.416     -2.671      0.008      -1.931      -0.288\n",
       "ed_high_sch_grad_higher_25_over     1.7377      0.523      3.321      0.001       0.703       2.772\n",
       "ed_bach_deg_grad_higher_25_over    -0.7267      0.219     -3.316      0.001      -1.160      -0.293\n",
       "high_sch_grad_prop              -3904.0608   1756.751     -2.222      0.028   -7377.251    -430.871\n",
       "coll_grad_pop                    2449.7761    751.817      3.258      0.001     963.394    3936.158\n",
       "num_hholds                         -0.1154      0.090     -1.277      0.204      -0.294       0.063\n",
       "num_hholds_with_child              -0.4567      0.194     -2.350      0.020      -0.841      -0.072\n",
       "==============================================================================\n",
       "Omnibus:                       32.370   Durbin-Watson:                   0.837\n",
       "Prob(Omnibus):                  0.000   Jarque-Bera (JB):               54.605\n",
       "Skew:                           1.046   Prob(JB):                     1.39e-12\n",
       "Kurtosis:                       5.087   Cond. No.                     1.45e+07\n",
       "==============================================================================\n",
       "\n",
       "Notes:\n",
       "[1] Standard Errors assume that the covariance matrix of the errors is correctly specified.\n",
       "[2] The condition number is large, 1.45e+07. This might indicate that there are\n",
       "strong multicollinearity or other numerical problems.\n",
       "\"\"\""
      ]
     },
     "execution_count": 128,
     "metadata": {},
     "output_type": "execute_result"
    }
   ],
   "source": [
    "model = sm.OLS(y, x).fit()\n",
    "model.summary()"
   ]
  },
  {
   "cell_type": "markdown",
   "id": "2621af78-14ba-4e85-8b91-4248fd31e69d",
   "metadata": {},
   "source": [
    "Most of the variables were still statistically significant except year, pop_18_24, and num_hholds.  As we've increased our model's complexity, it's also changed the extent to which otherwise unimportant variables contributed to our model fit to a meaningful degree.  Another aspect to consider could also be collinearity - an explanatory variable that is not statistically significant may still have a meaningful association with the response variable but is correlated with other explanatory variables, thereby diminishing the degree to which it's noted as being statistically significant in the larger model."
   ]
  },
  {
   "cell_type": "markdown",
   "id": "f276879a",
   "metadata": {},
   "source": [
    "#### (c) Interpret relationships\n",
    "\n",
    "For each of the variables in the multivariate regression model, interpret the relationship between the explanatory variable and the response variable based on the calculated coefficient. Do the relationships make sense to you? What are possible explanations about the observed coefficients?"
   ]
  },
  {
   "cell_type": "markdown",
   "id": "26991896-5543-4ad0-9853-30eb03e37c38",
   "metadata": {},
   "source": [
    "Student response may vary but should address the positive / negative relationships between coefficients and response variable."
   ]
  },
  {
   "cell_type": "markdown",
   "id": "c50cbc6f",
   "metadata": {},
   "source": [
    "#### (d) What about duplication?\n",
    "\n",
    "Though we had crime incident data for each individual year, we duplicated the census and household data for each tract across each year. As such, we assumed that these measures can be assumed to be constant for each tract across the years examined. What are some potential downsides to doing so?"
   ]
  },
  {
   "cell_type": "markdown",
   "id": "ca1d7240-b1cc-48fa-93c4-448322c62c93",
   "metadata": {},
   "source": [
    "Bias, overfitting and potentially higher multicollinearity."
   ]
  },
  {
   "cell_type": "markdown",
   "id": "10dab3ac",
   "metadata": {},
   "source": [
    "#### (e) Examine residuals\n",
    "\n",
    "Plot the residuals for the multiple regression model for each of the following as the x-axis: `year`, `ed_high_sch_grad_higher_25_over`, `coll_grad_prop`. Comment on what you see."
   ]
  },
  {
   "cell_type": "code",
   "execution_count": 136,
   "id": "d6d9a691-78ff-465d-861d-05ac7d4506ee",
   "metadata": {},
   "outputs": [],
   "source": [
    "residuals = model.resid"
   ]
  },
  {
   "cell_type": "code",
   "execution_count": 138,
   "id": "3be5fb5b-8e02-4567-bc82-7b8be46b3caf",
   "metadata": {},
   "outputs": [
    {
     "data": {
      "image/png": "[encoded data removed]",
      "text/plain": [
       "<Figure size 640x480 with 1 Axes>"
      ]
     },
     "metadata": {},
     "output_type": "display_data"
    }
   ],
   "source": [
    "ax = sns.residplot(x = \"year\", y = residuals, data = data_reg, scatter_kws=dict(alpha=0.5))\n",
    "\n",
    "ax.set_ylim([-1100, 1100])\n",
    "ax.set_title('Residuals');\n",
    "ax.set_xlabel('Year');\n",
    "ax.set_ylabel('Num Crimes');"
   ]
  },
  {
   "cell_type": "code",
   "execution_count": 140,
   "id": "f10a3947-0acf-4d40-8adb-0c93aa47aafe",
   "metadata": {},
   "outputs": [
    {
     "data": {
      "image/png": "[encoded data removed]",
      "text/plain": [
       "<Figure size 640x480 with 1 Axes>"
      ]
     },
     "metadata": {},
     "output_type": "display_data"
    }
   ],
   "source": [
    "ax = sns.residplot(x = \"ed_high_sch_grad_higher_25_over\", y = residuals, data = data_reg, scatter_kws=dict(alpha=0.5))\n",
    "\n",
    "ax.set_ylim([-1100, 1100])\n",
    "ax.set_title('Residuals');\n",
    "ax.set_xlabel('High school grads');\n",
    "ax.set_ylabel('Num Crimes');"
   ]
  },
  {
   "cell_type": "code",
   "execution_count": 144,
   "id": "630fcdda-776c-49b2-abf3-ce0f11c8b13b",
   "metadata": {},
   "outputs": [
    {
     "data": {
      "image/png": "[encoded data removed]",
      "text/plain": [
       "<Figure size 640x480 with 1 Axes>"
      ]
     },
     "metadata": {},
     "output_type": "display_data"
    }
   ],
   "source": [
    "ax = sns.residplot(x = \"coll_grad_pop\", y = residuals, data = data_reg, scatter_kws=dict(alpha=0.5))\n",
    "\n",
    "ax.set_ylim([-1100, 1100])\n",
    "ax.set_title('Residuals');\n",
    "ax.set_xlabel('Prop with college degree');\n",
    "ax.set_ylabel('Num Crimes');"
   ]
  },
  {
   "cell_type": "markdown",
   "id": "1e3feb8d",
   "metadata": {},
   "source": [
    "\n"
   ]
  },
  {
   "cell_type": "markdown",
   "id": "2a16caf8-fd81-47b2-8b3f-590b225653b1",
   "metadata": {},
   "source": [
    "There is an obvious pattern with the residuals vs year but that is expected because the data is discrete.  Beyond that, there is no obvious patterns with the residuals."
   ]
  },
  {
   "cell_type": "markdown",
   "id": "4622efba",
   "metadata": {},
   "source": [
    "#### (f) Thinking critically\n",
    "\n",
    "Amidst data features like population are features like educational attainment per tract. This brings to light the fact that there may be specific demographic and socioeconomic variables/characteristics that are also associated with educational attainment. Whether intentional or not, someone looking at this data might infer a link between crime and educational attainment just due to the variables present. Even worse, someone might use the data to support harsh policing policies based on specific demographics or socioeconomic variables. Discuss, in a few paragraphs, how such datasets could be used (1) in a harmful way, and (2) in a beneficial way for society."
   ]
  },
  {
   "cell_type": "markdown",
   "id": "9c455fab-5a88-41c4-847f-bff0900a1096",
   "metadata": {},
   "source": [
    "When datasets include demographic and socioeconomic features like educational attainment, population, and income, there’s a risk of misuse that can reinforce harmful stereotypes and policies. For example, if data shows a correlation between low educational attainment and higher crime rates, it might mistakenly be seen as proof that those with less education are more prone to criminal behavior. This could lead to biased policies, such as increased surveillance or harsher policing in areas with lower educational attainment.\n",
    "\n",
    "However, when used wisely, these datasets can reveal insights that drive positive social change. Identifying correlations between low educational attainment and crime can highlight the need for targeted interventions, such as improving educational opportunities in underserved communities. Policymakers can use this information to fund programs that address root causes of crime, like poverty and lack of access to quality education.\n",
    "\n",
    "While there is potential for misuse that could lead to biased policies, these datasets also hold significant potential for promoting equity if interpreted carefully and applied with a focus on social justice."
   ]
  }
 ],
 "metadata": {
  "kernelspec": {
   "display_name": "Python 3 (ipykernel)",
   "language": "python",
   "name": "python3"
  },
  "language_info": {
   "codemirror_mode": {
    "name": "ipython",
    "version": 3
   },
   "file_extension": ".py",
   "mimetype": "text/x-python",
   "name": "python",
   "nbconvert_exporter": "python",
   "pygments_lexer": "ipython3",
   "version": "3.11.7"
  }
 },
 "nbformat": 4,
 "nbformat_minor": 5
}
