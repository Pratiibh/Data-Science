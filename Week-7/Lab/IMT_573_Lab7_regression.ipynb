{
 "cells": [
  {
   "cell_type": "markdown",
   "id": "1461b6bb",
   "metadata": {},
   "source": [
    "# IMT 573 - Lab 7 - Regression"
   ]
  },
  {
   "cell_type": "markdown",
   "id": "1cf60757",
   "metadata": {},
   "source": [
    "### Instructions\n",
    "\n",
    "Before beginning this assignment, please ensure you have access to a working instance of Jupyter Notebooks with Python 3.\n",
    "\n",
    "1. First, replace the “YOUR NAME HERE” text in the next cell with your own full name. Any collaborators must also be listed in this cell.\n",
    "\n",
    "2. Be sure to include well-documented (e.g. commented) code cells, figures, and clearly written text  explanations as necessary. Any figures should be clearly labeled and appropriately referenced within the text. Be sure that each visualization adds value to your written explanation; avoid redundancy – you do no need four different visualizations of the same pattern.\n",
    "\n",
    "3. Collaboration on problem sets and labs is fun, useful, and encouraged. However, each student must turn in an individual write-up in their own words as well as code/work that is their own. Regardless of whether you work with others, what you turn in must be your own work; this includes code and interpretation of results. The names of all collaborators must be listed on each assignment. Do not copy-and-paste from other students’ responses or code - your code should never be on any other student's screen or machine.\n",
    "\n",
    "4. All materials and resources that you use (with the exception of lecture slides) must be appropriately referenced within your assignment."
   ]
  },
  {
   "cell_type": "markdown",
   "id": "aadc8a3b",
   "metadata": {},
   "source": [
    "Name: Pratiibh Bassi\n",
    "\n",
    "Collaborators: "
   ]
  },
  {
   "cell_type": "code",
   "execution_count": null,
   "id": "9f16ea92",
   "metadata": {},
   "outputs": [],
   "source": []
  },
  {
   "cell_type": "markdown",
   "id": "5bf1646c",
   "metadata": {},
   "source": [
    "In this module, we have focused on statistical modeling. In this lab, you'll explore the concept of regression model using the same baseball data as the previous lab. As a refresher, baseball is a bat-and-ball sport played in countries around the world including the United States, Canada, Cuba, the Dominican Republic, and Japan, to name a few. Baseball is a played between two teams who take turns batting and fielding. The objective of the game is to score \"runs\" by getting on \"bases\" with either \"hits\" or \"walks\". A run is scored when a player advances around the bases and returns to home plate. You can learn more [here](https://en.wikipedia.org/wiki/Baseball).\n",
    "\n",
    "We will use the same dataset of baseball game statistics from 2010-2013 as the previous lab. You can learn more about the dataset at www.retrosheet.org/."
   ]
  },
  {
   "cell_type": "code",
   "execution_count": 2,
   "id": "68cd2378-d8ce-4ac3-9b03-01344490a989",
   "metadata": {},
   "outputs": [],
   "source": [
    "import pandas as pd\n",
    "import statsmodels.api as sm\n",
    "import seaborn as sns"
   ]
  },
  {
   "cell_type": "markdown",
   "id": "5f5aaf0a",
   "metadata": {},
   "source": [
    "### Problem 1: Set up data\n",
    "\n",
    "What is the relationship between the number of at-bats a team gets and the number of runs they score over the course of an entire baseball season? This is the question we will explore in this lab. \n",
    "\n",
    "#### (a) Import data\n",
    "\n",
    "To begin, load the data found in the `GL2010.TXT`, `GL2011.TXT`, `GL2012.TXT`, `GL2013.TXT` into a single dataframe. You can find column names for the data in the `cnames.txt` file. You should ultimately have 9,720 rows of data."
   ]
  },
  {
   "cell_type": "code",
   "execution_count": 10,
   "id": "bff96d04",
   "metadata": {},
   "outputs": [],
   "source": [
    "data_files = ['GL2010.TXT', 'GL2011.TXT', 'GL2012.TXT', 'GL2013.TXT']\n",
    "column_file = 'cnames.txt'"
   ]
  },
  {
   "cell_type": "code",
   "execution_count": 12,
   "id": "93b4fd2f-8645-4352-83da-d161554b438b",
   "metadata": {},
   "outputs": [],
   "source": [
    "columns = pd.read_csv('cnames.txt')"
   ]
  },
  {
   "cell_type": "code",
   "execution_count": 14,
   "id": "87f90ae6-bd15-45d0-8769-d0762f3866d7",
   "metadata": {},
   "outputs": [],
   "source": [
    "data = pd.concat(pd.read_csv(d, header = None) for d in data_files)\n",
    "data.columns = columns.Name"
   ]
  },
  {
   "cell_type": "code",
   "execution_count": 16,
   "id": "6eb8be48-aa03-461b-8dd2-8e95bf484248",
   "metadata": {},
   "outputs": [
    {
     "data": {
      "text/html": [
       "<div>\n",
       "<style scoped>\n",
       "    .dataframe tbody tr th:only-of-type {\n",
       "        vertical-align: middle;\n",
       "    }\n",
       "\n",
       "    .dataframe tbody tr th {\n",
       "        vertical-align: top;\n",
       "    }\n",
       "\n",
       "    .dataframe thead th {\n",
       "        text-align: right;\n",
       "    }\n",
       "</style>\n",
       "<table border=\"1\" class=\"dataframe\">\n",
       "  <thead>\n",
       "    <tr style=\"text-align: right;\">\n",
       "      <th>Name</th>\n",
       "      <th>Date</th>\n",
       "      <th>Numberofgame</th>\n",
       "      <th>Day</th>\n",
       "      <th>Visitor</th>\n",
       "      <th>VisitorLeague</th>\n",
       "      <th>VisitorGameNum</th>\n",
       "      <th>Home</th>\n",
       "      <th>HomeLeague</th>\n",
       "      <th>HomeGameNum</th>\n",
       "      <th>VisitorScore</th>\n",
       "      <th>...</th>\n",
       "      <th>152</th>\n",
       "      <th>153</th>\n",
       "      <th>154</th>\n",
       "      <th>155</th>\n",
       "      <th>156</th>\n",
       "      <th>157</th>\n",
       "      <th>158</th>\n",
       "      <th>159</th>\n",
       "      <th>160</th>\n",
       "      <th>161</th>\n",
       "    </tr>\n",
       "  </thead>\n",
       "  <tbody>\n",
       "    <tr>\n",
       "      <th>0</th>\n",
       "      <td>20100404</td>\n",
       "      <td>0</td>\n",
       "      <td>Sun</td>\n",
       "      <td>NYA</td>\n",
       "      <td>AL</td>\n",
       "      <td>1</td>\n",
       "      <td>BOS</td>\n",
       "      <td>AL</td>\n",
       "      <td>1</td>\n",
       "      <td>7</td>\n",
       "      <td>...</td>\n",
       "      <td>J.D. Drew</td>\n",
       "      <td>9</td>\n",
       "      <td>camem001</td>\n",
       "      <td>Mike Cameron</td>\n",
       "      <td>8</td>\n",
       "      <td>scutm001</td>\n",
       "      <td>Marco Scutaro</td>\n",
       "      <td>6</td>\n",
       "      <td>NaN</td>\n",
       "      <td>Y</td>\n",
       "    </tr>\n",
       "    <tr>\n",
       "      <th>1</th>\n",
       "      <td>20100405</td>\n",
       "      <td>0</td>\n",
       "      <td>Mon</td>\n",
       "      <td>MIN</td>\n",
       "      <td>AL</td>\n",
       "      <td>1</td>\n",
       "      <td>ANA</td>\n",
       "      <td>AL</td>\n",
       "      <td>1</td>\n",
       "      <td>3</td>\n",
       "      <td>...</td>\n",
       "      <td>Howie Kendrick</td>\n",
       "      <td>4</td>\n",
       "      <td>woodb003</td>\n",
       "      <td>Brandon Wood</td>\n",
       "      <td>5</td>\n",
       "      <td>mathj001</td>\n",
       "      <td>Jeff Mathis</td>\n",
       "      <td>2</td>\n",
       "      <td>NaN</td>\n",
       "      <td>Y</td>\n",
       "    </tr>\n",
       "    <tr>\n",
       "      <th>2</th>\n",
       "      <td>20100405</td>\n",
       "      <td>0</td>\n",
       "      <td>Mon</td>\n",
       "      <td>CLE</td>\n",
       "      <td>AL</td>\n",
       "      <td>1</td>\n",
       "      <td>CHA</td>\n",
       "      <td>AL</td>\n",
       "      <td>1</td>\n",
       "      <td>0</td>\n",
       "      <td>...</td>\n",
       "      <td>A.J. Pierzynski</td>\n",
       "      <td>2</td>\n",
       "      <td>teahm001</td>\n",
       "      <td>Mark Teahen</td>\n",
       "      <td>5</td>\n",
       "      <td>ramia003</td>\n",
       "      <td>Alexei Ramirez</td>\n",
       "      <td>6</td>\n",
       "      <td>NaN</td>\n",
       "      <td>Y</td>\n",
       "    </tr>\n",
       "    <tr>\n",
       "      <th>3</th>\n",
       "      <td>20100405</td>\n",
       "      <td>0</td>\n",
       "      <td>Mon</td>\n",
       "      <td>DET</td>\n",
       "      <td>AL</td>\n",
       "      <td>1</td>\n",
       "      <td>KCA</td>\n",
       "      <td>AL</td>\n",
       "      <td>1</td>\n",
       "      <td>8</td>\n",
       "      <td>...</td>\n",
       "      <td>Yuniesky Betancourt</td>\n",
       "      <td>6</td>\n",
       "      <td>kendj001</td>\n",
       "      <td>Jason Kendall</td>\n",
       "      <td>2</td>\n",
       "      <td>getzc001</td>\n",
       "      <td>Chris Getz</td>\n",
       "      <td>4</td>\n",
       "      <td>NaN</td>\n",
       "      <td>Y</td>\n",
       "    </tr>\n",
       "    <tr>\n",
       "      <th>4</th>\n",
       "      <td>20100405</td>\n",
       "      <td>0</td>\n",
       "      <td>Mon</td>\n",
       "      <td>SEA</td>\n",
       "      <td>AL</td>\n",
       "      <td>1</td>\n",
       "      <td>OAK</td>\n",
       "      <td>AL</td>\n",
       "      <td>1</td>\n",
       "      <td>5</td>\n",
       "      <td>...</td>\n",
       "      <td>Mark Ellis</td>\n",
       "      <td>4</td>\n",
       "      <td>buckt001</td>\n",
       "      <td>Travis Buck</td>\n",
       "      <td>7</td>\n",
       "      <td>pennc001</td>\n",
       "      <td>Cliff Pennington</td>\n",
       "      <td>6</td>\n",
       "      <td>NaN</td>\n",
       "      <td>Y</td>\n",
       "    </tr>\n",
       "  </tbody>\n",
       "</table>\n",
       "<p>5 rows × 161 columns</p>\n",
       "</div>"
      ],
      "text/plain": [
       "Name      Date  Numberofgame  Day Visitor VisitorLeague  VisitorGameNum Home  \\\n",
       "0     20100404             0  Sun     NYA            AL               1  BOS   \n",
       "1     20100405             0  Mon     MIN            AL               1  ANA   \n",
       "2     20100405             0  Mon     CLE            AL               1  CHA   \n",
       "3     20100405             0  Mon     DET            AL               1  KCA   \n",
       "4     20100405             0  Mon     SEA            AL               1  OAK   \n",
       "\n",
       "Name HomeLeague  HomeGameNum  VisitorScore  ...                  152  153  \\\n",
       "0            AL            1             7  ...            J.D. Drew    9   \n",
       "1            AL            1             3  ...       Howie Kendrick    4   \n",
       "2            AL            1             0  ...      A.J. Pierzynski    2   \n",
       "3            AL            1             8  ...  Yuniesky Betancourt    6   \n",
       "4            AL            1             5  ...           Mark Ellis    4   \n",
       "\n",
       "Name       154            155  156       157               158  159  160 161  \n",
       "0     camem001   Mike Cameron    8  scutm001     Marco Scutaro    6  NaN   Y  \n",
       "1     woodb003   Brandon Wood    5  mathj001       Jeff Mathis    2  NaN   Y  \n",
       "2     teahm001    Mark Teahen    5  ramia003    Alexei Ramirez    6  NaN   Y  \n",
       "3     kendj001  Jason Kendall    2  getzc001        Chris Getz    4  NaN   Y  \n",
       "4     buckt001    Travis Buck    7  pennc001  Cliff Pennington    6  NaN   Y  \n",
       "\n",
       "[5 rows x 161 columns]"
      ]
     },
     "execution_count": 16,
     "metadata": {},
     "output_type": "execute_result"
    }
   ],
   "source": [
    "data.head()"
   ]
  },
  {
   "cell_type": "code",
   "execution_count": 18,
   "id": "67be4eef-fd61-47c6-b1ad-f204c85a0c85",
   "metadata": {},
   "outputs": [
    {
     "data": {
      "text/plain": [
       "(9720, 161)"
      ]
     },
     "execution_count": 18,
     "metadata": {},
     "output_type": "execute_result"
    }
   ],
   "source": [
    "data.shape"
   ]
  },
  {
   "cell_type": "markdown",
   "id": "f682e99e",
   "metadata": {},
   "source": [
    "#### (b) Pull years\n",
    "\n",
    "For this exercise, we need data for each team (30 in total) for each season in the dataset (4 seasons). Each season is designated by the year in which the games were played, which can be pulled from the `Date` variable. Start by creating a `Year` variable."
   ]
  },
  {
   "cell_type": "code",
   "execution_count": 22,
   "id": "b4dee753-ea22-4e86-89ea-bb536c22b796",
   "metadata": {},
   "outputs": [],
   "source": [
    "data_edited = data.copy()\n",
    "data_edited['Year'] = data_edited['Date'].astype(str).str.slice(0, 4)"
   ]
  },
  {
   "cell_type": "code",
   "execution_count": 24,
   "id": "399fc2a0-884b-47ae-b1f0-02ef591944d8",
   "metadata": {},
   "outputs": [
    {
     "data": {
      "text/html": [
       "<div>\n",
       "<style scoped>\n",
       "    .dataframe tbody tr th:only-of-type {\n",
       "        vertical-align: middle;\n",
       "    }\n",
       "\n",
       "    .dataframe tbody tr th {\n",
       "        vertical-align: top;\n",
       "    }\n",
       "\n",
       "    .dataframe thead th {\n",
       "        text-align: right;\n",
       "    }\n",
       "</style>\n",
       "<table border=\"1\" class=\"dataframe\">\n",
       "  <thead>\n",
       "    <tr style=\"text-align: right;\">\n",
       "      <th>Name</th>\n",
       "      <th>Date</th>\n",
       "      <th>Numberofgame</th>\n",
       "      <th>Day</th>\n",
       "      <th>Visitor</th>\n",
       "      <th>VisitorLeague</th>\n",
       "      <th>VisitorGameNum</th>\n",
       "      <th>Home</th>\n",
       "      <th>HomeLeague</th>\n",
       "      <th>HomeGameNum</th>\n",
       "      <th>VisitorScore</th>\n",
       "      <th>...</th>\n",
       "      <th>153</th>\n",
       "      <th>154</th>\n",
       "      <th>155</th>\n",
       "      <th>156</th>\n",
       "      <th>157</th>\n",
       "      <th>158</th>\n",
       "      <th>159</th>\n",
       "      <th>160</th>\n",
       "      <th>161</th>\n",
       "      <th>Year</th>\n",
       "    </tr>\n",
       "  </thead>\n",
       "  <tbody>\n",
       "    <tr>\n",
       "      <th>0</th>\n",
       "      <td>20100404</td>\n",
       "      <td>0</td>\n",
       "      <td>Sun</td>\n",
       "      <td>NYA</td>\n",
       "      <td>AL</td>\n",
       "      <td>1</td>\n",
       "      <td>BOS</td>\n",
       "      <td>AL</td>\n",
       "      <td>1</td>\n",
       "      <td>7</td>\n",
       "      <td>...</td>\n",
       "      <td>9</td>\n",
       "      <td>camem001</td>\n",
       "      <td>Mike Cameron</td>\n",
       "      <td>8</td>\n",
       "      <td>scutm001</td>\n",
       "      <td>Marco Scutaro</td>\n",
       "      <td>6</td>\n",
       "      <td>NaN</td>\n",
       "      <td>Y</td>\n",
       "      <td>2010</td>\n",
       "    </tr>\n",
       "    <tr>\n",
       "      <th>1</th>\n",
       "      <td>20100405</td>\n",
       "      <td>0</td>\n",
       "      <td>Mon</td>\n",
       "      <td>MIN</td>\n",
       "      <td>AL</td>\n",
       "      <td>1</td>\n",
       "      <td>ANA</td>\n",
       "      <td>AL</td>\n",
       "      <td>1</td>\n",
       "      <td>3</td>\n",
       "      <td>...</td>\n",
       "      <td>4</td>\n",
       "      <td>woodb003</td>\n",
       "      <td>Brandon Wood</td>\n",
       "      <td>5</td>\n",
       "      <td>mathj001</td>\n",
       "      <td>Jeff Mathis</td>\n",
       "      <td>2</td>\n",
       "      <td>NaN</td>\n",
       "      <td>Y</td>\n",
       "      <td>2010</td>\n",
       "    </tr>\n",
       "    <tr>\n",
       "      <th>2</th>\n",
       "      <td>20100405</td>\n",
       "      <td>0</td>\n",
       "      <td>Mon</td>\n",
       "      <td>CLE</td>\n",
       "      <td>AL</td>\n",
       "      <td>1</td>\n",
       "      <td>CHA</td>\n",
       "      <td>AL</td>\n",
       "      <td>1</td>\n",
       "      <td>0</td>\n",
       "      <td>...</td>\n",
       "      <td>2</td>\n",
       "      <td>teahm001</td>\n",
       "      <td>Mark Teahen</td>\n",
       "      <td>5</td>\n",
       "      <td>ramia003</td>\n",
       "      <td>Alexei Ramirez</td>\n",
       "      <td>6</td>\n",
       "      <td>NaN</td>\n",
       "      <td>Y</td>\n",
       "      <td>2010</td>\n",
       "    </tr>\n",
       "    <tr>\n",
       "      <th>3</th>\n",
       "      <td>20100405</td>\n",
       "      <td>0</td>\n",
       "      <td>Mon</td>\n",
       "      <td>DET</td>\n",
       "      <td>AL</td>\n",
       "      <td>1</td>\n",
       "      <td>KCA</td>\n",
       "      <td>AL</td>\n",
       "      <td>1</td>\n",
       "      <td>8</td>\n",
       "      <td>...</td>\n",
       "      <td>6</td>\n",
       "      <td>kendj001</td>\n",
       "      <td>Jason Kendall</td>\n",
       "      <td>2</td>\n",
       "      <td>getzc001</td>\n",
       "      <td>Chris Getz</td>\n",
       "      <td>4</td>\n",
       "      <td>NaN</td>\n",
       "      <td>Y</td>\n",
       "      <td>2010</td>\n",
       "    </tr>\n",
       "    <tr>\n",
       "      <th>4</th>\n",
       "      <td>20100405</td>\n",
       "      <td>0</td>\n",
       "      <td>Mon</td>\n",
       "      <td>SEA</td>\n",
       "      <td>AL</td>\n",
       "      <td>1</td>\n",
       "      <td>OAK</td>\n",
       "      <td>AL</td>\n",
       "      <td>1</td>\n",
       "      <td>5</td>\n",
       "      <td>...</td>\n",
       "      <td>4</td>\n",
       "      <td>buckt001</td>\n",
       "      <td>Travis Buck</td>\n",
       "      <td>7</td>\n",
       "      <td>pennc001</td>\n",
       "      <td>Cliff Pennington</td>\n",
       "      <td>6</td>\n",
       "      <td>NaN</td>\n",
       "      <td>Y</td>\n",
       "      <td>2010</td>\n",
       "    </tr>\n",
       "  </tbody>\n",
       "</table>\n",
       "<p>5 rows × 162 columns</p>\n",
       "</div>"
      ],
      "text/plain": [
       "Name      Date  Numberofgame  Day Visitor VisitorLeague  VisitorGameNum Home  \\\n",
       "0     20100404             0  Sun     NYA            AL               1  BOS   \n",
       "1     20100405             0  Mon     MIN            AL               1  ANA   \n",
       "2     20100405             0  Mon     CLE            AL               1  CHA   \n",
       "3     20100405             0  Mon     DET            AL               1  KCA   \n",
       "4     20100405             0  Mon     SEA            AL               1  OAK   \n",
       "\n",
       "Name HomeLeague  HomeGameNum  VisitorScore  ...  153       154            155  \\\n",
       "0            AL            1             7  ...    9  camem001   Mike Cameron   \n",
       "1            AL            1             3  ...    4  woodb003   Brandon Wood   \n",
       "2            AL            1             0  ...    2  teahm001    Mark Teahen   \n",
       "3            AL            1             8  ...    6  kendj001  Jason Kendall   \n",
       "4            AL            1             5  ...    4  buckt001    Travis Buck   \n",
       "\n",
       "Name 156       157               158 159  160  161  Year  \n",
       "0      8  scutm001     Marco Scutaro   6  NaN    Y  2010  \n",
       "1      5  mathj001       Jeff Mathis   2  NaN    Y  2010  \n",
       "2      5  ramia003    Alexei Ramirez   6  NaN    Y  2010  \n",
       "3      2  getzc001        Chris Getz   4  NaN    Y  2010  \n",
       "4      7  pennc001  Cliff Pennington   6  NaN    Y  2010  \n",
       "\n",
       "[5 rows x 162 columns]"
      ]
     },
     "execution_count": 24,
     "metadata": {},
     "output_type": "execute_result"
    }
   ],
   "source": [
    "data_edited.head()"
   ]
  },
  {
   "cell_type": "markdown",
   "id": "e02882f0",
   "metadata": {},
   "source": [
    "#### (c) Aggregate data\n",
    "\n",
    "Next, aggregate the scores and at-bats for each team across each season. Note that we do not make a distinction between home team and away team. You should have 120 records after aggregating (one for each team for each season)."
   ]
  },
  {
   "cell_type": "code",
   "execution_count": 28,
   "id": "db4de725-e419-4e64-b54e-bdb679794594",
   "metadata": {},
   "outputs": [],
   "source": [
    "data_home = data_edited[['Date', 'Home', 'Hat-bats', 'HomeScore', 'Year']].copy()\n",
    "data_away = data_edited[['Date', 'Visitor', 'Vat-bats', 'VisitorScore', 'Year']].copy()"
   ]
  },
  {
   "cell_type": "code",
   "execution_count": 30,
   "id": "eabd113d-7faa-4c28-8393-b6de71ff24b5",
   "metadata": {},
   "outputs": [
    {
     "data": {
      "text/plain": [
       "(9720, 5)"
      ]
     },
     "execution_count": 30,
     "metadata": {},
     "output_type": "execute_result"
    }
   ],
   "source": [
    "data_home.shape"
   ]
  },
  {
   "cell_type": "code",
   "execution_count": 48,
   "id": "f6541e78-a8d0-406f-80e3-a958ebc42160",
   "metadata": {},
   "outputs": [],
   "source": [
    "data_home.columns = ['Date', 'Team', 'AtBats', 'Score', 'Year']\n",
    "data_away.columns = ['Date', 'Team', 'AtBats', 'Score', 'Year']"
   ]
  },
  {
   "cell_type": "code",
   "execution_count": 50,
   "id": "a204758a-f467-4e05-877b-eb59402218e6",
   "metadata": {},
   "outputs": [],
   "source": [
    "data_for_reg = pd.concat([data_home, data_away])"
   ]
  },
  {
   "cell_type": "code",
   "execution_count": 52,
   "id": "52790c3f-236d-4ef2-96f0-c6abc5e260c8",
   "metadata": {},
   "outputs": [
    {
     "data": {
      "text/html": [
       "<div>\n",
       "<style scoped>\n",
       "    .dataframe tbody tr th:only-of-type {\n",
       "        vertical-align: middle;\n",
       "    }\n",
       "\n",
       "    .dataframe tbody tr th {\n",
       "        vertical-align: top;\n",
       "    }\n",
       "\n",
       "    .dataframe thead th {\n",
       "        text-align: right;\n",
       "    }\n",
       "</style>\n",
       "<table border=\"1\" class=\"dataframe\">\n",
       "  <thead>\n",
       "    <tr style=\"text-align: right;\">\n",
       "      <th></th>\n",
       "      <th>Date</th>\n",
       "      <th>Team</th>\n",
       "      <th>AtBats</th>\n",
       "      <th>Score</th>\n",
       "      <th>Year</th>\n",
       "    </tr>\n",
       "  </thead>\n",
       "  <tbody>\n",
       "    <tr>\n",
       "      <th>0</th>\n",
       "      <td>20100404</td>\n",
       "      <td>BOS</td>\n",
       "      <td>34</td>\n",
       "      <td>9</td>\n",
       "      <td>2010</td>\n",
       "    </tr>\n",
       "    <tr>\n",
       "      <th>1</th>\n",
       "      <td>20100405</td>\n",
       "      <td>ANA</td>\n",
       "      <td>33</td>\n",
       "      <td>6</td>\n",
       "      <td>2010</td>\n",
       "    </tr>\n",
       "    <tr>\n",
       "      <th>2</th>\n",
       "      <td>20100405</td>\n",
       "      <td>CHA</td>\n",
       "      <td>28</td>\n",
       "      <td>6</td>\n",
       "      <td>2010</td>\n",
       "    </tr>\n",
       "    <tr>\n",
       "      <th>3</th>\n",
       "      <td>20100405</td>\n",
       "      <td>KCA</td>\n",
       "      <td>35</td>\n",
       "      <td>4</td>\n",
       "      <td>2010</td>\n",
       "    </tr>\n",
       "    <tr>\n",
       "      <th>4</th>\n",
       "      <td>20100405</td>\n",
       "      <td>OAK</td>\n",
       "      <td>28</td>\n",
       "      <td>3</td>\n",
       "      <td>2010</td>\n",
       "    </tr>\n",
       "  </tbody>\n",
       "</table>\n",
       "</div>"
      ],
      "text/plain": [
       "       Date Team  AtBats  Score  Year\n",
       "0  20100404  BOS      34      9  2010\n",
       "1  20100405  ANA      33      6  2010\n",
       "2  20100405  CHA      28      6  2010\n",
       "3  20100405  KCA      35      4  2010\n",
       "4  20100405  OAK      28      3  2010"
      ]
     },
     "execution_count": 52,
     "metadata": {},
     "output_type": "execute_result"
    }
   ],
   "source": [
    "data_for_reg.head()"
   ]
  },
  {
   "cell_type": "code",
   "execution_count": 54,
   "id": "8bc45eb5-09d3-450b-acf9-a991d0ebf296",
   "metadata": {},
   "outputs": [
    {
     "data": {
      "text/plain": [
       "(19440, 5)"
      ]
     },
     "execution_count": 54,
     "metadata": {},
     "output_type": "execute_result"
    }
   ],
   "source": [
    "data_for_reg.shape"
   ]
  },
  {
   "cell_type": "code",
   "execution_count": 56,
   "id": "691b3f1f-55f5-43e5-9de2-8f4aabf5446c",
   "metadata": {},
   "outputs": [
    {
     "data": {
      "text/html": [
       "<div>\n",
       "<style scoped>\n",
       "    .dataframe tbody tr th:only-of-type {\n",
       "        vertical-align: middle;\n",
       "    }\n",
       "\n",
       "    .dataframe tbody tr th {\n",
       "        vertical-align: top;\n",
       "    }\n",
       "\n",
       "    .dataframe thead th {\n",
       "        text-align: right;\n",
       "    }\n",
       "</style>\n",
       "<table border=\"1\" class=\"dataframe\">\n",
       "  <thead>\n",
       "    <tr style=\"text-align: right;\">\n",
       "      <th></th>\n",
       "      <th>Date</th>\n",
       "      <th>AtBats</th>\n",
       "      <th>Score</th>\n",
       "    </tr>\n",
       "  </thead>\n",
       "  <tbody>\n",
       "    <tr>\n",
       "      <th>count</th>\n",
       "      <td>1.944000e+04</td>\n",
       "      <td>19440.000000</td>\n",
       "      <td>19440.000000</td>\n",
       "    </tr>\n",
       "    <tr>\n",
       "      <th>mean</th>\n",
       "      <td>2.011567e+07</td>\n",
       "      <td>34.073045</td>\n",
       "      <td>4.289506</td>\n",
       "    </tr>\n",
       "    <tr>\n",
       "      <th>std</th>\n",
       "      <td>1.118064e+04</td>\n",
       "      <td>4.418290</td>\n",
       "      <td>3.013582</td>\n",
       "    </tr>\n",
       "    <tr>\n",
       "      <th>min</th>\n",
       "      <td>2.010040e+07</td>\n",
       "      <td>16.000000</td>\n",
       "      <td>0.000000</td>\n",
       "    </tr>\n",
       "    <tr>\n",
       "      <th>25%</th>\n",
       "      <td>2.010800e+07</td>\n",
       "      <td>31.000000</td>\n",
       "      <td>2.000000</td>\n",
       "    </tr>\n",
       "    <tr>\n",
       "      <th>50%</th>\n",
       "      <td>2.012033e+07</td>\n",
       "      <td>33.000000</td>\n",
       "      <td>4.000000</td>\n",
       "    </tr>\n",
       "    <tr>\n",
       "      <th>75%</th>\n",
       "      <td>2.013035e+07</td>\n",
       "      <td>36.000000</td>\n",
       "      <td>6.000000</td>\n",
       "    </tr>\n",
       "    <tr>\n",
       "      <th>max</th>\n",
       "      <td>2.013093e+07</td>\n",
       "      <td>71.000000</td>\n",
       "      <td>22.000000</td>\n",
       "    </tr>\n",
       "  </tbody>\n",
       "</table>\n",
       "</div>"
      ],
      "text/plain": [
       "               Date        AtBats         Score\n",
       "count  1.944000e+04  19440.000000  19440.000000\n",
       "mean   2.011567e+07     34.073045      4.289506\n",
       "std    1.118064e+04      4.418290      3.013582\n",
       "min    2.010040e+07     16.000000      0.000000\n",
       "25%    2.010800e+07     31.000000      2.000000\n",
       "50%    2.012033e+07     33.000000      4.000000\n",
       "75%    2.013035e+07     36.000000      6.000000\n",
       "max    2.013093e+07     71.000000     22.000000"
      ]
     },
     "execution_count": 56,
     "metadata": {},
     "output_type": "execute_result"
    }
   ],
   "source": [
    "data_for_reg.describe()"
   ]
  },
  {
   "cell_type": "code",
   "execution_count": 58,
   "id": "17716bbf-c040-44ee-9c70-0e22f06232c0",
   "metadata": {},
   "outputs": [
    {
     "data": {
      "text/html": [
       "<div>\n",
       "<style scoped>\n",
       "    .dataframe tbody tr th:only-of-type {\n",
       "        vertical-align: middle;\n",
       "    }\n",
       "\n",
       "    .dataframe tbody tr th {\n",
       "        vertical-align: top;\n",
       "    }\n",
       "\n",
       "    .dataframe thead th {\n",
       "        text-align: right;\n",
       "    }\n",
       "</style>\n",
       "<table border=\"1\" class=\"dataframe\">\n",
       "  <thead>\n",
       "    <tr style=\"text-align: right;\">\n",
       "      <th></th>\n",
       "      <th>Date</th>\n",
       "      <th>Team</th>\n",
       "      <th>AtBats</th>\n",
       "      <th>Score</th>\n",
       "      <th>Year</th>\n",
       "    </tr>\n",
       "  </thead>\n",
       "  <tbody>\n",
       "    <tr>\n",
       "      <th>0</th>\n",
       "      <td>20100404</td>\n",
       "      <td>BOS</td>\n",
       "      <td>34</td>\n",
       "      <td>9</td>\n",
       "      <td>2010</td>\n",
       "    </tr>\n",
       "    <tr>\n",
       "      <th>1</th>\n",
       "      <td>20100405</td>\n",
       "      <td>ANA</td>\n",
       "      <td>33</td>\n",
       "      <td>6</td>\n",
       "      <td>2010</td>\n",
       "    </tr>\n",
       "    <tr>\n",
       "      <th>2</th>\n",
       "      <td>20100405</td>\n",
       "      <td>CHA</td>\n",
       "      <td>28</td>\n",
       "      <td>6</td>\n",
       "      <td>2010</td>\n",
       "    </tr>\n",
       "    <tr>\n",
       "      <th>3</th>\n",
       "      <td>20100405</td>\n",
       "      <td>KCA</td>\n",
       "      <td>35</td>\n",
       "      <td>4</td>\n",
       "      <td>2010</td>\n",
       "    </tr>\n",
       "    <tr>\n",
       "      <th>4</th>\n",
       "      <td>20100405</td>\n",
       "      <td>OAK</td>\n",
       "      <td>28</td>\n",
       "      <td>3</td>\n",
       "      <td>2010</td>\n",
       "    </tr>\n",
       "  </tbody>\n",
       "</table>\n",
       "</div>"
      ],
      "text/plain": [
       "       Date Team  AtBats  Score  Year\n",
       "0  20100404  BOS      34      9  2010\n",
       "1  20100405  ANA      33      6  2010\n",
       "2  20100405  CHA      28      6  2010\n",
       "3  20100405  KCA      35      4  2010\n",
       "4  20100405  OAK      28      3  2010"
      ]
     },
     "execution_count": 58,
     "metadata": {},
     "output_type": "execute_result"
    }
   ],
   "source": [
    "data_for_reg.head()"
   ]
  },
  {
   "cell_type": "code",
   "execution_count": 60,
   "id": "43b8cf40-3f63-41d8-9c17-6dd1c4390af9",
   "metadata": {},
   "outputs": [
    {
     "data": {
      "text/plain": [
       "(120, 2)"
      ]
     },
     "execution_count": 60,
     "metadata": {},
     "output_type": "execute_result"
    }
   ],
   "source": [
    "data_for_reg = data_for_reg.groupby(['Team', 'Year'])[['AtBats', 'Score']].sum()\n",
    "data_for_reg.shape"
   ]
  },
  {
   "cell_type": "code",
   "execution_count": 62,
   "id": "3791df4f-224c-4348-aedc-c829133a7434",
   "metadata": {},
   "outputs": [
    {
     "data": {
      "text/html": [
       "<div>\n",
       "<style scoped>\n",
       "    .dataframe tbody tr th:only-of-type {\n",
       "        vertical-align: middle;\n",
       "    }\n",
       "\n",
       "    .dataframe tbody tr th {\n",
       "        vertical-align: top;\n",
       "    }\n",
       "\n",
       "    .dataframe thead th {\n",
       "        text-align: right;\n",
       "    }\n",
       "</style>\n",
       "<table border=\"1\" class=\"dataframe\">\n",
       "  <thead>\n",
       "    <tr style=\"text-align: right;\">\n",
       "      <th></th>\n",
       "      <th>AtBats</th>\n",
       "      <th>Score</th>\n",
       "    </tr>\n",
       "  </thead>\n",
       "  <tbody>\n",
       "    <tr>\n",
       "      <th>count</th>\n",
       "      <td>120.000000</td>\n",
       "      <td>120.000000</td>\n",
       "    </tr>\n",
       "    <tr>\n",
       "      <th>mean</th>\n",
       "      <td>5519.833333</td>\n",
       "      <td>694.900000</td>\n",
       "    </tr>\n",
       "    <tr>\n",
       "      <th>std</th>\n",
       "      <td>74.456387</td>\n",
       "      <td>73.053497</td>\n",
       "    </tr>\n",
       "    <tr>\n",
       "      <th>min</th>\n",
       "      <td>5386.000000</td>\n",
       "      <td>513.000000</td>\n",
       "    </tr>\n",
       "    <tr>\n",
       "      <th>25%</th>\n",
       "      <td>5455.000000</td>\n",
       "      <td>643.250000</td>\n",
       "    </tr>\n",
       "    <tr>\n",
       "      <th>50%</th>\n",
       "      <td>5518.000000</td>\n",
       "      <td>699.000000</td>\n",
       "    </tr>\n",
       "    <tr>\n",
       "      <th>75%</th>\n",
       "      <td>5564.750000</td>\n",
       "      <td>743.500000</td>\n",
       "    </tr>\n",
       "    <tr>\n",
       "      <th>max</th>\n",
       "      <td>5735.000000</td>\n",
       "      <td>875.000000</td>\n",
       "    </tr>\n",
       "  </tbody>\n",
       "</table>\n",
       "</div>"
      ],
      "text/plain": [
       "            AtBats       Score\n",
       "count   120.000000  120.000000\n",
       "mean   5519.833333  694.900000\n",
       "std      74.456387   73.053497\n",
       "min    5386.000000  513.000000\n",
       "25%    5455.000000  643.250000\n",
       "50%    5518.000000  699.000000\n",
       "75%    5564.750000  743.500000\n",
       "max    5735.000000  875.000000"
      ]
     },
     "execution_count": 62,
     "metadata": {},
     "output_type": "execute_result"
    }
   ],
   "source": [
    "data_for_reg.describe()"
   ]
  },
  {
   "cell_type": "markdown",
   "id": "7955363f",
   "metadata": {},
   "source": [
    "### Problem 2: Regression\n",
    "\n",
    "#### (a) Plot relationship\n",
    "\n",
    "Plot the relationship between runs and at-bats. Does the relationship look linear? Describe the\n",
    "relationship between these two variables."
   ]
  },
  {
   "cell_type": "code",
   "execution_count": 64,
   "id": "160a551c-d5b8-4a4c-9695-27f9c08d9cbe",
   "metadata": {},
   "outputs": [
    {
     "data": {
      "image/png": "[encoded data removed]",
      "text/plain": [
       "<Figure size 640x480 with 1 Axes>"
      ]
     },
     "metadata": {},
     "output_type": "display_data"
    }
   ],
   "source": [
    "sns.set_style('whitegrid')\n",
    "ax = sns.scatterplot(data_for_reg, x = 'AtBats', y = 'Score', alpha = 0.5)\n",
    "ax.set_title('At-Bats vs Runs');\n",
    "ax.set_xlabel('At-Bats');\n",
    "ax.set_ylabel('Runs');"
   ]
  },
  {
   "cell_type": "markdown",
   "id": "f62fb8b1-79dc-47a6-bffb-a1324aafcff7",
   "metadata": {},
   "source": [
    "After plotting the data, we can see that there does seem to be a relationship between at-bats and runs.  We find that runs does increase as at bats increase.  A linear model will likely work well, however, there does seem to be variability in the relationship as seen in the dispersed points."
   ]
  },
  {
   "cell_type": "markdown",
   "id": "5db39fec",
   "metadata": {},
   "source": [
    "#### (b) Assessing relationship\n",
    "\n",
    "If you knew a team’s at bats, would you be comfortable using a linear model to predict the number of\n",
    "runs? Why or why not? Quantify the strength of the relationship with the correlation coefficient. Discuss what you find."
   ]
  },
  {
   "cell_type": "code",
   "execution_count": null,
   "id": "41fb39c1-8cf3-49d0-a0f1-012ad8f759eb",
   "metadata": {},
   "outputs": [],
   "source": [
    "data_for_reg.head()"
   ]
  },
  {
   "cell_type": "code",
   "execution_count": 67,
   "id": "0842a251-1a48-4f72-a857-703189cc4b58",
   "metadata": {},
   "outputs": [
    {
     "data": {
      "text/html": [
       "<div>\n",
       "<style scoped>\n",
       "    .dataframe tbody tr th:only-of-type {\n",
       "        vertical-align: middle;\n",
       "    }\n",
       "\n",
       "    .dataframe tbody tr th {\n",
       "        vertical-align: top;\n",
       "    }\n",
       "\n",
       "    .dataframe thead th {\n",
       "        text-align: right;\n",
       "    }\n",
       "</style>\n",
       "<table border=\"1\" class=\"dataframe\">\n",
       "  <thead>\n",
       "    <tr style=\"text-align: right;\">\n",
       "      <th></th>\n",
       "      <th>AtBats</th>\n",
       "      <th>Score</th>\n",
       "    </tr>\n",
       "  </thead>\n",
       "  <tbody>\n",
       "    <tr>\n",
       "      <th>AtBats</th>\n",
       "      <td>1.000000</td>\n",
       "      <td>0.559262</td>\n",
       "    </tr>\n",
       "    <tr>\n",
       "      <th>Score</th>\n",
       "      <td>0.559262</td>\n",
       "      <td>1.000000</td>\n",
       "    </tr>\n",
       "  </tbody>\n",
       "</table>\n",
       "</div>"
      ],
      "text/plain": [
       "          AtBats     Score\n",
       "AtBats  1.000000  0.559262\n",
       "Score   0.559262  1.000000"
      ]
     },
     "execution_count": 67,
     "metadata": {},
     "output_type": "execute_result"
    }
   ],
   "source": [
    "data_for_reg[['AtBats', 'Score']].corr()"
   ]
  },
  {
   "cell_type": "markdown",
   "id": "c515ee29-844a-4855-a962-86e5fd23d33d",
   "metadata": {},
   "source": [
    "While a linear model would likely be a good model for this data, there is variability.  In predicting runs from at-bats I would want to report an interval estaimte, rather than a point estaimte, to capture this uncertainty.  We find that the observed correlation in this dataset between runs and at bats is 0.56, which is a relatively strong relationship."
   ]
  },
  {
   "cell_type": "markdown",
   "id": "703d8736",
   "metadata": {},
   "source": [
    "#### (c) Modeling\n",
    "\n",
    "Use the `statsmodels` package to fit a simple linear model for runs as a function of at-bats. Ensure a constant (intercept) has been added to the regression. Write down the formula for the model, filling in estimated coefficient values."
   ]
  },
  {
   "cell_type": "code",
   "execution_count": 71,
   "id": "e8abc1af-0fe6-4ff5-aafe-c6277602466b",
   "metadata": {},
   "outputs": [
    {
     "data": {
      "text/html": [
       "<div>\n",
       "<style scoped>\n",
       "    .dataframe tbody tr th:only-of-type {\n",
       "        vertical-align: middle;\n",
       "    }\n",
       "\n",
       "    .dataframe tbody tr th {\n",
       "        vertical-align: top;\n",
       "    }\n",
       "\n",
       "    .dataframe thead th {\n",
       "        text-align: right;\n",
       "    }\n",
       "</style>\n",
       "<table border=\"1\" class=\"dataframe\">\n",
       "  <thead>\n",
       "    <tr style=\"text-align: right;\">\n",
       "      <th></th>\n",
       "      <th></th>\n",
       "      <th>AtBats</th>\n",
       "      <th>Score</th>\n",
       "    </tr>\n",
       "    <tr>\n",
       "      <th>Team</th>\n",
       "      <th>Year</th>\n",
       "      <th></th>\n",
       "      <th></th>\n",
       "    </tr>\n",
       "  </thead>\n",
       "  <tbody>\n",
       "    <tr>\n",
       "      <th rowspan=\"4\" valign=\"top\">ANA</th>\n",
       "      <th>2010</th>\n",
       "      <td>5488</td>\n",
       "      <td>681</td>\n",
       "    </tr>\n",
       "    <tr>\n",
       "      <th>2011</th>\n",
       "      <td>5513</td>\n",
       "      <td>667</td>\n",
       "    </tr>\n",
       "    <tr>\n",
       "      <th>2012</th>\n",
       "      <td>5536</td>\n",
       "      <td>767</td>\n",
       "    </tr>\n",
       "    <tr>\n",
       "      <th>2013</th>\n",
       "      <td>5588</td>\n",
       "      <td>733</td>\n",
       "    </tr>\n",
       "    <tr>\n",
       "      <th>ARI</th>\n",
       "      <th>2010</th>\n",
       "      <td>5473</td>\n",
       "      <td>713</td>\n",
       "    </tr>\n",
       "  </tbody>\n",
       "</table>\n",
       "</div>"
      ],
      "text/plain": [
       "           AtBats  Score\n",
       "Team Year               \n",
       "ANA  2010    5488    681\n",
       "     2011    5513    667\n",
       "     2012    5536    767\n",
       "     2013    5588    733\n",
       "ARI  2010    5473    713"
      ]
     },
     "execution_count": 71,
     "metadata": {},
     "output_type": "execute_result"
    }
   ],
   "source": [
    "data_for_reg.head()"
   ]
  },
  {
   "cell_type": "code",
   "execution_count": 73,
   "id": "b9344f54-03bb-4444-bf4a-ad841a7f8f03",
   "metadata": {},
   "outputs": [],
   "source": [
    "import statsmodels.api as sm"
   ]
  },
  {
   "cell_type": "code",
   "execution_count": 75,
   "id": "1ae5c00c-99a0-480f-87b4-10e08c64728e",
   "metadata": {},
   "outputs": [
    {
     "data": {
      "text/html": [
       "<div>\n",
       "<style scoped>\n",
       "    .dataframe tbody tr th:only-of-type {\n",
       "        vertical-align: middle;\n",
       "    }\n",
       "\n",
       "    .dataframe tbody tr th {\n",
       "        vertical-align: top;\n",
       "    }\n",
       "\n",
       "    .dataframe thead th {\n",
       "        text-align: right;\n",
       "    }\n",
       "</style>\n",
       "<table border=\"1\" class=\"dataframe\">\n",
       "  <thead>\n",
       "    <tr style=\"text-align: right;\">\n",
       "      <th></th>\n",
       "      <th></th>\n",
       "      <th>AtBats</th>\n",
       "      <th>Score</th>\n",
       "    </tr>\n",
       "    <tr>\n",
       "      <th>Team</th>\n",
       "      <th>Year</th>\n",
       "      <th></th>\n",
       "      <th></th>\n",
       "    </tr>\n",
       "  </thead>\n",
       "  <tbody>\n",
       "    <tr>\n",
       "      <th rowspan=\"4\" valign=\"top\">ANA</th>\n",
       "      <th>2010</th>\n",
       "      <td>5488</td>\n",
       "      <td>681</td>\n",
       "    </tr>\n",
       "    <tr>\n",
       "      <th>2011</th>\n",
       "      <td>5513</td>\n",
       "      <td>667</td>\n",
       "    </tr>\n",
       "    <tr>\n",
       "      <th>2012</th>\n",
       "      <td>5536</td>\n",
       "      <td>767</td>\n",
       "    </tr>\n",
       "    <tr>\n",
       "      <th>2013</th>\n",
       "      <td>5588</td>\n",
       "      <td>733</td>\n",
       "    </tr>\n",
       "    <tr>\n",
       "      <th>ARI</th>\n",
       "      <th>2010</th>\n",
       "      <td>5473</td>\n",
       "      <td>713</td>\n",
       "    </tr>\n",
       "  </tbody>\n",
       "</table>\n",
       "</div>"
      ],
      "text/plain": [
       "           AtBats  Score\n",
       "Team Year               \n",
       "ANA  2010    5488    681\n",
       "     2011    5513    667\n",
       "     2012    5536    767\n",
       "     2013    5588    733\n",
       "ARI  2010    5473    713"
      ]
     },
     "execution_count": 75,
     "metadata": {},
     "output_type": "execute_result"
    }
   ],
   "source": [
    "data_for_reg.head()"
   ]
  },
  {
   "cell_type": "code",
   "execution_count": 77,
   "id": "8f325145-3db9-4b7c-8574-ac155458b654",
   "metadata": {},
   "outputs": [
    {
     "data": {
      "text/plain": [
       "(120, 2)"
      ]
     },
     "execution_count": 77,
     "metadata": {},
     "output_type": "execute_result"
    }
   ],
   "source": [
    "data_for_reg.shape"
   ]
  },
  {
   "cell_type": "code",
   "execution_count": 81,
   "id": "38663259-93ce-4809-a13b-5e8fd9c12f08",
   "metadata": {},
   "outputs": [],
   "source": [
    "x = sm.add_constant(data_for_reg[['AtBats']])\n",
    "y = data_for_reg[['Score']].copy()"
   ]
  },
  {
   "cell_type": "code",
   "execution_count": 85,
   "id": "53718ff1-dbc3-4b95-bada-eefc643b3ff4",
   "metadata": {},
   "outputs": [
    {
     "name": "stdout",
     "output_type": "stream",
     "text": [
      "                            OLS Regression Results                            \n",
      "==============================================================================\n",
      "Dep. Variable:                  Score   R-squared:                       0.313\n",
      "Model:                            OLS   Adj. R-squared:                  0.307\n",
      "Method:                 Least Squares   F-statistic:                     53.70\n",
      "Date:                Fri, 16 Aug 2024   Prob (F-statistic):           3.15e-11\n",
      "Time:                        20:12:49   Log-Likelihood:                -662.21\n",
      "No. Observations:                 120   AIC:                             1328.\n",
      "Df Residuals:                     118   BIC:                             1334.\n",
      "Df Model:                           1                                         \n",
      "Covariance Type:            nonrobust                                         \n",
      "==============================================================================\n",
      "                 coef    std err          t      P>|t|      [0.025      0.975]\n",
      "------------------------------------------------------------------------------\n",
      "const      -2333.9660    413.345     -5.647      0.000   -3152.502   -1515.430\n",
      "AtBats         0.5487      0.075      7.328      0.000       0.400       0.697\n",
      "==============================================================================\n",
      "Omnibus:                        0.152   Durbin-Watson:                   1.448\n",
      "Prob(Omnibus):                  0.927   Jarque-Bera (JB):                0.170\n",
      "Skew:                           0.081   Prob(JB):                        0.918\n",
      "Kurtosis:                       2.912   Cond. No.                     4.11e+05\n",
      "==============================================================================\n",
      "\n",
      "Notes:\n",
      "[1] Standard Errors assume that the covariance matrix of the errors is correctly specified.\n",
      "[2] The condition number is large, 4.11e+05. This might indicate that there are\n",
      "strong multicollinearity or other numerical problems.\n"
     ]
    }
   ],
   "source": [
    "model = sm.OLS(y, x)\n",
    "results = model.fit()\n",
    "print(results.summary())"
   ]
  },
  {
   "cell_type": "markdown",
   "id": "f5342876-664a-4360-bc44-131bd8d358a2",
   "metadata": {},
   "source": [
    "Runs = -2333.97 + 0.5487 * AtBats"
   ]
  },
  {
   "cell_type": "markdown",
   "id": "eb64407f",
   "metadata": {},
   "source": [
    "#### (d) Interpretation\n",
    "\n",
    "Describe in words the interpretation of $\\beta$<sub>1</sub>."
   ]
  },
  {
   "cell_type": "markdown",
   "id": "ec30b367-8f43-48f2-9f26-908d95908f18",
   "metadata": {},
   "source": [
    "For a unit increase in at-bats, there is a corresponding 0.5487 increase in runs."
   ]
  },
  {
   "cell_type": "markdown",
   "id": "014ccf7d",
   "metadata": {},
   "source": [
    "### Problem 3: Plotting\n",
    "\n",
    "#### (a) Plot regression line\n",
    "\n",
    "Make a plot of at-bats vs runs but include the fitted regression line. How well does the fitted line fit the data?"
   ]
  },
  {
   "cell_type": "code",
   "execution_count": 92,
   "id": "ca9b5383-0acb-49a1-a3cc-9fc6a6bb372c",
   "metadata": {},
   "outputs": [
    {
     "data": {
      "image/png": "[encoded data removed]",
      "text/plain": [
       "<Figure size 640x480 with 1 Axes>"
      ]
     },
     "metadata": {},
     "output_type": "display_data"
    }
   ],
   "source": [
    "sns.set_style('whitegrid')\n",
    "ax = data_for_reg.plot(x='AtBats', y='Score', kind='scatter', alpha = 0.5)\n",
    "\n",
    "x =range(5350, 5750)\n",
    "ax.plot(x, results.params.const + results.params.AtBats * x, color = 'red', alpha = 0.3)\n",
    "\n",
    "ax.set_title('Runs vs At Bats');\n",
    "ax.set_xlabel('At Bats')\n",
    ";ax.set_ylabel('Runs');\n",
    "\n",
    "ax.set_xlim(5350, 5750);\n",
    "ax.set_ylim(500, 900);"
   ]
  },
  {
   "cell_type": "markdown",
   "id": "723c3808",
   "metadata": {},
   "source": [
    "#### (b) Plot residuals\n",
    "\n",
    "Make a plot of the residuals versus at bats. Is there any apparent pattern in the residuals plot?"
   ]
  },
  {
   "cell_type": "code",
   "execution_count": 94,
   "id": "9774da70-bf83-4d77-9dc4-41803e06f8e8",
   "metadata": {},
   "outputs": [
    {
     "data": {
      "image/png": "[encoded data removed]",
      "text/plain": [
       "<Figure size 640x480 with 1 Axes>"
      ]
     },
     "metadata": {},
     "output_type": "display_data"
    }
   ],
   "source": [
    "residuals = results.resid\n",
    "\n",
    "ax = sns.residplot(x= 'AtBats', y = residuals, data = data_for_reg)\n",
    "\n",
    "ax.set_title('Residuals with At Bats');\n",
    "ax.set_xlabel('At Bats');\n",
    "ax.set_ylabel('Residuals');"
   ]
  },
  {
   "cell_type": "markdown",
   "id": "aae1660a-732f-418b-b5ec-392b43511cf5",
   "metadata": {},
   "source": [
    "There is no strong pattern in the residuals.  The residuals have approximately mean zero and constant variance.  The residual plots are not perfect, but no immediate pattern is evident."
   ]
  }
 ],
 "metadata": {
  "kernelspec": {
   "display_name": "Python 3 (ipykernel)",
   "language": "python",
   "name": "python3"
  },
  "language_info": {
   "codemirror_mode": {
    "name": "ipython",
    "version": 3
   },
   "file_extension": ".py",
   "mimetype": "text/x-python",
   "name": "python",
   "nbconvert_exporter": "python",
   "pygments_lexer": "ipython3",
   "version": "3.11.7"
  }
 },
 "nbformat": 4,
 "nbformat_minor": 5
}
