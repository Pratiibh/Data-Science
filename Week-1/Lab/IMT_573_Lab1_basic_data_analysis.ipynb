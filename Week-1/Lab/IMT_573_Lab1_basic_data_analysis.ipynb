{
 "cells": [
  {
   "cell_type": "markdown",
   "id": "6b6fd83a",
   "metadata": {},
   "source": [
    "# IMT 573 - Lab 1 - Basic Data Analysis"
   ]
  },
  {
   "cell_type": "markdown",
   "id": "6a465739",
   "metadata": {},
   "source": [
    "### Instructions\n",
    "\n",
    "Before beginning this assignment, please ensure you have access to a working instance of Jupyter Notebooks with Python 3.\n",
    "\n",
    "1. First, replace the “YOUR NAME HERE” text in the next cell with your own full name. Any collaborators must also be listed in this cell.\n",
    "\n",
    "2. Be sure to include well-documented (e.g. commented) code cells, figures, and clearly written text  explanations as necessary. Any figures should be clearly labeled and appropriately referenced within the text. Be sure that each visualization adds value to your written explanation; avoid redundancy – you do no need four different visualizations of the same pattern.\n",
    "\n",
    "3. Collaboration on problem sets and labs is fun, useful, and encouraged. However, each student must turn in an individual write-up in their own words as well as code/work that is their own. Regardless of whether you work with others, what you turn in must be your own work; this includes code and interpretation of results. The names of all collaborators must be listed on each assignment. Do not copy-and-paste from other students’ responses or code - your code should never be on any other student's screen or machine.\n",
    "\n",
    "4. All materials and resources that you use (with the exception of lecture slides) must be appropriately referenced within your assignment."
   ]
  },
  {
   "cell_type": "markdown",
   "id": "a6c25d54",
   "metadata": {},
   "source": [
    "Name: Pratiibh Bassi\n",
    "\n",
    "Collaborators: "
   ]
  },
  {
   "cell_type": "code",
   "execution_count": null,
   "id": "a6f93c3b",
   "metadata": {},
   "outputs": [],
   "source": []
  },
  {
   "cell_type": "markdown",
   "id": "6d20e4a9",
   "metadata": {},
   "source": [
    "### Problem 1: Loading and inspecting data\n",
    "\n",
    "In this lab, we will use the `faithful` data from the `pydatasets` package. Use this data to answer the following questions. The package is imported below - you may need to install the package if you're getting an error when importing.\n",
    "\n",
    "Once the package is imported, the data is available by calling `data('faithful')` (note how `data` refers to the variable from `import`). Store the data in your variable of choice, keeping in mind that data from `pydatasets` is imported as pandas dataframes."
   ]
  },
  {
   "cell_type": "code",
   "execution_count": 8,
   "id": "7ced3eaa-dcbd-4eca-b8d0-b6e504ce4f45",
   "metadata": {
    "scrolled": true
   },
   "outputs": [
    {
     "name": "stdout",
     "output_type": "stream",
     "text": [
      "Collecting pydataset\n",
      "  Downloading pydataset-0.2.0.tar.gz (15.9 MB)\n",
      "     ---------------------------------------- 0.0/15.9 MB ? eta -:--:--\n",
      "     --------------------------------------- 0.0/15.9 MB 330.3 kB/s eta 0:00:49\n",
      "     --------------------------------------- 0.1/15.9 MB 656.4 kB/s eta 0:00:25\n",
      "      --------------------------------------- 0.4/15.9 MB 3.0 MB/s eta 0:00:06\n",
      "     -- ------------------------------------- 0.9/15.9 MB 5.2 MB/s eta 0:00:03\n",
      "     --- ------------------------------------ 1.6/15.9 MB 7.1 MB/s eta 0:00:03\n",
      "     ----- ---------------------------------- 2.2/15.9 MB 8.2 MB/s eta 0:00:02\n",
      "     ------- -------------------------------- 3.0/15.9 MB 9.5 MB/s eta 0:00:02\n",
      "     --------- ------------------------------ 3.8/15.9 MB 10.6 MB/s eta 0:00:02\n",
      "     ------------ --------------------------- 4.9/15.9 MB 12.4 MB/s eta 0:00:01\n",
      "     --------------- ------------------------ 6.1/15.9 MB 13.4 MB/s eta 0:00:01\n",
      "     ------------------ --------------------- 7.3/15.9 MB 15.1 MB/s eta 0:00:01\n",
      "     ---------------------- ----------------- 8.8/15.9 MB 16.6 MB/s eta 0:00:01\n",
      "     ------------------------- ------------- 10.5/15.9 MB 21.8 MB/s eta 0:00:01\n",
      "     ------------------------------- ------- 12.7/15.9 MB 29.7 MB/s eta 0:00:01\n",
      "     ------------------------------------ -- 15.0/15.9 MB 36.4 MB/s eta 0:00:01\n",
      "     --------------------------------------  15.9/15.9 MB 40.9 MB/s eta 0:00:01\n",
      "     --------------------------------------- 15.9/15.9 MB 36.4 MB/s eta 0:00:00\n",
      "  Preparing metadata (setup.py): started\n",
      "  Preparing metadata (setup.py): finished with status 'done'\n",
      "Requirement already satisfied: pandas in c:\\users\\pratiibh\\anaconda3\\lib\\site-packages (from pydataset) (2.1.4)\n",
      "Requirement already satisfied: numpy<2,>=1.23.2 in c:\\users\\pratiibh\\anaconda3\\lib\\site-packages (from pandas->pydataset) (1.26.4)\n",
      "Requirement already satisfied: python-dateutil>=2.8.2 in c:\\users\\pratiibh\\anaconda3\\lib\\site-packages (from pandas->pydataset) (2.8.2)\n",
      "Requirement already satisfied: pytz>=2020.1 in c:\\users\\pratiibh\\anaconda3\\lib\\site-packages (from pandas->pydataset) (2023.3.post1)\n",
      "Requirement already satisfied: tzdata>=2022.1 in c:\\users\\pratiibh\\anaconda3\\lib\\site-packages (from pandas->pydataset) (2023.3)\n",
      "Requirement already satisfied: six>=1.5 in c:\\users\\pratiibh\\anaconda3\\lib\\site-packages (from python-dateutil>=2.8.2->pandas->pydataset) (1.16.0)\n",
      "Building wheels for collected packages: pydataset\n",
      "  Building wheel for pydataset (setup.py): started\n",
      "  Building wheel for pydataset (setup.py): finished with status 'done'\n",
      "  Created wheel for pydataset: filename=pydataset-0.2.0-py3-none-any.whl size=15939423 sha256=db5bf327437befd512d0eb265551734c3f9555c24ce097f91e9e60dd73cf5a8b\n",
      "  Stored in directory: c:\\users\\pratiibh\\appdata\\local\\pip\\cache\\wheels\\29\\93\\3f\\af54c413cecaac292940342c61882d2a8848674175d0bb0889\n",
      "Successfully built pydataset\n",
      "Installing collected packages: pydataset\n",
      "Successfully installed pydataset-0.2.0\n",
      "Note: you may need to restart the kernel to use updated packages.\n"
     ]
    }
   ],
   "source": [
    "pip install pydataset"
   ]
  },
  {
   "cell_type": "code",
   "execution_count": 4,
   "id": "73a013cf",
   "metadata": {},
   "outputs": [],
   "source": [
    "from pydataset import data"
   ]
  },
  {
   "cell_type": "code",
   "execution_count": 6,
   "id": "bf233534",
   "metadata": {},
   "outputs": [],
   "source": [
    "faithful = data('faithful')"
   ]
  },
  {
   "cell_type": "markdown",
   "id": "2efb2bd8",
   "metadata": {},
   "source": [
    "Of course, simply importing the data doesn't provide us much context on the data itself. Use the following call to print documentation of the dataset: `data('faithful', show_doc = True)`. This call will not import the data so do not store the result in a variable."
   ]
  },
  {
   "cell_type": "markdown",
   "id": "dfef3c82",
   "metadata": {},
   "source": [
    "#### (a) Examine the data\n",
    "\n",
    "What does the data represent? Where does the data come from? Provide your answer below."
   ]
  },
  {
   "cell_type": "code",
   "execution_count": 8,
   "id": "4727b568-6ffb-4f4d-bbe2-09637baec06c",
   "metadata": {
    "scrolled": true
   },
   "outputs": [
    {
     "data": {
      "text/html": [
       "<div>\n",
       "<style scoped>\n",
       "    .dataframe tbody tr th:only-of-type {\n",
       "        vertical-align: middle;\n",
       "    }\n",
       "\n",
       "    .dataframe tbody tr th {\n",
       "        vertical-align: top;\n",
       "    }\n",
       "\n",
       "    .dataframe thead th {\n",
       "        text-align: right;\n",
       "    }\n",
       "</style>\n",
       "<table border=\"1\" class=\"dataframe\">\n",
       "  <thead>\n",
       "    <tr style=\"text-align: right;\">\n",
       "      <th></th>\n",
       "      <th>eruptions</th>\n",
       "      <th>waiting</th>\n",
       "    </tr>\n",
       "  </thead>\n",
       "  <tbody>\n",
       "    <tr>\n",
       "      <th>1</th>\n",
       "      <td>3.600</td>\n",
       "      <td>79</td>\n",
       "    </tr>\n",
       "    <tr>\n",
       "      <th>2</th>\n",
       "      <td>1.800</td>\n",
       "      <td>54</td>\n",
       "    </tr>\n",
       "    <tr>\n",
       "      <th>3</th>\n",
       "      <td>3.333</td>\n",
       "      <td>74</td>\n",
       "    </tr>\n",
       "    <tr>\n",
       "      <th>4</th>\n",
       "      <td>2.283</td>\n",
       "      <td>62</td>\n",
       "    </tr>\n",
       "    <tr>\n",
       "      <th>5</th>\n",
       "      <td>4.533</td>\n",
       "      <td>85</td>\n",
       "    </tr>\n",
       "    <tr>\n",
       "      <th>...</th>\n",
       "      <td>...</td>\n",
       "      <td>...</td>\n",
       "    </tr>\n",
       "    <tr>\n",
       "      <th>268</th>\n",
       "      <td>4.117</td>\n",
       "      <td>81</td>\n",
       "    </tr>\n",
       "    <tr>\n",
       "      <th>269</th>\n",
       "      <td>2.150</td>\n",
       "      <td>46</td>\n",
       "    </tr>\n",
       "    <tr>\n",
       "      <th>270</th>\n",
       "      <td>4.417</td>\n",
       "      <td>90</td>\n",
       "    </tr>\n",
       "    <tr>\n",
       "      <th>271</th>\n",
       "      <td>1.817</td>\n",
       "      <td>46</td>\n",
       "    </tr>\n",
       "    <tr>\n",
       "      <th>272</th>\n",
       "      <td>4.467</td>\n",
       "      <td>74</td>\n",
       "    </tr>\n",
       "  </tbody>\n",
       "</table>\n",
       "<p>272 rows × 2 columns</p>\n",
       "</div>"
      ],
      "text/plain": [
       "     eruptions  waiting\n",
       "1        3.600       79\n",
       "2        1.800       54\n",
       "3        3.333       74\n",
       "4        2.283       62\n",
       "5        4.533       85\n",
       "..         ...      ...\n",
       "268      4.117       81\n",
       "269      2.150       46\n",
       "270      4.417       90\n",
       "271      1.817       46\n",
       "272      4.467       74\n",
       "\n",
       "[272 rows x 2 columns]"
      ]
     },
     "execution_count": 8,
     "metadata": {},
     "output_type": "execute_result"
    }
   ],
   "source": [
    "data('faithful')"
   ]
  },
  {
   "cell_type": "code",
   "execution_count": 10,
   "id": "4eea85fe-e9ed-4770-99c8-80cf9681908f",
   "metadata": {
    "scrolled": true
   },
   "outputs": [
    {
     "name": "stdout",
     "output_type": "stream",
     "text": [
      "faithful\n",
      "\n",
      "PyDataset Documentation (adopted from R Documentation. The displayed examples are in R)\n",
      "\n",
      "## Old Faithful Geyser Data\n",
      "\n",
      "### Description\n",
      "\n",
      "Waiting time between eruptions and the duration of the eruption for the Old\n",
      "Faithful geyser in Yellowstone National Park, Wyoming, USA.\n",
      "\n",
      "### Usage\n",
      "\n",
      "    faithful\n",
      "\n",
      "### Format\n",
      "\n",
      "A data frame with 272 observations on 2 variables.\n",
      "\n",
      "[,1]\n",
      "\n",
      "eruptions\n",
      "\n",
      "numeric\n",
      "\n",
      "Eruption time in mins\n",
      "\n",
      "[,2]\n",
      "\n",
      "waiting\n",
      "\n",
      "numeric\n",
      "\n",
      "Waiting time to next eruption (in mins)\n",
      "\n",
      "### Details\n",
      "\n",
      "A closer look at `faithful$eruptions` reveals that these are heavily rounded\n",
      "times originally in seconds, where multiples of 5 are more frequent than\n",
      "expected under non-human measurement. For a better version of the eruption\n",
      "times, see the example below.\n",
      "\n",
      "There are many versions of this dataset around: Azzalini and Bowman (1990) use\n",
      "a more complete version.\n",
      "\n",
      "### Source\n",
      "\n",
      "W. HÃ¤rdle.\n",
      "\n",
      "### References\n",
      "\n",
      "HÃ¤rdle, W. (1991) _Smoothing Techniques with Implementation in S_. New York:\n",
      "Springer.\n",
      "\n",
      "Azzalini, A. and Bowman, A. W. (1990). A look at some data on the Old Faithful\n",
      "geyser. _Applied Statistics_ **39**, 357–365.\n",
      "\n",
      "### See Also\n",
      "\n",
      "`geyser` in package MASS for the Azzalini–Bowman version.\n",
      "\n",
      "### Examples\n",
      "\n",
      "    require(stats); require(graphics)\n",
      "    f.tit <-  \"faithful data: Eruptions of Old Faithful\"\n",
      "    ne60 <- round(e60 <- 60 * faithful$eruptions)\n",
      "    all.equal(e60, ne60)             # relative diff. ~ 1/10000\n",
      "    table(zapsmall(abs(e60 - ne60))) # 0, 0.02 or 0.04\n",
      "    faithful$better.eruptions <- ne60 / 60\n",
      "    te <- table(ne60)\n",
      "    te[te >= 4]                      # (too) many multiples of 5 !\n",
      "    plot(names(te), te, type = \"h\", main = f.tit, xlab = \"Eruption time (sec)\")\n",
      "    plot(faithful[, -3], main = f.tit,\n",
      "         xlab = \"Eruption time (min)\",\n",
      "         ylab = \"Waiting time to next eruption (min)\")\n",
      "    lines(lowess(faithful$eruptions, faithful$waiting, f = 2/3, iter = 3),\n",
      "          col = \"red\")\n",
      "\n",
      "\n"
     ]
    }
   ],
   "source": [
    "data('faithful', show_doc = True)"
   ]
  },
  {
   "cell_type": "markdown",
   "id": "99b8b64d-4d46-479f-ac55-95b53ccf5111",
   "metadata": {},
   "source": [
    "The data represents Old Faithful geyser data.  The data is built in with the pydatasets package, which needs to be installed in order to see or use the data."
   ]
  },
  {
   "cell_type": "markdown",
   "id": "842dbebc",
   "metadata": {},
   "source": [
    "#### (b) Data types\n",
    "\n",
    "What data type is used to store this data? What is the type of each column?"
   ]
  },
  {
   "cell_type": "code",
   "execution_count": 12,
   "id": "2e9bad37-dc47-40b0-9bc8-6d9d1bc4ebfd",
   "metadata": {
    "scrolled": true
   },
   "outputs": [
    {
     "data": {
      "text/plain": [
       "pandas.core.frame.DataFrame"
      ]
     },
     "execution_count": 12,
     "metadata": {},
     "output_type": "execute_result"
    }
   ],
   "source": [
    "type(faithful)"
   ]
  },
  {
   "cell_type": "markdown",
   "id": "ae85e5b2-5448-4baa-910f-f12c3c0bb8da",
   "metadata": {},
   "source": [
    "Variable type is dataframes."
   ]
  },
  {
   "cell_type": "markdown",
   "id": "93a8a85d",
   "metadata": {},
   "source": [
    "#### (c) Variables\n",
    "\n",
    "What are the variables in this dataset? Describe what each variable measures."
   ]
  },
  {
   "cell_type": "code",
   "execution_count": 14,
   "id": "f34ec7da-d435-4696-b362-6ba3fa0837fe",
   "metadata": {},
   "outputs": [
    {
     "data": {
      "text/plain": [
       "eruptions    float64\n",
       "waiting        int64\n",
       "dtype: object"
      ]
     },
     "execution_count": 14,
     "metadata": {},
     "output_type": "execute_result"
    }
   ],
   "source": [
    "faithful.dtypes"
   ]
  },
  {
   "cell_type": "code",
   "execution_count": 16,
   "id": "9c28223c-f090-45ac-aee1-95f1fe2a1c3b",
   "metadata": {},
   "outputs": [
    {
     "data": {
      "text/html": [
       "<div>\n",
       "<style scoped>\n",
       "    .dataframe tbody tr th:only-of-type {\n",
       "        vertical-align: middle;\n",
       "    }\n",
       "\n",
       "    .dataframe tbody tr th {\n",
       "        vertical-align: top;\n",
       "    }\n",
       "\n",
       "    .dataframe thead th {\n",
       "        text-align: right;\n",
       "    }\n",
       "</style>\n",
       "<table border=\"1\" class=\"dataframe\">\n",
       "  <thead>\n",
       "    <tr style=\"text-align: right;\">\n",
       "      <th></th>\n",
       "      <th>eruptions</th>\n",
       "      <th>waiting</th>\n",
       "    </tr>\n",
       "  </thead>\n",
       "  <tbody>\n",
       "    <tr>\n",
       "      <th>count</th>\n",
       "      <td>272.000000</td>\n",
       "      <td>272.000000</td>\n",
       "    </tr>\n",
       "    <tr>\n",
       "      <th>mean</th>\n",
       "      <td>3.487783</td>\n",
       "      <td>70.897059</td>\n",
       "    </tr>\n",
       "    <tr>\n",
       "      <th>std</th>\n",
       "      <td>1.141371</td>\n",
       "      <td>13.594974</td>\n",
       "    </tr>\n",
       "    <tr>\n",
       "      <th>min</th>\n",
       "      <td>1.600000</td>\n",
       "      <td>43.000000</td>\n",
       "    </tr>\n",
       "    <tr>\n",
       "      <th>25%</th>\n",
       "      <td>2.162750</td>\n",
       "      <td>58.000000</td>\n",
       "    </tr>\n",
       "    <tr>\n",
       "      <th>50%</th>\n",
       "      <td>4.000000</td>\n",
       "      <td>76.000000</td>\n",
       "    </tr>\n",
       "    <tr>\n",
       "      <th>75%</th>\n",
       "      <td>4.454250</td>\n",
       "      <td>82.000000</td>\n",
       "    </tr>\n",
       "    <tr>\n",
       "      <th>max</th>\n",
       "      <td>5.100000</td>\n",
       "      <td>96.000000</td>\n",
       "    </tr>\n",
       "  </tbody>\n",
       "</table>\n",
       "</div>"
      ],
      "text/plain": [
       "        eruptions     waiting\n",
       "count  272.000000  272.000000\n",
       "mean     3.487783   70.897059\n",
       "std      1.141371   13.594974\n",
       "min      1.600000   43.000000\n",
       "25%      2.162750   58.000000\n",
       "50%      4.000000   76.000000\n",
       "75%      4.454250   82.000000\n",
       "max      5.100000   96.000000"
      ]
     },
     "execution_count": 16,
     "metadata": {},
     "output_type": "execute_result"
    }
   ],
   "source": [
    "faithful.describe()"
   ]
  },
  {
   "cell_type": "markdown",
   "id": "7eecfde5-f195-4c26-8592-3ac519cc8660",
   "metadata": {},
   "source": [
    "The variables in the dataset are \"eruptions\" and \"waiting\".  \"eruptions\" measures the time of the eruption itself at Old Faithful Geyser and \"waiting\" measures the time spent in between eruptions.  Both variables are measured in minutes.  \"eruptions\" is a float while \"waiting\" is an int."
   ]
  },
  {
   "cell_type": "markdown",
   "id": "7ce14159",
   "metadata": {},
   "source": [
    "### Problem 2: Basic computation\n",
    "Continue to use the faithful data to answer these specific questions."
   ]
  },
  {
   "cell_type": "markdown",
   "id": "1fcc8e56",
   "metadata": {},
   "source": [
    "#### (a) Basic statistics\n",
    "\n",
    "What is the average, or mean, waiting time between eruptions?"
   ]
  },
  {
   "cell_type": "code",
   "execution_count": 35,
   "id": "287834fb-b03f-49a3-b0d5-78dfecf59df5",
   "metadata": {},
   "outputs": [
    {
     "data": {
      "text/plain": [
       "70.8970588235294"
      ]
     },
     "execution_count": 35,
     "metadata": {},
     "output_type": "execute_result"
    }
   ],
   "source": [
    "faithful['waiting'].mean()"
   ]
  },
  {
   "cell_type": "markdown",
   "id": "6209c65b-dc69-4e46-8291-454598c03ac5",
   "metadata": {},
   "source": [
    "The average waiting time in minutes between eruptions is 70.897 (rounded) minutes."
   ]
  },
  {
   "cell_type": "markdown",
   "id": "6e55cb7f",
   "metadata": {},
   "source": [
    "#### (b) Shortest time\n",
    "\n",
    "What is the shortest time between eruptions that was observed?"
   ]
  },
  {
   "cell_type": "code",
   "execution_count": 48,
   "id": "d813c8d0-2d34-46eb-a0a9-5d29df5dd949",
   "metadata": {},
   "outputs": [
    {
     "data": {
      "text/plain": [
       "43"
      ]
     },
     "execution_count": 48,
     "metadata": {},
     "output_type": "execute_result"
    }
   ],
   "source": [
    "faithful['waiting'].min()"
   ]
  },
  {
   "cell_type": "markdown",
   "id": "3d4b986c-6ce2-4981-a44b-8980a4bad442",
   "metadata": {},
   "source": [
    "The shortest waiting time between eruptions (meaning the 'waiting' variable will be used) was 43 minutes."
   ]
  },
  {
   "cell_type": "markdown",
   "id": "05b8f5db",
   "metadata": {},
   "source": [
    "#### (c) Longest eruption\n",
    "\n",
    "What was the longest eruption observed?"
   ]
  },
  {
   "cell_type": "code",
   "execution_count": 56,
   "id": "2761da88-0ce8-4d62-80c3-f9e039991507",
   "metadata": {},
   "outputs": [
    {
     "data": {
      "text/plain": [
       "5.1"
      ]
     },
     "execution_count": 56,
     "metadata": {},
     "output_type": "execute_result"
    }
   ],
   "source": [
    "faithful['eruptions'].max()"
   ]
  },
  {
   "cell_type": "markdown",
   "id": "f5737596-ee73-4371-8ad7-106503489ba2",
   "metadata": {},
   "source": [
    "The longest eruption observed was 5.1 minutes long."
   ]
  },
  {
   "cell_type": "markdown",
   "id": "c000678f",
   "metadata": {},
   "source": [
    "### Problem 3: Visualization\n",
    "\n",
    "Create a basic visualization of either the distribution of eruption times or waiting time between eruptions, your choice. You can use the `seaborn` package imported below. Again, if you encounter an error when importing the package, you may need to install the package. Be sure to label axes and add a title to the visualization. Hint: Use [seaborn's `histplot()`](https://seaborn.pydata.org/generated/seaborn.histplot.html) function on a single column of the data to start off. Use [`axes.set()`](https://matplotlib.org/stable/api/_as_gen/matplotlib.axes.Axes.set.html) to set the `x`, `y`, and `title` of the visualization."
   ]
  },
  {
   "cell_type": "code",
   "execution_count": 61,
   "id": "dceb1a5b-1a51-4e4a-b939-79f5a36c6b92",
   "metadata": {},
   "outputs": [
    {
     "name": "stdout",
     "output_type": "stream",
     "text": [
      "Requirement already satisfied: seaborn in c:\\users\\pratiibh\\anaconda3\\lib\\site-packages (0.12.2)\n",
      "Requirement already satisfied: numpy!=1.24.0,>=1.17 in c:\\users\\pratiibh\\anaconda3\\lib\\site-packages (from seaborn) (1.26.4)\n",
      "Requirement already satisfied: pandas>=0.25 in c:\\users\\pratiibh\\anaconda3\\lib\\site-packages (from seaborn) (2.1.4)\n",
      "Requirement already satisfied: matplotlib!=3.6.1,>=3.1 in c:\\users\\pratiibh\\anaconda3\\lib\\site-packages (from seaborn) (3.8.0)\n",
      "Requirement already satisfied: contourpy>=1.0.1 in c:\\users\\pratiibh\\anaconda3\\lib\\site-packages (from matplotlib!=3.6.1,>=3.1->seaborn) (1.2.0)\n",
      "Requirement already satisfied: cycler>=0.10 in c:\\users\\pratiibh\\anaconda3\\lib\\site-packages (from matplotlib!=3.6.1,>=3.1->seaborn) (0.11.0)\n",
      "Requirement already satisfied: fonttools>=4.22.0 in c:\\users\\pratiibh\\anaconda3\\lib\\site-packages (from matplotlib!=3.6.1,>=3.1->seaborn) (4.25.0)\n",
      "Requirement already satisfied: kiwisolver>=1.0.1 in c:\\users\\pratiibh\\anaconda3\\lib\\site-packages (from matplotlib!=3.6.1,>=3.1->seaborn) (1.4.4)\n",
      "Requirement already satisfied: packaging>=20.0 in c:\\users\\pratiibh\\anaconda3\\lib\\site-packages (from matplotlib!=3.6.1,>=3.1->seaborn) (23.1)\n",
      "Requirement already satisfied: pillow>=6.2.0 in c:\\users\\pratiibh\\anaconda3\\lib\\site-packages (from matplotlib!=3.6.1,>=3.1->seaborn) (10.2.0)\n",
      "Requirement already satisfied: pyparsing>=2.3.1 in c:\\users\\pratiibh\\anaconda3\\lib\\site-packages (from matplotlib!=3.6.1,>=3.1->seaborn) (3.0.9)\n",
      "Requirement already satisfied: python-dateutil>=2.7 in c:\\users\\pratiibh\\anaconda3\\lib\\site-packages (from matplotlib!=3.6.1,>=3.1->seaborn) (2.8.2)\n",
      "Requirement already satisfied: pytz>=2020.1 in c:\\users\\pratiibh\\anaconda3\\lib\\site-packages (from pandas>=0.25->seaborn) (2023.3.post1)\n",
      "Requirement already satisfied: tzdata>=2022.1 in c:\\users\\pratiibh\\anaconda3\\lib\\site-packages (from pandas>=0.25->seaborn) (2023.3)\n",
      "Requirement already satisfied: six>=1.5 in c:\\users\\pratiibh\\anaconda3\\lib\\site-packages (from python-dateutil>=2.7->matplotlib!=3.6.1,>=3.1->seaborn) (1.16.0)\n",
      "Note: you may need to restart the kernel to use updated packages.\n"
     ]
    }
   ],
   "source": [
    "pip install seaborn"
   ]
  },
  {
   "cell_type": "code",
   "execution_count": 20,
   "id": "7d8ac5ab",
   "metadata": {},
   "outputs": [],
   "source": [
    "import seaborn as sns"
   ]
  },
  {
   "cell_type": "code",
   "execution_count": 24,
   "id": "785b53ee-d5a7-4596-b06d-f0ed1299c72c",
   "metadata": {},
   "outputs": [
    {
     "name": "stderr",
     "output_type": "stream",
     "text": [
      "C:\\Users\\Pratiibh\\anaconda3\\Lib\\site-packages\\seaborn\\_oldcore.py:1119: FutureWarning: use_inf_as_na option is deprecated and will be removed in a future version. Convert inf values to NaN before operating instead.\n",
      "  with pd.option_context('mode.use_inf_as_na', True):\n",
      "C:\\Users\\Pratiibh\\anaconda3\\Lib\\site-packages\\seaborn\\_oldcore.py:1119: FutureWarning: use_inf_as_na option is deprecated and will be removed in a future version. Convert inf values to NaN before operating instead.\n",
      "  with pd.option_context('mode.use_inf_as_na', True):\n"
     ]
    },
    {
     "data": {
      "text/plain": [
       "<Axes: xlabel='eruptions', ylabel='waiting'>"
      ]
     },
     "execution_count": 24,
     "metadata": {},
     "output_type": "execute_result"
    },
    {
     "data": {
      "image/png": "[encoded data removed]",
      "text/plain": [
       "<Figure size 640x480 with 1 Axes>"
      ]
     },
     "metadata": {},
     "output_type": "display_data"
    }
   ],
   "source": [
    "sns.histplot(data=faithful, x='eruptions', y='waiting')"
   ]
  },
  {
   "cell_type": "markdown",
   "id": "a8e4249e-894a-43ab-9bc8-ac805124cee3",
   "metadata": {},
   "source": [
    "Couldn't figure out how to use axes.set but this is the histplot from seaborn of our data."
   ]
  }
 ],
 "metadata": {
  "kernelspec": {
   "display_name": "Python 3 (ipykernel)",
   "language": "python",
   "name": "python3"
  },
  "language_info": {
   "codemirror_mode": {
    "name": "ipython",
    "version": 3
   },
   "file_extension": ".py",
   "mimetype": "text/x-python",
   "name": "python",
   "nbconvert_exporter": "python",
   "pygments_lexer": "ipython3",
   "version": "3.11.7"
  }
 },
 "nbformat": 4,
 "nbformat_minor": 5
}
