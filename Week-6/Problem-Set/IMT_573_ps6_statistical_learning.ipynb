{
 "cells": [
  {
   "cell_type": "markdown",
   "id": "1461b6bb",
   "metadata": {},
   "source": [
    "# IMT 573 - Problem Set 6 - Statistical Learning"
   ]
  },
  {
   "cell_type": "markdown",
   "id": "1cf60757",
   "metadata": {},
   "source": [
    "### Instructions\n",
    "\n",
    "Before beginning this assignment, please ensure you have access to a working instance of Jupyter Notebooks with Python 3.\n",
    "\n",
    "1. First, replace the “YOUR NAME HERE” text in the next cell with your own full name. Any collaborators must also be listed in this cell.\n",
    "\n",
    "2. Be sure to include well-documented (e.g. commented) code cells, figures, and clearly written text  explanations as necessary. Any figures should be clearly labeled and appropriately referenced within the text. Be sure that each visualization adds value to your written explanation; avoid redundancy – you do no need four different visualizations of the same pattern.\n",
    "\n",
    "3. Collaboration on problem sets and labs is fun, useful, and encouraged. However, each student must turn in an individual write-up in their own words as well as code/work that is their own. Regardless of whether you work with others, what you turn in must be your own work; this includes code and interpretation of results. The names of all collaborators must be listed on each assignment. Do not copy-and-paste from other students’ responses or code - your code should never be on any other student's screen or machine.\n",
    "\n",
    "4. All materials and resources that you use (with the exception of lecture slides) must be appropriately referenced within your assignment.\n",
    "\n",
    "5. Partial credit will be awarded for each question for which a serious attempt at finding an answer has been shown. Students are *strongly* encouraged to attempt each question and document their reasoning process even if they cannot find the correct answer. \n",
    "\n",
    "6. After completing the assignment, ensure that your code can run from start to finish without issue. Restart the kernal and run all cells to double check."
   ]
  },
  {
   "cell_type": "markdown",
   "id": "aadc8a3b",
   "metadata": {},
   "source": [
    "Name: Pratiibh Bassi\n",
    "\n",
    "Collaborators: "
   ]
  },
  {
   "cell_type": "code",
   "execution_count": null,
   "id": "9f16ea92",
   "metadata": {},
   "outputs": [],
   "source": []
  },
  {
   "cell_type": "markdown",
   "id": "96d9bc8b",
   "metadata": {},
   "source": [
    "For this assignment, you'll need (at least) the following packages. If the package does not load, be sure it is properly installed."
   ]
  },
  {
   "cell_type": "code",
   "execution_count": 48,
   "id": "1ea893fd",
   "metadata": {},
   "outputs": [],
   "source": [
    "import pandas as pd\n",
    "import numpy as np\n",
    "import matplotlib.pyplot as plt\n",
    "import seaborn as sns\n",
    "from scipy import stats"
   ]
  },
  {
   "cell_type": "markdown",
   "id": "2fff2fc9",
   "metadata": {},
   "source": [
    "To gain some context for this problem set, read the below quote from [this paper](https://www.jstor.org/stable/41465842):\n",
    "\n",
    "_Regression analysis, one of the most useful techniques in statistics, is applied in many disparate situations. It is used to explain the influence an independent variable may have on the variability of outcome variances. This technique serves us well not only in explaining variability, but also in projecting the future. The label regression survives, buts its backward connotation is too narrow to properly describe how the technique is used today. In fact, the name came about much later than the method itself, and was coined by Francis Galton in his study of eugenics. He was trying to explain data that showed that offspring of tall parents were, on average, not as tall as their parents, and, at the same time, the offspring of short parents were, on average, not as short as their parents, even though the generational average remained the same. This phenomenon, where the offspring might be viewed as tending toward the population average, is presently referred to as regression toward the mean,\n",
    "although it started off as \"regression to mediocrity\". Galton explained this phenomenon in great detail in 1886, and it was later exemplified by a study that was the subject of a seminal paper by Karl Pearson and Alice Lee._\n",
    "\n",
    "It must be noted that the study of eugenics and the optimization of human gene pools has since been deemed unscientific, unethical, and racially biased. It is not a focus for this problem set. \n",
    "\n",
    "Instead, we will focus on the phenomenon of genetic inheritance. Specifically, we will analyze the dataset of fathers' and sons' heights used by Pearson and Lee (as referenced in the quote above). It contains two variables, fathers' height and sons' height. If you take a simple mean, you see that on average sons are taller than fathers. But can this difference just be due to chance?"
   ]
  },
  {
   "cell_type": "markdown",
   "id": "3d9c6306",
   "metadata": {},
   "source": [
    "### Problem 1: Load and examine data\n",
    "\n",
    "#### (a) Load the data\n",
    "\n",
    "Load the data from the `fatherson.csv` file. Describe what you see in the data. Units aren't given for the columns - given your understanding of human height, what unit do you think the data uses? Are there any missing data or data that appear to be erroneous?"
   ]
  },
  {
   "cell_type": "code",
   "execution_count": 7,
   "id": "ab900b6d-4a25-46c0-9955-7755d5dec07a",
   "metadata": {},
   "outputs": [],
   "source": [
    "data = pd.read_csv(\"../Downloads/fatherson.csv\")"
   ]
  },
  {
   "cell_type": "code",
   "execution_count": 9,
   "id": "4f1764c7-03de-4812-9c1c-e015d35bed66",
   "metadata": {},
   "outputs": [
    {
     "data": {
      "text/html": [
       "<div>\n",
       "<style scoped>\n",
       "    .dataframe tbody tr th:only-of-type {\n",
       "        vertical-align: middle;\n",
       "    }\n",
       "\n",
       "    .dataframe tbody tr th {\n",
       "        vertical-align: top;\n",
       "    }\n",
       "\n",
       "    .dataframe thead th {\n",
       "        text-align: right;\n",
       "    }\n",
       "</style>\n",
       "<table border=\"1\" class=\"dataframe\">\n",
       "  <thead>\n",
       "    <tr style=\"text-align: right;\">\n",
       "      <th></th>\n",
       "      <th>fheight\\tsheight</th>\n",
       "    </tr>\n",
       "  </thead>\n",
       "  <tbody>\n",
       "    <tr>\n",
       "      <th>0</th>\n",
       "      <td>165.2\\t151.8</td>\n",
       "    </tr>\n",
       "    <tr>\n",
       "      <th>1</th>\n",
       "      <td>160.7\\t160.6</td>\n",
       "    </tr>\n",
       "    <tr>\n",
       "      <th>2</th>\n",
       "      <td>165\\t160.9</td>\n",
       "    </tr>\n",
       "    <tr>\n",
       "      <th>3</th>\n",
       "      <td>167\\t159.5</td>\n",
       "    </tr>\n",
       "    <tr>\n",
       "      <th>4</th>\n",
       "      <td>155.3\\t163.3</td>\n",
       "    </tr>\n",
       "  </tbody>\n",
       "</table>\n",
       "</div>"
      ],
      "text/plain": [
       "  fheight\\tsheight\n",
       "0     165.2\\t151.8\n",
       "1     160.7\\t160.6\n",
       "2       165\\t160.9\n",
       "3       167\\t159.5\n",
       "4     155.3\\t163.3"
      ]
     },
     "execution_count": 9,
     "metadata": {},
     "output_type": "execute_result"
    }
   ],
   "source": [
    "data.head()"
   ]
  },
  {
   "cell_type": "code",
   "execution_count": 15,
   "id": "b6b3e4f7-715c-4388-b5d6-9ada70a30183",
   "metadata": {},
   "outputs": [],
   "source": [
    "data = pd.read_csv(\"../Downloads/fatherson.csv\", delimiter = '\\t')"
   ]
  },
  {
   "cell_type": "code",
   "execution_count": 17,
   "id": "267f494b-6bbb-4784-a186-eb6614350535",
   "metadata": {},
   "outputs": [
    {
     "data": {
      "text/html": [
       "<div>\n",
       "<style scoped>\n",
       "    .dataframe tbody tr th:only-of-type {\n",
       "        vertical-align: middle;\n",
       "    }\n",
       "\n",
       "    .dataframe tbody tr th {\n",
       "        vertical-align: top;\n",
       "    }\n",
       "\n",
       "    .dataframe thead th {\n",
       "        text-align: right;\n",
       "    }\n",
       "</style>\n",
       "<table border=\"1\" class=\"dataframe\">\n",
       "  <thead>\n",
       "    <tr style=\"text-align: right;\">\n",
       "      <th></th>\n",
       "      <th>fheight</th>\n",
       "      <th>sheight</th>\n",
       "    </tr>\n",
       "  </thead>\n",
       "  <tbody>\n",
       "    <tr>\n",
       "      <th>0</th>\n",
       "      <td>165.2</td>\n",
       "      <td>151.8</td>\n",
       "    </tr>\n",
       "    <tr>\n",
       "      <th>1</th>\n",
       "      <td>160.7</td>\n",
       "      <td>160.6</td>\n",
       "    </tr>\n",
       "    <tr>\n",
       "      <th>2</th>\n",
       "      <td>165.0</td>\n",
       "      <td>160.9</td>\n",
       "    </tr>\n",
       "    <tr>\n",
       "      <th>3</th>\n",
       "      <td>167.0</td>\n",
       "      <td>159.5</td>\n",
       "    </tr>\n",
       "    <tr>\n",
       "      <th>4</th>\n",
       "      <td>155.3</td>\n",
       "      <td>163.3</td>\n",
       "    </tr>\n",
       "  </tbody>\n",
       "</table>\n",
       "</div>"
      ],
      "text/plain": [
       "   fheight  sheight\n",
       "0    165.2    151.8\n",
       "1    160.7    160.6\n",
       "2    165.0    160.9\n",
       "3    167.0    159.5\n",
       "4    155.3    163.3"
      ]
     },
     "execution_count": 17,
     "metadata": {},
     "output_type": "execute_result"
    }
   ],
   "source": [
    "data.head()"
   ]
  },
  {
   "cell_type": "code",
   "execution_count": 19,
   "id": "af49181e-e708-4d9a-9ccb-b25ef2529be7",
   "metadata": {},
   "outputs": [
    {
     "data": {
      "text/plain": [
       "(1078, 2)"
      ]
     },
     "execution_count": 19,
     "metadata": {},
     "output_type": "execute_result"
    }
   ],
   "source": [
    "data.shape"
   ]
  },
  {
   "cell_type": "code",
   "execution_count": 21,
   "id": "e61a512c-7a94-4a2c-89c5-44bb323ccfd9",
   "metadata": {},
   "outputs": [
    {
     "data": {
      "text/html": [
       "<div>\n",
       "<style scoped>\n",
       "    .dataframe tbody tr th:only-of-type {\n",
       "        vertical-align: middle;\n",
       "    }\n",
       "\n",
       "    .dataframe tbody tr th {\n",
       "        vertical-align: top;\n",
       "    }\n",
       "\n",
       "    .dataframe thead th {\n",
       "        text-align: right;\n",
       "    }\n",
       "</style>\n",
       "<table border=\"1\" class=\"dataframe\">\n",
       "  <thead>\n",
       "    <tr style=\"text-align: right;\">\n",
       "      <th></th>\n",
       "      <th>fheight</th>\n",
       "      <th>sheight</th>\n",
       "    </tr>\n",
       "  </thead>\n",
       "  <tbody>\n",
       "    <tr>\n",
       "      <th>count</th>\n",
       "      <td>1078.000000</td>\n",
       "      <td>1078.000000</td>\n",
       "    </tr>\n",
       "    <tr>\n",
       "      <th>mean</th>\n",
       "      <td>171.925232</td>\n",
       "      <td>174.457236</td>\n",
       "    </tr>\n",
       "    <tr>\n",
       "      <th>std</th>\n",
       "      <td>6.972346</td>\n",
       "      <td>7.150713</td>\n",
       "    </tr>\n",
       "    <tr>\n",
       "      <th>min</th>\n",
       "      <td>149.900000</td>\n",
       "      <td>148.600000</td>\n",
       "    </tr>\n",
       "    <tr>\n",
       "      <th>25%</th>\n",
       "      <td>167.100000</td>\n",
       "      <td>170.000000</td>\n",
       "    </tr>\n",
       "    <tr>\n",
       "      <th>50%</th>\n",
       "      <td>172.100000</td>\n",
       "      <td>174.300000</td>\n",
       "    </tr>\n",
       "    <tr>\n",
       "      <th>75%</th>\n",
       "      <td>176.800000</td>\n",
       "      <td>179.000000</td>\n",
       "    </tr>\n",
       "    <tr>\n",
       "      <th>max</th>\n",
       "      <td>191.600000</td>\n",
       "      <td>199.000000</td>\n",
       "    </tr>\n",
       "  </tbody>\n",
       "</table>\n",
       "</div>"
      ],
      "text/plain": [
       "           fheight      sheight\n",
       "count  1078.000000  1078.000000\n",
       "mean    171.925232   174.457236\n",
       "std       6.972346     7.150713\n",
       "min     149.900000   148.600000\n",
       "25%     167.100000   170.000000\n",
       "50%     172.100000   174.300000\n",
       "75%     176.800000   179.000000\n",
       "max     191.600000   199.000000"
      ]
     },
     "execution_count": 21,
     "metadata": {},
     "output_type": "execute_result"
    }
   ],
   "source": [
    "data.describe()"
   ]
  },
  {
   "cell_type": "markdown",
   "id": "09199940-5696-4944-9a4b-0129bd4eef01",
   "metadata": {},
   "source": [
    "There are two columns in the data - one for fathers' height and another for sons' height.  The heights appear to be in centimeter units.  There also does not appear to be any missing or erroneous data."
   ]
  },
  {
   "cell_type": "markdown",
   "id": "8a3e8c72",
   "metadata": {},
   "source": [
    "#### (b) Create density plots\n",
    "\n",
    "Create a density plot of the data such that the distribution of fathers' and sons' heights are overlayed on the same plot. What do the distributions look like? What are the means and medians of the distributions?"
   ]
  },
  {
   "cell_type": "code",
   "execution_count": 26,
   "id": "453c6d03-006a-4141-aca6-0fbf59f57644",
   "metadata": {},
   "outputs": [
    {
     "name": "stderr",
     "output_type": "stream",
     "text": [
      "C:\\Users\\Pratiibh\\anaconda3\\Lib\\site-packages\\seaborn\\_oldcore.py:1119: FutureWarning: use_inf_as_na option is deprecated and will be removed in a future version. Convert inf values to NaN before operating instead.\n",
      "  with pd.option_context('mode.use_inf_as_na', True):\n"
     ]
    },
    {
     "data": {
      "image/png": "[encoded data removed]",
      "text/plain": [
       "<Figure size 640x480 with 1 Axes>"
      ]
     },
     "metadata": {},
     "output_type": "display_data"
    }
   ],
   "source": [
    "sns.set_style('whitegrid')\n",
    "\n",
    "ax = sns.histplot(data = data, fill = False, kde = True, discrete = True)\n",
    "ax.containers[0].remove()\n",
    "ax.containers[0].remove()\n",
    "ax.set_title('Father and sons heights')\n",
    "ax.set_xlabel('Height (cm)');"
   ]
  },
  {
   "cell_type": "code",
   "execution_count": 28,
   "id": "0fe6782a-26e6-4f52-91a1-2add46e044f7",
   "metadata": {},
   "outputs": [
    {
     "data": {
      "text/plain": [
       "(fheight    171.925232\n",
       " sheight    174.457236\n",
       " dtype: float64,\n",
       " fheight    172.1\n",
       " sheight    174.3\n",
       " dtype: float64,\n",
       " fheight    6.972346\n",
       " sheight    7.150713\n",
       " dtype: float64)"
      ]
     },
     "execution_count": 28,
     "metadata": {},
     "output_type": "execute_result"
    }
   ],
   "source": [
    "data.mean(), data.median(), data.std()"
   ]
  },
  {
   "cell_type": "code",
   "execution_count": 30,
   "id": "19d39b08-af07-493e-8367-31b24d03e69a",
   "metadata": {},
   "outputs": [
    {
     "name": "stderr",
     "output_type": "stream",
     "text": [
      "C:\\Users\\Pratiibh\\AppData\\Local\\Temp\\ipykernel_30608\\120723187.py:1: FutureWarning: Series.__getitem__ treating keys as positions is deprecated. In a future version, integer keys will always be treated as labels (consistent with DataFrame behavior). To access a value by position, use `ser.iloc[pos]`\n",
      "  data.mean().diff()[1]\n"
     ]
    },
    {
     "data": {
      "text/plain": [
       "2.5320037105751396"
      ]
     },
     "execution_count": 30,
     "metadata": {},
     "output_type": "execute_result"
    }
   ],
   "source": [
    "data.mean().diff()[1]"
   ]
  },
  {
   "cell_type": "markdown",
   "id": "5ef3de5f-5b2e-494f-abb0-19c9f10d7b6d",
   "metadata": {},
   "source": [
    "The distributions have a fairly \"normal-ish\" shape to them. In general, the distribution of the sons' heights contains values slightly greater than that of fathers' heights, as can be seen from the means and the medians."
   ]
  },
  {
   "cell_type": "markdown",
   "id": "209c1418",
   "metadata": {},
   "source": [
    "### Problem 2: Perform t-test\n",
    "\n",
    "#### (a) Compute t-statistic\n",
    "\n",
    "Is this difference statistically significant? Let’s do a t-test. Compute the t-statistic yourself - do not use any pre-existing functions that perform the calculation directly! To do this, first calculate a pooled standard error. Then, calculate the t-statistic using the difference of the means and the pooled standard error. What do you find? Why do we use a pooled standard deviation?"
   ]
  },
  {
   "cell_type": "code",
   "execution_count": 33,
   "id": "eea61762-af04-4d70-b5fc-28148639f9c0",
   "metadata": {},
   "outputs": [
    {
     "name": "stderr",
     "output_type": "stream",
     "text": [
      "C:\\Users\\Pratiibh\\AppData\\Local\\Temp\\ipykernel_30608\\2258835630.py:1: FutureWarning: Series.__getitem__ treating keys as positions is deprecated. In a future version, integer keys will always be treated as labels (consistent with DataFrame behavior). To access a value by position, use `ser.iloc[pos]`\n",
      "  data.std().pow(2)[1]\n"
     ]
    },
    {
     "data": {
      "text/plain": [
       "51.13270061481166"
      ]
     },
     "execution_count": 33,
     "metadata": {},
     "output_type": "execute_result"
    }
   ],
   "source": [
    "data.std().pow(2)[1]"
   ]
  },
  {
   "cell_type": "code",
   "execution_count": 35,
   "id": "c654f965-b381-444b-a523-5e9198ee2b52",
   "metadata": {},
   "outputs": [
    {
     "name": "stderr",
     "output_type": "stream",
     "text": [
      "C:\\Users\\Pratiibh\\AppData\\Local\\Temp\\ipykernel_30608\\2506645681.py:1: FutureWarning: Series.__getitem__ treating keys as positions is deprecated. In a future version, integer keys will always be treated as labels (consistent with DataFrame behavior). To access a value by position, use `ser.iloc[pos]`\n",
      "  data.std().pow(2)[0]\n"
     ]
    },
    {
     "data": {
      "text/plain": [
       "48.613606027875896"
      ]
     },
     "execution_count": 35,
     "metadata": {},
     "output_type": "execute_result"
    }
   ],
   "source": [
    "data.std().pow(2)[0]"
   ]
  },
  {
   "cell_type": "code",
   "execution_count": 37,
   "id": "6e4e6d26-f591-4b77-97b7-6a3c70cd7b07",
   "metadata": {},
   "outputs": [
    {
     "data": {
      "text/plain": [
       "1078"
      ]
     },
     "execution_count": 37,
     "metadata": {},
     "output_type": "execute_result"
    }
   ],
   "source": [
    "len(data)"
   ]
  },
  {
   "cell_type": "code",
   "execution_count": 39,
   "id": "2718291b-667c-4230-9ebb-23bbf7687821",
   "metadata": {},
   "outputs": [
    {
     "name": "stderr",
     "output_type": "stream",
     "text": [
      "C:\\Users\\Pratiibh\\AppData\\Local\\Temp\\ipykernel_30608\\3373305969.py:1: FutureWarning: Series.__getitem__ treating keys as positions is deprecated. In a future version, integer keys will always be treated as labels (consistent with DataFrame behavior). To access a value by position, use `ser.iloc[pos]`\n",
      "  se_pooled = np.sqrt(( data.std().pow(2)[1] + data.std().pow(2)[0]) / len(data))\n"
     ]
    },
    {
     "data": {
      "text/plain": [
       "0.304185866556143"
      ]
     },
     "execution_count": 39,
     "metadata": {},
     "output_type": "execute_result"
    }
   ],
   "source": [
    "se_pooled = np.sqrt(( data.std().pow(2)[1] + data.std().pow(2)[0]) / len(data))\n",
    "se_pooled"
   ]
  },
  {
   "cell_type": "code",
   "execution_count": 41,
   "id": "a99aa667-d7ed-49a1-b788-ee7c7a7823a4",
   "metadata": {},
   "outputs": [
    {
     "name": "stderr",
     "output_type": "stream",
     "text": [
      "C:\\Users\\Pratiibh\\AppData\\Local\\Temp\\ipykernel_30608\\120723187.py:1: FutureWarning: Series.__getitem__ treating keys as positions is deprecated. In a future version, integer keys will always be treated as labels (consistent with DataFrame behavior). To access a value by position, use `ser.iloc[pos]`\n",
      "  data.mean().diff()[1]\n"
     ]
    },
    {
     "data": {
      "text/plain": [
       "2.5320037105751396"
      ]
     },
     "execution_count": 41,
     "metadata": {},
     "output_type": "execute_result"
    }
   ],
   "source": [
    "data.mean().diff()[1]"
   ]
  },
  {
   "cell_type": "code",
   "execution_count": 43,
   "id": "9774d7f6-f9a1-43e7-a573-faf157346b82",
   "metadata": {},
   "outputs": [
    {
     "name": "stderr",
     "output_type": "stream",
     "text": [
      "C:\\Users\\Pratiibh\\AppData\\Local\\Temp\\ipykernel_30608\\4047416661.py:1: FutureWarning: Series.__getitem__ treating keys as positions is deprecated. In a future version, integer keys will always be treated as labels (consistent with DataFrame behavior). To access a value by position, use `ser.iloc[pos]`\n",
      "  data.mean().diff()[1] / se_pooled\n"
     ]
    },
    {
     "data": {
      "text/plain": [
       "8.323870333757972"
      ]
     },
     "execution_count": 43,
     "metadata": {},
     "output_type": "execute_result"
    }
   ],
   "source": [
    "data.mean().diff()[1] / se_pooled"
   ]
  },
  {
   "cell_type": "markdown",
   "id": "da1f64fa-d043-4b25-bad5-40ebaa8963b5",
   "metadata": {},
   "source": [
    "The pooled standard error is 0.3041859, and hence the t value is 8.3238703.  We prewfer pooled standard errors as we do not think fathers and sons differ much in terms of variability in their height.  We suspect there may be a small difference in mean (related to better health of the younger generation) but we expect this to be much smaller than the variability.  This is also confirmed by the descriptive table, we see that standard deviation is roughly the same whereas the mean differs."
   ]
  },
  {
   "cell_type": "markdown",
   "id": "01a2fd00",
   "metadata": {},
   "source": [
    "#### (b) Verify t-statistic\n",
    "\n",
    "Now, verify your t-statistic calculation using the `scipy.stats.ttest_ind` function. Interpret the p-value that is calculated."
   ]
  },
  {
   "cell_type": "code",
   "execution_count": 52,
   "id": "99bda2de-aabb-476b-829e-7e3085b1c4c3",
   "metadata": {},
   "outputs": [
    {
     "data": {
      "text/plain": [
       "TtestResult(statistic=8.323870333757974, pvalue=7.461563909413994e-17, df=2154.0)"
      ]
     },
     "execution_count": 52,
     "metadata": {},
     "output_type": "execute_result"
    }
   ],
   "source": [
    "stats.ttest_ind(data['sheight'], data['fheight'], equal_var = True, alternative = 'greater')"
   ]
  },
  {
   "cell_type": "markdown",
   "id": "814cd9fc-d820-4eb1-b1aa-4d1c7ba674eb",
   "metadata": {},
   "source": [
    "We see that sons are indeed significantly taller than their fathers in the dataset. The difference is about 2.5 cm."
   ]
  },
  {
   "cell_type": "markdown",
   "id": "5c6cf9fd",
   "metadata": {},
   "source": [
    "### Problem 3: A Monte Carlo approach\n",
    "\n",
    "Next, let's run some Monte Carlo analysis to further examine this data. \n",
    "\n",
    "#### (a) Create distributions\n",
    "\n",
    "First, compute the overall mean and standard deviation of combined fathers' and sons' heights. Now create two sets of normal random variables of length 1100, both with the same mean and standard deviation that you just computed above. Call one of these `fathers` and the other `sons`. What is the father-son mean difference? Compare the result with that you found in the previous problem.\n",
    "\n",
    "HINT: Be sure to set the seed for reproducibility"
   ]
  },
  {
   "cell_type": "code",
   "execution_count": 55,
   "id": "0360f1d9-4528-42a1-9a36-1bb1a10231c2",
   "metadata": {},
   "outputs": [
    {
     "data": {
      "text/plain": [
       "(2156,)"
      ]
     },
     "execution_count": 55,
     "metadata": {},
     "output_type": "execute_result"
    }
   ],
   "source": [
    "df = data.stack()\n",
    "df.shape"
   ]
  },
  {
   "cell_type": "code",
   "execution_count": 57,
   "id": "720b84c2-2604-40d5-bf8f-df706f49fc4b",
   "metadata": {},
   "outputs": [
    {
     "data": {
      "text/plain": [
       "0     fheight    165.2\n",
       "      sheight    151.8\n",
       "1     fheight    160.7\n",
       "      sheight    160.6\n",
       "2     fheight    165.0\n",
       "                 ...  \n",
       "1075  sheight    176.0\n",
       "1076  fheight    179.7\n",
       "      sheight    176.0\n",
       "1077  fheight    178.6\n",
       "      sheight    170.2\n",
       "Length: 2156, dtype: float64"
      ]
     },
     "execution_count": 57,
     "metadata": {},
     "output_type": "execute_result"
    }
   ],
   "source": [
    "df"
   ]
  },
  {
   "cell_type": "code",
   "execution_count": 59,
   "id": "3e049e37-9f6e-4160-8873-d391db2d9c56",
   "metadata": {},
   "outputs": [
    {
     "data": {
      "text/plain": [
       "173.19123376623378"
      ]
     },
     "execution_count": 59,
     "metadata": {},
     "output_type": "execute_result"
    }
   ],
   "source": [
    "overall_mean = (data['fheight'].mean() + data['sheight'].mean()) / 2\n",
    "overall_mean"
   ]
  },
  {
   "cell_type": "code",
   "execution_count": 61,
   "id": "a6dcbc36-1f9a-48a1-b045-3bb2f2ecbf5a",
   "metadata": {},
   "outputs": [
    {
     "data": {
      "text/plain": [
       "173.19123376623375"
      ]
     },
     "execution_count": 61,
     "metadata": {},
     "output_type": "execute_result"
    }
   ],
   "source": [
    "ovr_mean = data.stack().mean()\n",
    "ovr_mean"
   ]
  },
  {
   "cell_type": "code",
   "execution_count": 63,
   "id": "ae86a96a-decc-442e-a856-1c67d1268305",
   "metadata": {},
   "outputs": [
    {
     "data": {
      "text/plain": [
       "7.173110536219107"
      ]
     },
     "execution_count": 63,
     "metadata": {},
     "output_type": "execute_result"
    }
   ],
   "source": [
    "ovr_std = data.stack().std()\n",
    "ovr_std"
   ]
  },
  {
   "cell_type": "code",
   "execution_count": 65,
   "id": "f6644e94-0697-4b5e-a180-46e53f984d66",
   "metadata": {},
   "outputs": [],
   "source": [
    "np.random.seed(11)"
   ]
  },
  {
   "cell_type": "markdown",
   "id": "e30eed8c",
   "metadata": {},
   "source": [
    "\n"
   ]
  },
  {
   "cell_type": "code",
   "execution_count": 67,
   "id": "e29f0add-efdd-4aa3-8262-d4258a62f527",
   "metadata": {},
   "outputs": [],
   "source": [
    "fathers = np.random.normal(ovr_mean, ovr_std, 1100)\n",
    "sons = np.random.normal(ovr_mean, ovr_std, 1100)"
   ]
  },
  {
   "cell_type": "code",
   "execution_count": 71,
   "id": "e3d08fa9-9c16-443a-b1c6-0a2c7f7dde6f",
   "metadata": {},
   "outputs": [
    {
     "data": {
      "text/plain": [
       "-0.0993107760754981"
      ]
     },
     "execution_count": 71,
     "metadata": {},
     "output_type": "execute_result"
    }
   ],
   "source": [
    "fathers.mean() - sons.mean()"
   ]
  },
  {
   "cell_type": "markdown",
   "id": "0b34ce76-6b54-491c-a3b6-155357086b12",
   "metadata": {},
   "source": [
    "The difference in mean between the two distributions is relatively minor (may vary by seed)."
   ]
  },
  {
   "cell_type": "markdown",
   "id": "87423c7c",
   "metadata": {},
   "source": [
    "#### (b) Run Monte Carlo simulations\n",
    "\n",
    "Now repeat the previous question a large number of times R (1000 or more). Each time, store the difference between the father and son distributions. Plot the distribution of the differences. What is the mean of the difference values? Compare the mean and standard deviations to the calculations performed on the father-son dataset."
   ]
  },
  {
   "cell_type": "code",
   "execution_count": 74,
   "id": "83fb8042-482d-4fe3-9219-388cefb32133",
   "metadata": {},
   "outputs": [],
   "source": [
    "diffs = []\n",
    "for each in range(1, 2000):\n",
    "    fathers = np.random.normal(ovr_mean, ovr_std, 1100)\n",
    "    sons = np.random.normal(ovr_mean, ovr_std, 1100)\n",
    "    diffs.append(fathers.mean() - sons.mean())"
   ]
  },
  {
   "cell_type": "code",
   "execution_count": 76,
   "id": "2c00b46f-0d41-42aa-a36a-f88ec32410f7",
   "metadata": {},
   "outputs": [
    {
     "name": "stderr",
     "output_type": "stream",
     "text": [
      "C:\\Users\\Pratiibh\\anaconda3\\Lib\\site-packages\\seaborn\\_oldcore.py:1119: FutureWarning: use_inf_as_na option is deprecated and will be removed in a future version. Convert inf values to NaN before operating instead.\n",
      "  with pd.option_context('mode.use_inf_as_na', True):\n"
     ]
    },
    {
     "data": {
      "text/plain": [
       "<Axes: ylabel='Count'>"
      ]
     },
     "execution_count": 76,
     "metadata": {},
     "output_type": "execute_result"
    },
    {
     "data": {
      "image/png": "[encoded data removed]",
      "text/plain": [
       "<Figure size 640x480 with 1 Axes>"
      ]
     },
     "metadata": {},
     "output_type": "display_data"
    }
   ],
   "source": [
    "sns.histplot(diffs)"
   ]
  },
  {
   "cell_type": "code",
   "execution_count": 78,
   "id": "24aa1a12-516d-4b1e-97d8-259d990b6059",
   "metadata": {},
   "outputs": [
    {
     "data": {
      "text/plain": [
       "(0.001993445147935498, 0.31061178647471976)"
      ]
     },
     "execution_count": 78,
     "metadata": {},
     "output_type": "execute_result"
    }
   ],
   "source": [
    "np.mean(diffs), np.std(diffs)"
   ]
  },
  {
   "cell_type": "markdown",
   "id": "65b18993-ea88-4ee0-b950-1aaa3d40652e",
   "metadata": {},
   "source": [
    "The distribution of differences has values nowhere near that seen in the dataset.  The average differences is still fairly small / near 0.  The standard deviation is very close to the pooled stnadard deviation we calculated for the dataset."
   ]
  },
  {
   "cell_type": "markdown",
   "id": "814a689e",
   "metadata": {},
   "source": [
    "#### (c) Calculate percentiles\n",
    "\n",
    "Calculate the 90th, 95th, and 99th percentiles as well as the maximum of the distribution of differences. How do these compare to the differences calculated from the dataset? Given this, what can you say about the dataset that was examined?"
   ]
  },
  {
   "cell_type": "code",
   "execution_count": 81,
   "id": "14c3d6ff-cde4-4029-ae7f-86619ba4cc93",
   "metadata": {},
   "outputs": [
    {
     "data": {
      "text/plain": [
       "[0.19421306503164715,\n",
       " 0.4350243801476097,\n",
       " -0.5146440690140253,\n",
       " 0.21229338912249318,\n",
       " -0.3582448494221637,\n",
       " -0.1302973504035947,\n",
       " 0.06208672749104949,\n",
       " 0.15481015605590187,\n",
       " -0.34140377744222405,\n",
       " 0.34774972416059313,\n",
       " 0.09252792594762127,\n",
       " 0.09325674393619465,\n",
       " -0.049507016319438435,\n",
       " -0.14825033300553514,\n",
       " 0.26616433573656195,\n",
       " -0.26317258409380884,\n",
       " -0.4107727694194523,\n",
       " -0.12533186982284406,\n",
       " 0.08055053622820196,\n",
       " 0.5034340933441683,\n",
       " -0.03996053509320063,\n",
       " -0.49833619461537637,\n",
       " -0.3040911174658163,\n",
       " 0.3431103565756075,\n",
       " 0.5214601372570087,\n",
       " -0.39606967376710145,\n",
       " -0.06741993560129345,\n",
       " 0.027866920578475174,\n",
       " -0.21493612551924457,\n",
       " 0.3753208122948024,\n",
       " 0.21394459335488136,\n",
       " -0.35381727737430424,\n",
       " -0.27378740343769437,\n",
       " -0.11821460757417412,\n",
       " -0.8327375615540404,\n",
       " 0.08424789217349371,\n",
       " 0.0357241694649133,\n",
       " 0.3444680534217639,\n",
       " -0.06122283052366129,\n",
       " 0.02916923614017719,\n",
       " 0.1680754269287661,\n",
       " 0.09978426389704964,\n",
       " -0.10586838454358372,\n",
       " 0.6491050403434997,\n",
       " 0.5653497900291313,\n",
       " 0.1992088982770781,\n",
       " -0.06085840460519876,\n",
       " -0.2666985860270472,\n",
       " 0.2561711154779971,\n",
       " 0.0020000601319623,\n",
       " 0.19075868625475323,\n",
       " -0.6610582898944983,\n",
       " 0.21750412751745785,\n",
       " 0.31406223964003743,\n",
       " 0.10931706385241569,\n",
       " 0.45221477850864744,\n",
       " 0.07720799444589943,\n",
       " 0.016846890345505017,\n",
       " -0.10420136343600461,\n",
       " 0.3325090141548799,\n",
       " -0.0566314898887299,\n",
       " -0.04881827603244915,\n",
       " 0.4190861894813622,\n",
       " -0.27628855732857005,\n",
       " -0.2568506771586385,\n",
       " 0.26839105816245024,\n",
       " -0.0733276084040142,\n",
       " 0.09245460495480984,\n",
       " 0.13308177546014122,\n",
       " 0.18048481119063808,\n",
       " -0.24822500900270938,\n",
       " -0.005020521337314676,\n",
       " 0.29171866902575516,\n",
       " 0.10071880707718606,\n",
       " -0.11073582014540762,\n",
       " 0.2141022154140444,\n",
       " 0.07408214084867382,\n",
       " -0.17748738664377584,\n",
       " 0.08706242971061329,\n",
       " -0.24717750485058332,\n",
       " 0.20972648272183392,\n",
       " 0.10519865903788173,\n",
       " -0.44890837190024513,\n",
       " -0.5734915165317886,\n",
       " -0.012156779756992364,\n",
       " 0.15671015851799552,\n",
       " 0.18198111345986945,\n",
       " 0.19040827298928775,\n",
       " 0.121467113757177,\n",
       " -0.01647154634775916,\n",
       " -0.12560246053882906,\n",
       " 0.47435049618144376,\n",
       " -0.6572723505008753,\n",
       " 0.015501512284572527,\n",
       " 0.1319641066577617,\n",
       " 0.3848296607572479,\n",
       " -0.0018533963746563131,\n",
       " -0.2073153164168673,\n",
       " 0.19699632595208527,\n",
       " -0.1868708667672081,\n",
       " -0.29392978144062454,\n",
       " 0.24245351557809158,\n",
       " 0.5880997117148183,\n",
       " 0.8641736493129883,\n",
       " 0.6576297350007678,\n",
       " 0.2724474704697002,\n",
       " -0.6059006789801344,\n",
       " -0.4092130813131405,\n",
       " -0.012115664963232575,\n",
       " 0.5403870899966137,\n",
       " -0.030155096278150495,\n",
       " -0.28440826731383595,\n",
       " -0.1230344159272363,\n",
       " 0.10141966145147308,\n",
       " 0.33666186615838,\n",
       " -0.5930640199663912,\n",
       " -0.08668653448270902,\n",
       " -0.0003578625147895309,\n",
       " -0.046594421997525615,\n",
       " 0.031077246680013104,\n",
       " -0.1357102774925636,\n",
       " 0.4725965320407681,\n",
       " -0.5740227886656157,\n",
       " 0.22866791660084118,\n",
       " -0.12509387533629024,\n",
       " -0.5136051877002501,\n",
       " -0.05476655696503485,\n",
       " -0.0741868214941519,\n",
       " -0.2569742313483232,\n",
       " 0.559196358215047,\n",
       " -0.2185989260332235,\n",
       " -0.6977168030141456,\n",
       " -0.10813582328634652,\n",
       " 0.08257353248430377,\n",
       " -0.10420393306492315,\n",
       " -0.7183942873091098,\n",
       " 0.10086793887708723,\n",
       " -0.28002590891620116,\n",
       " -0.49335065114121335,\n",
       " 0.20591579442680086,\n",
       " -0.0015507525909868036,\n",
       " -0.33824186888608665,\n",
       " -0.07662122244013858,\n",
       " -0.2672385763627858,\n",
       " 0.29582279136243983,\n",
       " 0.13209012465978276,\n",
       " -0.04446897587141052,\n",
       " -0.47692558078682623,\n",
       " -0.2572219390057171,\n",
       " 0.887945001203633,\n",
       " -0.05986695766941352,\n",
       " -0.6126466878820338,\n",
       " -0.2438991884311008,\n",
       " 0.43212820559568854,\n",
       " 0.17940595174343343,\n",
       " -0.12934618407064136,\n",
       " 0.11461656963811606,\n",
       " -0.012001900446733771,\n",
       " -0.06541485965385618,\n",
       " -0.18599963938331143,\n",
       " 0.16630030414944486,\n",
       " 0.11997568184946772,\n",
       " -0.5183637552622997,\n",
       " -0.25774125964923655,\n",
       " 0.2881334572039975,\n",
       " 0.01853962586704938,\n",
       " 0.18232240273539446,\n",
       " 0.03780216816605275,\n",
       " -0.10993577727805359,\n",
       " -0.33825297798219367,\n",
       " 0.03503279611251742,\n",
       " 0.01977602832272396,\n",
       " -0.7443145226189074,\n",
       " -0.5331777734046454,\n",
       " 0.09335199926607629,\n",
       " 0.2081483739013379,\n",
       " -0.7300415643554174,\n",
       " -0.14768624771832606,\n",
       " 0.1851500477543766,\n",
       " 0.09142581699416041,\n",
       " 0.42987210906736095,\n",
       " -0.53136666272718,\n",
       " 0.0860672010786061,\n",
       " -0.07541013025064558,\n",
       " 0.004555685757765104,\n",
       " 0.46875540125759585,\n",
       " 0.10518495160968655,\n",
       " 0.1394442367350166,\n",
       " 0.4040664068743638,\n",
       " 0.2084128534378351,\n",
       " 0.27822269455845117,\n",
       " 0.09804972597865458,\n",
       " 0.48217920024583805,\n",
       " -0.10117096307311613,\n",
       " -0.21022503366864953,\n",
       " -0.09570900724062881,\n",
       " 0.07946192391892737,\n",
       " 0.5339732693135488,\n",
       " -0.18396818407526894,\n",
       " 0.5494172346462278,\n",
       " -0.0031959525812226275,\n",
       " -0.4910587184566282,\n",
       " 0.23192098356031465,\n",
       " -0.26441439136618783,\n",
       " -0.2540721908139574,\n",
       " -0.45649904384623596,\n",
       " -0.18231133230653995,\n",
       " 0.11260778492820123,\n",
       " 0.29169548087457997,\n",
       " 0.4820679036748743,\n",
       " 0.3839871865218356,\n",
       " -0.14166519199062577,\n",
       " -0.0693701740477195,\n",
       " 0.05930256454931282,\n",
       " -0.30399047574658766,\n",
       " -0.14339734500083523,\n",
       " 0.029131897685516606,\n",
       " 0.09542234158280394,\n",
       " 0.24437607967018948,\n",
       " -0.35666612789003693,\n",
       " -0.09225887524260656,\n",
       " 0.08282208680367376,\n",
       " 0.20416551357573098,\n",
       " -0.23052717581543902,\n",
       " 0.08269509280231091,\n",
       " 0.35716971043410695,\n",
       " 0.5512902585549568,\n",
       " -0.0496864722994701,\n",
       " 0.30850667071860016,\n",
       " 0.25307885317721457,\n",
       " 0.15525520406401938,\n",
       " 0.12807231253489704,\n",
       " 0.18923053531457867,\n",
       " 0.15132074458654188,\n",
       " 0.37860119568600226,\n",
       " 0.1316612990587771,\n",
       " -0.498407837977453,\n",
       " -0.14681901027682898,\n",
       " -0.5300487055436633,\n",
       " -0.266984937565411,\n",
       " 0.22516340861687922,\n",
       " -0.17804595195616457,\n",
       " 0.29543712007094314,\n",
       " 0.42773331902182576,\n",
       " 0.00040457702743879054,\n",
       " -0.8999393669965627,\n",
       " -0.2815651471464946,\n",
       " -0.2596916175538979,\n",
       " 0.20851210909944484,\n",
       " 0.16497815089343248,\n",
       " -0.1811024998591506,\n",
       " -0.8972759562154522,\n",
       " -0.12791322264658334,\n",
       " -0.0794861548402821,\n",
       " 0.06153466209121916,\n",
       " -0.11098957173211943,\n",
       " -0.3241900573859482,\n",
       " -0.13202613067139168,\n",
       " -0.12183470698874999,\n",
       " 0.16105520400313367,\n",
       " -0.011038378774856028,\n",
       " 0.18001197334282892,\n",
       " 0.062747225549316,\n",
       " 0.31363325268705466,\n",
       " -0.14963434474711335,\n",
       " -0.24444354606831098,\n",
       " 0.13369254729781233,\n",
       " 0.23628272908979397,\n",
       " 0.32041789095822537,\n",
       " -0.23771350137437253,\n",
       " -0.180184083033339,\n",
       " 0.09471549844874971,\n",
       " 0.3757861116782806,\n",
       " -0.08265809660645118,\n",
       " 1.126533365361098,\n",
       " 0.14327543188872482,\n",
       " -0.037385541394996835,\n",
       " 0.413903455446615,\n",
       " -0.43226397187879684,\n",
       " 0.03895853346668332,\n",
       " 0.8207755120778302,\n",
       " 0.03034665106895318,\n",
       " 0.18800652977057553,\n",
       " 0.008868302962895314,\n",
       " -0.05960422802746734,\n",
       " -0.6215059889527481,\n",
       " -0.13955450847421957,\n",
       " 0.46388249755077027,\n",
       " 0.0827099433564058,\n",
       " -0.07054934916024536,\n",
       " -0.19697288532057655,\n",
       " 0.21009247483380022,\n",
       " 0.12532948362772345,\n",
       " 0.32496926852400065,\n",
       " 0.16048529379025922,\n",
       " 0.04092257872665073,\n",
       " -0.07684090586448633,\n",
       " 0.8277417351790461,\n",
       " -0.20154563662836722,\n",
       " -0.1656379417910614,\n",
       " 0.4223173804589635,\n",
       " -0.04430452557772924,\n",
       " -0.24382634049385388,\n",
       " -0.6134051186166118,\n",
       " 0.32979674739746656,\n",
       " -0.00900471857508478,\n",
       " 0.38776438481127684,\n",
       " -0.23932962449939055,\n",
       " 0.37147997013099143,\n",
       " 0.7677636064912008,\n",
       " -0.29785045333670723,\n",
       " 0.3168623486239426,\n",
       " -0.29575872702395145,\n",
       " 1.3362774929337888,\n",
       " 0.043545700828417466,\n",
       " -0.03937167041067369,\n",
       " 0.0143681254338901,\n",
       " 0.11432630407242073,\n",
       " 0.07615163178442685,\n",
       " 0.047863773192659664,\n",
       " -0.3268693648639953,\n",
       " -0.028130363931694546,\n",
       " 0.28376244183695576,\n",
       " -0.05101041627264635,\n",
       " 0.19761290786397012,\n",
       " 0.6947719842541176,\n",
       " -0.11356365751976227,\n",
       " -0.11502043039033083,\n",
       " 0.2142293009998184,\n",
       " 0.07261983443638087,\n",
       " 0.24846745680352456,\n",
       " -0.17847351895878205,\n",
       " -0.061167625381983726,\n",
       " -0.1091752511939319,\n",
       " -0.22894567343632843,\n",
       " -0.2221004875731296,\n",
       " 0.339814033216129,\n",
       " -0.18470644080147736,\n",
       " -0.2413885548068322,\n",
       " 0.2303173551485429,\n",
       " 0.5417038172077184,\n",
       " 0.17024984577545865,\n",
       " 0.0996209557982013,\n",
       " 0.6306814194391848,\n",
       " -0.17934462955389563,\n",
       " 0.21923232452053298,\n",
       " -0.35247805428164725,\n",
       " 0.08125610107819625,\n",
       " -0.15711310352264718,\n",
       " -0.6345621592102759,\n",
       " 0.20085922288217262,\n",
       " -0.529753606176115,\n",
       " -0.0677377765817937,\n",
       " 0.2324736606655904,\n",
       " -0.2448429471301381,\n",
       " -0.19856333147649252,\n",
       " 0.1927931691679987,\n",
       " -0.13134369149668146,\n",
       " -0.4210230005932374,\n",
       " -0.027716745669408738,\n",
       " 0.06744013085170764,\n",
       " 0.3987387854750182,\n",
       " -0.017658875945613772,\n",
       " 0.19057090024301715,\n",
       " -0.05842045241791993,\n",
       " -0.21524930062972203,\n",
       " -0.4512499467795408,\n",
       " -0.09225708106833963,\n",
       " 0.28040941436216826,\n",
       " -0.20789634572579985,\n",
       " -0.38390441788644125,\n",
       " -0.018629459830918904,\n",
       " 0.07285605843748044,\n",
       " 0.1430548434699972,\n",
       " -0.27025350707307894,\n",
       " -0.14228171180081972,\n",
       " -0.05689049466414531,\n",
       " -0.050262030866520035,\n",
       " 0.19645945778435703,\n",
       " -0.08541501387111339,\n",
       " -0.02008053794847342,\n",
       " -0.18990839748590815,\n",
       " -0.10228034315932177,\n",
       " -0.3015292791944262,\n",
       " 0.717327146802063,\n",
       " 0.537070405070665,\n",
       " 0.22825922559357537,\n",
       " -0.24268975801081183,\n",
       " 0.36394064184511876,\n",
       " -0.11090819163734977,\n",
       " 0.15756612132366854,\n",
       " -0.1351768201266168,\n",
       " 0.31202205543300465,\n",
       " -0.013090475047306427,\n",
       " 0.21821348139857832,\n",
       " -0.28975931865275584,\n",
       " 0.2247857999717553,\n",
       " 0.28022639741752187,\n",
       " 0.3206516844602447,\n",
       " -0.25799131756036786,\n",
       " -0.03671052877649572,\n",
       " 0.23047021869149376,\n",
       " -0.31796827007377715,\n",
       " 0.1838423777766991,\n",
       " -0.21802696537716315,\n",
       " 0.3232860937535804,\n",
       " -0.07636441376726566,\n",
       " -0.18578416729226888,\n",
       " 0.0851753029575093,\n",
       " 0.3627913796150324,\n",
       " 0.2808624714264454,\n",
       " -0.4948061374857389,\n",
       " 0.1407012053619212,\n",
       " -0.00010071490896734758,\n",
       " -0.17091079161880884,\n",
       " 0.21994979037233975,\n",
       " 0.606456734310683,\n",
       " -0.0314602450496011,\n",
       " 0.5831934496027031,\n",
       " 0.19088828126953672,\n",
       " -0.14240353304126074,\n",
       " 0.010182768916763507,\n",
       " 0.24599610232510827,\n",
       " 0.15134914722958115,\n",
       " -0.030747541489915875,\n",
       " 0.5425806081093754,\n",
       " 0.40331590781499926,\n",
       " -0.4264141783953619,\n",
       " -0.5381425438087319,\n",
       " 0.18193082046224163,\n",
       " -0.7266415098862922,\n",
       " -0.0017372663543824274,\n",
       " 0.38961833032911386,\n",
       " -0.7117812734431084,\n",
       " 0.06897644762270261,\n",
       " 0.21238904227706712,\n",
       " -0.6369373192425201,\n",
       " 0.19338943282485843,\n",
       " 0.16070419800075797,\n",
       " 0.06279898132680728,\n",
       " 0.43241740382731564,\n",
       " -0.22747169864223338,\n",
       " -0.4746804146422505,\n",
       " -0.08013513759317448,\n",
       " -0.08366903820817129,\n",
       " -0.18139605954135618,\n",
       " 0.026630886438425705,\n",
       " 0.333931694742887,\n",
       " 0.0009897301339378828,\n",
       " 0.13652049709867242,\n",
       " -0.11331061509432061,\n",
       " 0.20935052304602664,\n",
       " -0.40706677259311164,\n",
       " 0.2879995866448155,\n",
       " -0.32736071774095876,\n",
       " -0.08996101241791621,\n",
       " 0.14678379549792453,\n",
       " 0.0016264718626075592,\n",
       " 0.1880313746144111,\n",
       " -0.5314753484807966,\n",
       " -0.04499470873039968,\n",
       " -0.6004450713738265,\n",
       " 0.3791488406157839,\n",
       " -0.24284201036329023,\n",
       " -0.479764800523526,\n",
       " 0.41278891946222984,\n",
       " -0.31898198964699986,\n",
       " 0.2387315024193981,\n",
       " -0.09964833696611208,\n",
       " -0.22830763231343099,\n",
       " 0.2432215939822413,\n",
       " 0.2160326379219839,\n",
       " 0.2789536645119597,\n",
       " 0.16662576474709567,\n",
       " -0.38964335878401357,\n",
       " -0.40249920676492934,\n",
       " 0.30875590958734733,\n",
       " -0.24290446002925137,\n",
       " 0.284319257972669,\n",
       " 0.2614828535412812,\n",
       " 0.4848711432584878,\n",
       " 0.1345195287070453,\n",
       " 0.4817113347124291,\n",
       " 0.2198252036147892,\n",
       " 0.16450783448533457,\n",
       " 0.13377682457897322,\n",
       " 0.2568987665380291,\n",
       " 0.0644537544773982,\n",
       " 0.21101318172659944,\n",
       " -0.4672272206043715,\n",
       " -0.06334871934313924,\n",
       " 0.48075207082237625,\n",
       " 0.003165608609094761,\n",
       " -0.4047495956554883,\n",
       " 0.2520516416937255,\n",
       " -0.3581525060312458,\n",
       " 0.257182324362617,\n",
       " 0.07691728461074376,\n",
       " 0.0872251032738518,\n",
       " -0.5667961524661962,\n",
       " 0.08638932679957634,\n",
       " 0.3166635492219143,\n",
       " -0.2643660127429257,\n",
       " -0.4094030560542308,\n",
       " 0.23375896412284192,\n",
       " 0.50899438990362,\n",
       " -0.10434762069209569,\n",
       " 0.1762115465706131,\n",
       " 0.11333479330372143,\n",
       " -0.008625862927033268,\n",
       " 0.062053432270431585,\n",
       " 0.07470041950088557,\n",
       " -0.052608497801969634,\n",
       " -0.08449264785534183,\n",
       " 0.0411660244307086,\n",
       " -0.23873094617852075,\n",
       " 0.45767758131023584,\n",
       " -0.18107259637804418,\n",
       " -0.7325760945598745,\n",
       " -0.049019386423424294,\n",
       " 0.2914987236697755,\n",
       " -0.3786880556070287,\n",
       " 0.19033702955698573,\n",
       " 0.027121761651699217,\n",
       " -0.10088238866842403,\n",
       " -0.09622955998747784,\n",
       " -0.32445752894992097,\n",
       " -0.07366734792708485,\n",
       " -0.10327323211944872,\n",
       " 0.49542644397948266,\n",
       " -0.12863787369070678,\n",
       " -0.03747820923658196,\n",
       " -0.257592691891972,\n",
       " -0.35953157477430864,\n",
       " -0.10918187658978695,\n",
       " -0.3129669419881793,\n",
       " 0.31073416894989236,\n",
       " 0.1398816210899838,\n",
       " 0.04198142044214137,\n",
       " -0.0678504233843853,\n",
       " 0.3508687453445418,\n",
       " -0.3903374832266877,\n",
       " -0.7163340817061226,\n",
       " -0.13742871538099166,\n",
       " -0.14465975527579644,\n",
       " -0.12399060583513233,\n",
       " -0.15543854019446712,\n",
       " 0.2123339111435314,\n",
       " -0.33477222614192215,\n",
       " 0.1445274900923721,\n",
       " 0.09046003126499613,\n",
       " 0.10601177409952811,\n",
       " -0.09539934582295473,\n",
       " -0.22366481672301575,\n",
       " -0.07023794308634024,\n",
       " -0.4952570831131311,\n",
       " -0.011207937117802658,\n",
       " 0.20025803043816381,\n",
       " 0.42853169460684626,\n",
       " 0.2447777928232142,\n",
       " 0.2684048408169417,\n",
       " 0.017676191913921002,\n",
       " 0.10785357548476782,\n",
       " 0.0350650269852224,\n",
       " -0.05440504183059147,\n",
       " -0.44426106965309486,\n",
       " -0.12274472281407611,\n",
       " 0.08942099511418178,\n",
       " 0.4837578380272589,\n",
       " 0.32568213607598295,\n",
       " -0.086519226621391,\n",
       " -0.16259877830785285,\n",
       " 0.19276979421624674,\n",
       " 0.171846055402483,\n",
       " -0.23702840338941655,\n",
       " -0.11828091490380643,\n",
       " 0.029603585494271556,\n",
       " 0.7479980423217683,\n",
       " -0.35433160062288493,\n",
       " -0.5175922343511559,\n",
       " -0.21424682122298577,\n",
       " -0.16895549281133526,\n",
       " -0.5793818333187915,\n",
       " -0.1708201529609994,\n",
       " -0.2491142905857373,\n",
       " 0.3957642539450603,\n",
       " 0.022880866551275858,\n",
       " -0.2829749037962017,\n",
       " 0.6071408790711246,\n",
       " -0.2684997135376932,\n",
       " -0.019035981628718446,\n",
       " -0.05711392345887134,\n",
       " -0.14991650203785412,\n",
       " -0.025175449976387654,\n",
       " 0.4724690227892552,\n",
       " 0.16442849309825647,\n",
       " 0.6345927310079844,\n",
       " -0.1702387092829838,\n",
       " -0.5289919705377883,\n",
       " 0.5414285478130125,\n",
       " -0.07645871764853496,\n",
       " 0.13349142933589064,\n",
       " -0.18445717333611356,\n",
       " -0.23710607207470957,\n",
       " -0.4069031963393286,\n",
       " -0.12430919865849432,\n",
       " 0.3483934845909573,\n",
       " -0.5504824860183533,\n",
       " 0.20257177590931974,\n",
       " -0.3162346174875381,\n",
       " -0.4202067371841167,\n",
       " -0.10375997001870019,\n",
       " -0.02367306443014172,\n",
       " 0.15207856149211807,\n",
       " -0.035827525560051754,\n",
       " -0.0897498907223735,\n",
       " -0.3920195391750383,\n",
       " 0.09086706184621107,\n",
       " 0.5525742640638498,\n",
       " -0.08692158142375206,\n",
       " 0.1640110316379264,\n",
       " 0.59178751159385,\n",
       " 0.16494200313036345,\n",
       " -0.05306752175516749,\n",
       " -0.0682730724933549,\n",
       " 0.13738174343009746,\n",
       " -0.45689401058868384,\n",
       " 0.2550493475829114,\n",
       " -0.24539968670535472,\n",
       " -0.10121939049179218,\n",
       " 0.24044388530285232,\n",
       " 0.29799754094369746,\n",
       " 0.020961256858413435,\n",
       " 0.3599429777221985,\n",
       " 0.11989383260473119,\n",
       " -0.2158332297898653,\n",
       " -0.0010715951664224121,\n",
       " -0.2130280022030604,\n",
       " 0.3186328431082188,\n",
       " 0.15168489552928577,\n",
       " -0.3394785617352909,\n",
       " 0.25010452984628273,\n",
       " -0.23883389056547344,\n",
       " 0.09802361635527745,\n",
       " -0.629236982139247,\n",
       " 0.03794961563812649,\n",
       " -0.3807625102722625,\n",
       " -0.2465806336914511,\n",
       " 0.0340932434669412,\n",
       " 0.16855405443462246,\n",
       " 0.5823841735267195,\n",
       " -0.23679962146437106,\n",
       " 0.13786058788221567,\n",
       " -0.33078397357414246,\n",
       " 0.20859436779809926,\n",
       " -0.34155997046744346,\n",
       " 0.08620816125488773,\n",
       " -0.5371503949405962,\n",
       " 0.2786080992688085,\n",
       " 0.02456760898493826,\n",
       " 0.2573567121734186,\n",
       " -0.1553103539367271,\n",
       " 0.43484521165351,\n",
       " -0.802594836150746,\n",
       " -0.08745183636344223,\n",
       " -0.5526563202796808,\n",
       " -0.1766338252983246,\n",
       " 0.19637729042378282,\n",
       " 0.030729352456233983,\n",
       " 0.6574093722892087,\n",
       " -0.2733336174135559,\n",
       " -0.10239147671700266,\n",
       " 0.3543033485102285,\n",
       " 0.17469231276163555,\n",
       " -0.21402271086799374,\n",
       " 0.12373705357381937,\n",
       " 0.09095211136011017,\n",
       " -0.20227738812977236,\n",
       " 0.020988988545383336,\n",
       " -0.19512512714135255,\n",
       " -0.2371556883541075,\n",
       " 0.017584395060623592,\n",
       " -0.12250875530514804,\n",
       " -0.23657959689390395,\n",
       " -0.08737553367760142,\n",
       " 0.12329383452347997,\n",
       " -0.10695384596411373,\n",
       " -0.12507373389126997,\n",
       " -0.4060688646227959,\n",
       " 0.6214957161884911,\n",
       " 0.36395605361047956,\n",
       " 0.2340616737625112,\n",
       " -0.16560524901197482,\n",
       " -0.5312397625298217,\n",
       " -0.036538159475099974,\n",
       " -0.3640443172568837,\n",
       " -0.3173971557998243,\n",
       " 0.15663287521496727,\n",
       " -0.07543520523989855,\n",
       " 0.030372967637589454,\n",
       " 0.23950924484915959,\n",
       " -0.19327411998628463,\n",
       " -0.4242856528803429,\n",
       " 0.3250118304958107,\n",
       " 0.2905329323146475,\n",
       " 0.10934857111718088,\n",
       " 0.11602525705384892,\n",
       " 0.19722207761253685,\n",
       " 0.23523609733325657,\n",
       " -0.14956407871119382,\n",
       " -0.5638298061396938,\n",
       " -0.4441864702260716,\n",
       " -0.06270767274125433,\n",
       " -0.03018195613938701,\n",
       " -0.15713161848591994,\n",
       " -0.13906488620961,\n",
       " 0.07165525390135485,\n",
       " -0.39293303035552185,\n",
       " -0.5112155655685342,\n",
       " -0.5778861608622492,\n",
       " -0.3631862050172572,\n",
       " -0.3413382213079217,\n",
       " 0.4098750476691464,\n",
       " -0.13197903420626744,\n",
       " -0.3560152380731836,\n",
       " 0.34408512803850044,\n",
       " -0.08509110363348782,\n",
       " 0.42383569183908776,\n",
       " -0.017469397762170047,\n",
       " 0.18919188844867563,\n",
       " -0.0934309408802676,\n",
       " 0.33045264634270666,\n",
       " 0.265852789291813,\n",
       " -0.3901968952337711,\n",
       " -0.3834350807316582,\n",
       " 0.014591320007951936,\n",
       " -0.01808590809403654,\n",
       " 0.179047504955264,\n",
       " 0.06633113694363146,\n",
       " 0.15791640140270147,\n",
       " 0.42211398769390485,\n",
       " -0.47849879037553933,\n",
       " -0.20065566957370606,\n",
       " 0.4403809072546494,\n",
       " -0.03927558652569019,\n",
       " -0.0023943870175742177,\n",
       " -0.596396295248951,\n",
       " -0.006152951225402603,\n",
       " 0.22209821937312313,\n",
       " 0.4175134382981014,\n",
       " 0.05561371134720616,\n",
       " -0.6227310464674076,\n",
       " 0.28853880312721003,\n",
       " -0.011592137996018437,\n",
       " 0.11182985552497371,\n",
       " -0.06041735712665286,\n",
       " -0.008578320749592194,\n",
       " 0.048806104064880174,\n",
       " -0.3492595906714371,\n",
       " 0.026456467423287222,\n",
       " 0.04308315819818631,\n",
       " -0.3816676016540157,\n",
       " 0.28259887935385564,\n",
       " 0.3971341214821109,\n",
       " -0.0027772361801510215,\n",
       " -0.21949433236417804,\n",
       " 0.6798936070274237,\n",
       " -0.2847608148187817,\n",
       " -0.14865752415508382,\n",
       " 0.3099743731664546,\n",
       " -0.3116865119646093,\n",
       " 0.23656802463693793,\n",
       " 0.1500103701364992,\n",
       " 0.01398344995496359,\n",
       " -0.5409076881591659,\n",
       " -0.34394915704967843,\n",
       " 0.16374988167220295,\n",
       " -0.5079795129281592,\n",
       " 0.05432366639473685,\n",
       " 0.09370138448846888,\n",
       " 0.39357852040512853,\n",
       " 0.6407669794962203,\n",
       " 0.34059497805750993,\n",
       " 0.1806309839430753,\n",
       " -0.6275741490159703,\n",
       " -0.6839350125774502,\n",
       " 0.12445510914966462,\n",
       " -0.08908169493921037,\n",
       " 0.46313613171142265,\n",
       " -0.1630734902075801,\n",
       " -0.20596349305290573,\n",
       " 0.2624149904260946,\n",
       " -0.20653153483050346,\n",
       " 0.07978437108823755,\n",
       " 0.06419672922049813,\n",
       " 0.20999749421233105,\n",
       " 1.1636923838017594,\n",
       " -0.22866006917271875,\n",
       " -0.5117729588767475,\n",
       " 0.18288841028820002,\n",
       " 0.20094111846321994,\n",
       " -0.1407388815857189,\n",
       " -0.28891608677577096,\n",
       " -0.3961615876256701,\n",
       " -0.059600545267926464,\n",
       " 0.4268327378041761,\n",
       " 0.6504253187437143,\n",
       " -0.1351071815205387,\n",
       " 0.5489885880056988,\n",
       " 0.17429386409980907,\n",
       " 0.1418265628947779,\n",
       " -0.5428301205655544,\n",
       " -0.1835722104846127,\n",
       " 0.18425379346578552,\n",
       " 0.35216397787257847,\n",
       " 0.4674097910938997,\n",
       " -0.42172320517778417,\n",
       " -0.154701010550923,\n",
       " -0.021343481357320115,\n",
       " -0.14781522284405924,\n",
       " -0.1421013920091525,\n",
       " 0.18650262792579042,\n",
       " -0.1258697527683239,\n",
       " 0.06344528311143449,\n",
       " 0.4643999572845132,\n",
       " 0.0820376281530173,\n",
       " -0.17715359518550144,\n",
       " 0.39997234030622053,\n",
       " 0.08559528404177286,\n",
       " 0.20436824116734442,\n",
       " 0.3298824596380143,\n",
       " -0.2355855751278284,\n",
       " -0.1510545823230416,\n",
       " -0.07867703523103842,\n",
       " 0.2640174165618703,\n",
       " -0.38935774667965006,\n",
       " -0.1684034304356885,\n",
       " 0.08133883978302947,\n",
       " -0.19626150940194975,\n",
       " 0.229389949450308,\n",
       " 0.3286170464331235,\n",
       " -0.30019582529953937,\n",
       " -0.622680124893435,\n",
       " 0.6754152191692242,\n",
       " 0.007187435193912961,\n",
       " 0.15526027959785438,\n",
       " -0.14521949992942496,\n",
       " -0.14511750011450886,\n",
       " 0.27995995892308656,\n",
       " -0.15427071841568818,\n",
       " 0.05507450733500718,\n",
       " 0.1382554511706644,\n",
       " -0.11096722937998038,\n",
       " 0.39612803767980154,\n",
       " 0.12800877510264286,\n",
       " -0.37933179038671483,\n",
       " 0.13647244781085988,\n",
       " 0.06965008670619,\n",
       " 0.05836369877403058,\n",
       " -0.2707937728781076,\n",
       " -0.5106786630528006,\n",
       " 0.672694341254271,\n",
       " -0.19207847718971038,\n",
       " 0.18313287444505022,\n",
       " 0.051821069666402764,\n",
       " -0.11337530311874389,\n",
       " 0.1353752380040305,\n",
       " 0.29784674083870755,\n",
       " 0.3074020619986868,\n",
       " -0.4429905453469871,\n",
       " -0.4465844867293356,\n",
       " 0.3006524137879012,\n",
       " 0.4832151585178508,\n",
       " -0.4717024077934582,\n",
       " -0.2895085307152101,\n",
       " -0.5335870981522532,\n",
       " 0.16496568764290487,\n",
       " -0.5021838464607242,\n",
       " 0.03025368421725716,\n",
       " 0.6134801494916076,\n",
       " 0.22608852123016732,\n",
       " 0.057236242916701485,\n",
       " 0.2420788814058028,\n",
       " -0.16749804116690825,\n",
       " 0.1566005793827685,\n",
       " 0.10687468904941966,\n",
       " 0.4871396370839136,\n",
       " 0.12569670308991476,\n",
       " -0.03579279884030484,\n",
       " -0.09352826051897978,\n",
       " 0.41930307096114916,\n",
       " 0.2449945680909309,\n",
       " 0.06936819706680808,\n",
       " -0.03382500117928089,\n",
       " -0.4629002467420946,\n",
       " -0.03782447949183165,\n",
       " 0.35984000965336804,\n",
       " -0.17915906649383828,\n",
       " -0.363133338674686,\n",
       " -0.18452567678906462,\n",
       " 0.04681031195340779,\n",
       " -0.08421693082721049,\n",
       " -0.289474153036025,\n",
       " -0.35446776803232183,\n",
       " -0.2675660350361113,\n",
       " 0.021967907616755156,\n",
       " 0.02183958969092714,\n",
       " -0.5891801418756586,\n",
       " -0.3638851788490456,\n",
       " 0.11371024953029973,\n",
       " -0.12768976784937536,\n",
       " 0.13668200660572438,\n",
       " -0.10055754430845809,\n",
       " -0.42720477078975705,\n",
       " 0.9007392386830304,\n",
       " 0.5695120774686586,\n",
       " 0.5839515426048365,\n",
       " -0.1393727274817138,\n",
       " -0.29509673569612005,\n",
       " 0.06861406563805872,\n",
       " 0.2335510923414006,\n",
       " -0.3383535974029144,\n",
       " 0.35063192251934083,\n",
       " -0.2528610782683245,\n",
       " -0.012680787952433548,\n",
       " -0.4684784733344429,\n",
       " -0.036151321750594434,\n",
       " -0.019029525556845783,\n",
       " 0.07538792864326638,\n",
       " -0.4387817274521808,\n",
       " 0.11461359195936893,\n",
       " 0.33709149908773384,\n",
       " -0.24477752689620047,\n",
       " 0.054746017714847994,\n",
       " -0.1938104024569327,\n",
       " 0.3150313965155078,\n",
       " 0.23422088150061882,\n",
       " 0.3369062443016446,\n",
       " -0.09792895426659243,\n",
       " 0.48931904807861315,\n",
       " 0.3398551709811102,\n",
       " 0.2636764653503292,\n",
       " -0.250111067347234,\n",
       " 0.06496462411203652,\n",
       " -0.5811979685630035,\n",
       " -0.21419397737298596,\n",
       " -0.030896232012821656,\n",
       " -0.7681984574557816,\n",
       " -0.04586561262351552,\n",
       " -0.302998671068508,\n",
       " -0.09272986221137103,\n",
       " -0.11783949606754618,\n",
       " -0.09743266114503513,\n",
       " -0.487460944376636,\n",
       " -0.1286351948757556,\n",
       " -0.1098893834455339,\n",
       " 0.07611800218791132,\n",
       " -0.052190475253496516,\n",
       " 0.11383906747587957,\n",
       " 0.25855859595540664,\n",
       " -0.3607148281145385,\n",
       " -0.3204931960751196,\n",
       " -0.2218797051287993,\n",
       " -0.017540133215646847,\n",
       " -0.25108735482541533,\n",
       " 0.30879347923638534,\n",
       " 0.4538804953020872,\n",
       " -0.015147685072832928,\n",
       " -0.1600329953155324,\n",
       " 0.46600585312270937,\n",
       " 0.19947586123998917,\n",
       " -0.26577894509119915,\n",
       " -0.21504297334462308,\n",
       " -0.26211867341959305,\n",
       " -0.20555902825978478,\n",
       " -0.5450877225837019,\n",
       " 0.5541662017590454,\n",
       " 0.19453655860988306,\n",
       " -0.3521880547295382,\n",
       " 0.26940370969728633,\n",
       " -0.40426427249727226,\n",
       " 0.3881314729765677,\n",
       " 0.04383553441974186,\n",
       " -0.15908393795803022,\n",
       " 0.15397944484129766,\n",
       " 0.6320423586871868,\n",
       " 0.01669745776004561,\n",
       " -0.45749051891428394,\n",
       " 0.15416891122947618,\n",
       " -0.19888941676191507,\n",
       " -0.3091541681567662,\n",
       " -0.6182781772025692,\n",
       " -0.0722588470582366,\n",
       " 0.23934704664833362,\n",
       " 0.2808516969325865,\n",
       " 0.2541734652714922,\n",
       " 0.0610563483256783,\n",
       " -0.09446139460573022,\n",
       " 0.2059341365909404,\n",
       " -0.38321432332497807,\n",
       " ...]"
      ]
     },
     "execution_count": 81,
     "metadata": {},
     "output_type": "execute_result"
    }
   ],
   "source": [
    "diffs"
   ]
  },
  {
   "cell_type": "code",
   "execution_count": 83,
   "id": "8a746ee4-2066-45d6-b777-e5174375a7fa",
   "metadata": {},
   "outputs": [
    {
     "data": {
      "text/plain": [
       "array([0.3878378 , 0.50946619, 0.72120271, 1.33627749])"
      ]
     },
     "execution_count": 83,
     "metadata": {},
     "output_type": "execute_result"
    }
   ],
   "source": [
    "np.percentile(diffs, [90, 95, 99, 100])"
   ]
  },
  {
   "cell_type": "markdown",
   "id": "8312902b-ff0b-4b41-87ad-5d7a7fe19e9f",
   "metadata": {},
   "source": [
    "The calculated difference from the dataset is very extreme relative to the percentiles calculated.  It implies that the data was either from different distributions and thus each distribution would have different properties (unlikely, given the genetic relationships) or that the data contained extreme values due to some other phenomenon."
   ]
  },
  {
   "cell_type": "markdown",
   "id": "ef6aafba",
   "metadata": {},
   "source": [
    "\n"
   ]
  }
 ],
 "metadata": {
  "kernelspec": {
   "display_name": "Python 3 (ipykernel)",
   "language": "python",
   "name": "python3"
  },
  "language_info": {
   "codemirror_mode": {
    "name": "ipython",
    "version": 3
   },
   "file_extension": ".py",
   "mimetype": "text/x-python",
   "name": "python",
   "nbconvert_exporter": "python",
   "pygments_lexer": "ipython3",
   "version": "3.11.7"
  }
 },
 "nbformat": 4,
 "nbformat_minor": 5
}
